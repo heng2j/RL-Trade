{
 "cells": [
  {
   "cell_type": "markdown",
   "metadata": {},
   "source": [
    "# EDA - Exploratory Data Analysis"
   ]
  },
  {
   "cell_type": "markdown",
   "metadata": {},
   "source": [
    "## Import Module"
   ]
  },
  {
   "cell_type": "code",
   "execution_count": 235,
   "metadata": {},
   "outputs": [],
   "source": [
    "import pandas as pd\n",
    "import numpy as np"
   ]
  },
  {
   "cell_type": "markdown",
   "metadata": {},
   "source": [
    "\n",
    "## Load Data"
   ]
  },
  {
   "cell_type": "code",
   "execution_count": 237,
   "metadata": {},
   "outputs": [
    {
     "name": "stdout",
     "output_type": "stream",
     "text": [
      "total 2880\n",
      "-rw-r--r--@ 1 zla0368  10002   387K May 11 23:18 MSFT.csv\n",
      "-rw-r--r--  1 zla0368  10002   383K May 11 23:18 AAPL.csv\n",
      "-rw-r--r--  1 zla0368  10002    35K May 11 23:16 AAPL_sub_Financial_Crisis.csv\n",
      "-rw-r--r--  1 zla0368  10002    32K May 11 23:16 MSFT_sub_Financial_Crisis.csv\n",
      "-rw-r--r--  1 zla0368  10002   328K May 11 22:58 MSFT_OG.csv\n",
      "-rw-r--r--  1 zla0368  10002   267K May  9 15:36 AAPL_OG.csv\n"
     ]
    }
   ],
   "source": [
    "!ls -lht ../data/"
   ]
  },
  {
   "cell_type": "code",
   "execution_count": 238,
   "metadata": {},
   "outputs": [],
   "source": [
    "MSFT_total_df = pd.read_csv('../data/MSFT.csv', index_col=False)"
   ]
  },
  {
   "cell_type": "code",
   "execution_count": 239,
   "metadata": {},
   "outputs": [
    {
     "data": {
      "text/html": [
       "<div>\n",
       "<style scoped>\n",
       "    .dataframe tbody tr th:only-of-type {\n",
       "        vertical-align: middle;\n",
       "    }\n",
       "\n",
       "    .dataframe tbody tr th {\n",
       "        vertical-align: top;\n",
       "    }\n",
       "\n",
       "    .dataframe thead th {\n",
       "        text-align: right;\n",
       "    }\n",
       "</style>\n",
       "<table border=\"1\" class=\"dataframe\">\n",
       "  <thead>\n",
       "    <tr style=\"text-align: right;\">\n",
       "      <th></th>\n",
       "      <th>Date</th>\n",
       "      <th>Open</th>\n",
       "      <th>High</th>\n",
       "      <th>Low</th>\n",
       "      <th>Close</th>\n",
       "      <th>Adj Close</th>\n",
       "      <th>Volume</th>\n",
       "    </tr>\n",
       "  </thead>\n",
       "  <tbody>\n",
       "    <tr>\n",
       "      <th>0</th>\n",
       "      <td>1998-01-02</td>\n",
       "      <td>16.203125</td>\n",
       "      <td>16.437500</td>\n",
       "      <td>16.187500</td>\n",
       "      <td>16.390625</td>\n",
       "      <td>10.516310</td>\n",
       "      <td>39748000</td>\n",
       "    </tr>\n",
       "    <tr>\n",
       "      <th>1</th>\n",
       "      <td>1998-01-05</td>\n",
       "      <td>16.406250</td>\n",
       "      <td>16.703125</td>\n",
       "      <td>15.984375</td>\n",
       "      <td>16.296875</td>\n",
       "      <td>10.456161</td>\n",
       "      <td>80377600</td>\n",
       "    </tr>\n",
       "    <tr>\n",
       "      <th>2</th>\n",
       "      <td>1998-01-06</td>\n",
       "      <td>16.218750</td>\n",
       "      <td>16.625000</td>\n",
       "      <td>16.156250</td>\n",
       "      <td>16.390625</td>\n",
       "      <td>10.516310</td>\n",
       "      <td>67834400</td>\n",
       "    </tr>\n",
       "    <tr>\n",
       "      <th>3</th>\n",
       "      <td>1998-01-07</td>\n",
       "      <td>16.234375</td>\n",
       "      <td>16.398438</td>\n",
       "      <td>15.937500</td>\n",
       "      <td>16.195313</td>\n",
       "      <td>10.390995</td>\n",
       "      <td>61492800</td>\n",
       "    </tr>\n",
       "    <tr>\n",
       "      <th>4</th>\n",
       "      <td>1998-01-08</td>\n",
       "      <td>16.078125</td>\n",
       "      <td>16.515625</td>\n",
       "      <td>15.937500</td>\n",
       "      <td>16.312500</td>\n",
       "      <td>10.466186</td>\n",
       "      <td>77619200</td>\n",
       "    </tr>\n",
       "  </tbody>\n",
       "</table>\n",
       "</div>"
      ],
      "text/plain": [
       "         Date       Open       High        Low      Close  Adj Close    Volume\n",
       "0  1998-01-02  16.203125  16.437500  16.187500  16.390625  10.516310  39748000\n",
       "1  1998-01-05  16.406250  16.703125  15.984375  16.296875  10.456161  80377600\n",
       "2  1998-01-06  16.218750  16.625000  16.156250  16.390625  10.516310  67834400\n",
       "3  1998-01-07  16.234375  16.398438  15.937500  16.195313  10.390995  61492800\n",
       "4  1998-01-08  16.078125  16.515625  15.937500  16.312500  10.466186  77619200"
      ]
     },
     "execution_count": 239,
     "metadata": {},
     "output_type": "execute_result"
    }
   ],
   "source": [
    "MSFT_total_df.head()"
   ]
  },
  {
   "cell_type": "code",
   "execution_count": 240,
   "metadata": {},
   "outputs": [],
   "source": [
    "MSFT_total_df['Date'] = pd.to_datetime(MSFT_total_df['Date'])"
   ]
  },
  {
   "cell_type": "code",
   "execution_count": 241,
   "metadata": {},
   "outputs": [],
   "source": [
    "datetime_index = pd.DatetimeIndex(MSFT_total_df['Date'].values)"
   ]
  },
  {
   "cell_type": "code",
   "execution_count": 242,
   "metadata": {},
   "outputs": [],
   "source": [
    "MSFT_total_df=MSFT_total_df.set_index(datetime_index)"
   ]
  },
  {
   "cell_type": "code",
   "execution_count": 243,
   "metadata": {},
   "outputs": [],
   "source": [
    "MSFT_total_df.drop('Date',axis=1,inplace=True)"
   ]
  },
  {
   "cell_type": "code",
   "execution_count": 244,
   "metadata": {},
   "outputs": [
    {
     "name": "stdout",
     "output_type": "stream",
     "text": [
      "<class 'pandas.core.frame.DataFrame'>\n",
      "DatetimeIndex: 5624 entries, 1998-01-02 to 2020-05-08\n",
      "Data columns (total 6 columns):\n",
      " #   Column     Non-Null Count  Dtype  \n",
      "---  ------     --------------  -----  \n",
      " 0   Open       5624 non-null   float64\n",
      " 1   High       5624 non-null   float64\n",
      " 2   Low        5624 non-null   float64\n",
      " 3   Close      5624 non-null   float64\n",
      " 4   Adj Close  5624 non-null   float64\n",
      " 5   Volume     5624 non-null   int64  \n",
      "dtypes: float64(5), int64(1)\n",
      "memory usage: 307.6 KB\n"
     ]
    }
   ],
   "source": [
    "MSFT_total_df.info()"
   ]
  },
  {
   "cell_type": "code",
   "execution_count": 245,
   "metadata": {},
   "outputs": [
    {
     "data": {
      "text/html": [
       "<div>\n",
       "<style scoped>\n",
       "    .dataframe tbody tr th:only-of-type {\n",
       "        vertical-align: middle;\n",
       "    }\n",
       "\n",
       "    .dataframe tbody tr th {\n",
       "        vertical-align: top;\n",
       "    }\n",
       "\n",
       "    .dataframe thead th {\n",
       "        text-align: right;\n",
       "    }\n",
       "</style>\n",
       "<table border=\"1\" class=\"dataframe\">\n",
       "  <thead>\n",
       "    <tr style=\"text-align: right;\">\n",
       "      <th></th>\n",
       "      <th>Open</th>\n",
       "      <th>High</th>\n",
       "      <th>Low</th>\n",
       "      <th>Close</th>\n",
       "      <th>Adj Close</th>\n",
       "      <th>Volume</th>\n",
       "    </tr>\n",
       "  </thead>\n",
       "  <tbody>\n",
       "    <tr>\n",
       "      <th>1998-01-02</th>\n",
       "      <td>16.203125</td>\n",
       "      <td>16.437500</td>\n",
       "      <td>16.187500</td>\n",
       "      <td>16.390625</td>\n",
       "      <td>10.516310</td>\n",
       "      <td>39748000</td>\n",
       "    </tr>\n",
       "    <tr>\n",
       "      <th>1998-01-05</th>\n",
       "      <td>16.406250</td>\n",
       "      <td>16.703125</td>\n",
       "      <td>15.984375</td>\n",
       "      <td>16.296875</td>\n",
       "      <td>10.456161</td>\n",
       "      <td>80377600</td>\n",
       "    </tr>\n",
       "    <tr>\n",
       "      <th>1998-01-06</th>\n",
       "      <td>16.218750</td>\n",
       "      <td>16.625000</td>\n",
       "      <td>16.156250</td>\n",
       "      <td>16.390625</td>\n",
       "      <td>10.516310</td>\n",
       "      <td>67834400</td>\n",
       "    </tr>\n",
       "    <tr>\n",
       "      <th>1998-01-07</th>\n",
       "      <td>16.234375</td>\n",
       "      <td>16.398438</td>\n",
       "      <td>15.937500</td>\n",
       "      <td>16.195313</td>\n",
       "      <td>10.390995</td>\n",
       "      <td>61492800</td>\n",
       "    </tr>\n",
       "    <tr>\n",
       "      <th>1998-01-08</th>\n",
       "      <td>16.078125</td>\n",
       "      <td>16.515625</td>\n",
       "      <td>15.937500</td>\n",
       "      <td>16.312500</td>\n",
       "      <td>10.466186</td>\n",
       "      <td>77619200</td>\n",
       "    </tr>\n",
       "  </tbody>\n",
       "</table>\n",
       "</div>"
      ],
      "text/plain": [
       "                 Open       High        Low      Close  Adj Close    Volume\n",
       "1998-01-02  16.203125  16.437500  16.187500  16.390625  10.516310  39748000\n",
       "1998-01-05  16.406250  16.703125  15.984375  16.296875  10.456161  80377600\n",
       "1998-01-06  16.218750  16.625000  16.156250  16.390625  10.516310  67834400\n",
       "1998-01-07  16.234375  16.398438  15.937500  16.195313  10.390995  61492800\n",
       "1998-01-08  16.078125  16.515625  15.937500  16.312500  10.466186  77619200"
      ]
     },
     "execution_count": 245,
     "metadata": {},
     "output_type": "execute_result"
    }
   ],
   "source": [
    "MSFT_total_df.head()"
   ]
  },
  {
   "cell_type": "code",
   "execution_count": 246,
   "metadata": {},
   "outputs": [],
   "source": [
    "### Visualizing the close price"
   ]
  },
  {
   "cell_type": "code",
   "execution_count": 247,
   "metadata": {},
   "outputs": [],
   "source": [
    "MSFT_total_close_df = MSFT_total_df[['Close']]"
   ]
  },
  {
   "cell_type": "code",
   "execution_count": 248,
   "metadata": {},
   "outputs": [
    {
     "data": {
      "text/plain": [
       "<matplotlib.axes._subplots.AxesSubplot at 0x7ffaf0072c10>"
      ]
     },
     "execution_count": 248,
     "metadata": {},
     "output_type": "execute_result"
    },
    {
     "data": {
      "image/png": "[encoded data removed]",
      "text/plain": [
       "<matplotlib.figure.Figure at 0x7ffaf00743d0>"
      ]
     },
     "metadata": {
      "needs_background": "light"
     },
     "output_type": "display_data"
    }
   ],
   "source": [
    "MSFT_total_close_df.plot.line()"
   ]
  },
  {
   "cell_type": "code",
   "execution_count": null,
   "metadata": {},
   "outputs": [],
   "source": []
  },
  {
   "cell_type": "markdown",
   "metadata": {},
   "source": [
    "### Extract the subset during the 2008 finanical crises \n",
    "\n",
    "September 2007 to September 2009"
   ]
  },
  {
   "cell_type": "code",
   "execution_count": 249,
   "metadata": {},
   "outputs": [],
   "source": [
    "MSFT_sub_df = pd.read_csv('../data/MSFT.csv', index_col=False)"
   ]
  },
  {
   "cell_type": "code",
   "execution_count": 250,
   "metadata": {},
   "outputs": [
    {
     "data": {
      "text/html": [
       "<div>\n",
       "<style scoped>\n",
       "    .dataframe tbody tr th:only-of-type {\n",
       "        vertical-align: middle;\n",
       "    }\n",
       "\n",
       "    .dataframe tbody tr th {\n",
       "        vertical-align: top;\n",
       "    }\n",
       "\n",
       "    .dataframe thead th {\n",
       "        text-align: right;\n",
       "    }\n",
       "</style>\n",
       "<table border=\"1\" class=\"dataframe\">\n",
       "  <thead>\n",
       "    <tr style=\"text-align: right;\">\n",
       "      <th></th>\n",
       "      <th>Date</th>\n",
       "      <th>Open</th>\n",
       "      <th>High</th>\n",
       "      <th>Low</th>\n",
       "      <th>Close</th>\n",
       "      <th>Adj Close</th>\n",
       "      <th>Volume</th>\n",
       "    </tr>\n",
       "  </thead>\n",
       "  <tbody>\n",
       "    <tr>\n",
       "      <th>0</th>\n",
       "      <td>1998-01-02</td>\n",
       "      <td>16.203125</td>\n",
       "      <td>16.437500</td>\n",
       "      <td>16.187500</td>\n",
       "      <td>16.390625</td>\n",
       "      <td>10.516310</td>\n",
       "      <td>39748000</td>\n",
       "    </tr>\n",
       "    <tr>\n",
       "      <th>1</th>\n",
       "      <td>1998-01-05</td>\n",
       "      <td>16.406250</td>\n",
       "      <td>16.703125</td>\n",
       "      <td>15.984375</td>\n",
       "      <td>16.296875</td>\n",
       "      <td>10.456161</td>\n",
       "      <td>80377600</td>\n",
       "    </tr>\n",
       "    <tr>\n",
       "      <th>2</th>\n",
       "      <td>1998-01-06</td>\n",
       "      <td>16.218750</td>\n",
       "      <td>16.625000</td>\n",
       "      <td>16.156250</td>\n",
       "      <td>16.390625</td>\n",
       "      <td>10.516310</td>\n",
       "      <td>67834400</td>\n",
       "    </tr>\n",
       "    <tr>\n",
       "      <th>3</th>\n",
       "      <td>1998-01-07</td>\n",
       "      <td>16.234375</td>\n",
       "      <td>16.398438</td>\n",
       "      <td>15.937500</td>\n",
       "      <td>16.195313</td>\n",
       "      <td>10.390995</td>\n",
       "      <td>61492800</td>\n",
       "    </tr>\n",
       "    <tr>\n",
       "      <th>4</th>\n",
       "      <td>1998-01-08</td>\n",
       "      <td>16.078125</td>\n",
       "      <td>16.515625</td>\n",
       "      <td>15.937500</td>\n",
       "      <td>16.312500</td>\n",
       "      <td>10.466186</td>\n",
       "      <td>77619200</td>\n",
       "    </tr>\n",
       "    <tr>\n",
       "      <th>...</th>\n",
       "      <td>...</td>\n",
       "      <td>...</td>\n",
       "      <td>...</td>\n",
       "      <td>...</td>\n",
       "      <td>...</td>\n",
       "      <td>...</td>\n",
       "      <td>...</td>\n",
       "    </tr>\n",
       "    <tr>\n",
       "      <th>5619</th>\n",
       "      <td>2020-05-04</td>\n",
       "      <td>174.490005</td>\n",
       "      <td>179.000000</td>\n",
       "      <td>173.800003</td>\n",
       "      <td>178.839996</td>\n",
       "      <td>178.839996</td>\n",
       "      <td>30372900</td>\n",
       "    </tr>\n",
       "    <tr>\n",
       "      <th>5620</th>\n",
       "      <td>2020-05-05</td>\n",
       "      <td>180.619995</td>\n",
       "      <td>183.649994</td>\n",
       "      <td>179.899994</td>\n",
       "      <td>180.759995</td>\n",
       "      <td>180.759995</td>\n",
       "      <td>36839200</td>\n",
       "    </tr>\n",
       "    <tr>\n",
       "      <th>5621</th>\n",
       "      <td>2020-05-06</td>\n",
       "      <td>182.080002</td>\n",
       "      <td>184.199997</td>\n",
       "      <td>181.630005</td>\n",
       "      <td>182.539993</td>\n",
       "      <td>182.539993</td>\n",
       "      <td>32139300</td>\n",
       "    </tr>\n",
       "    <tr>\n",
       "      <th>5622</th>\n",
       "      <td>2020-05-07</td>\n",
       "      <td>184.169998</td>\n",
       "      <td>184.550003</td>\n",
       "      <td>182.580002</td>\n",
       "      <td>183.600006</td>\n",
       "      <td>183.600006</td>\n",
       "      <td>28316000</td>\n",
       "    </tr>\n",
       "    <tr>\n",
       "      <th>5623</th>\n",
       "      <td>2020-05-08</td>\n",
       "      <td>184.979996</td>\n",
       "      <td>185.000000</td>\n",
       "      <td>183.360001</td>\n",
       "      <td>184.679993</td>\n",
       "      <td>184.679993</td>\n",
       "      <td>30912600</td>\n",
       "    </tr>\n",
       "  </tbody>\n",
       "</table>\n",
       "<p>5624 rows × 7 columns</p>\n",
       "</div>"
      ],
      "text/plain": [
       "            Date        Open        High         Low       Close   Adj Close  \\\n",
       "0     1998-01-02   16.203125   16.437500   16.187500   16.390625   10.516310   \n",
       "1     1998-01-05   16.406250   16.703125   15.984375   16.296875   10.456161   \n",
       "2     1998-01-06   16.218750   16.625000   16.156250   16.390625   10.516310   \n",
       "3     1998-01-07   16.234375   16.398438   15.937500   16.195313   10.390995   \n",
       "4     1998-01-08   16.078125   16.515625   15.937500   16.312500   10.466186   \n",
       "...          ...         ...         ...         ...         ...         ...   \n",
       "5619  2020-05-04  174.490005  179.000000  173.800003  178.839996  178.839996   \n",
       "5620  2020-05-05  180.619995  183.649994  179.899994  180.759995  180.759995   \n",
       "5621  2020-05-06  182.080002  184.199997  181.630005  182.539993  182.539993   \n",
       "5622  2020-05-07  184.169998  184.550003  182.580002  183.600006  183.600006   \n",
       "5623  2020-05-08  184.979996  185.000000  183.360001  184.679993  184.679993   \n",
       "\n",
       "        Volume  \n",
       "0     39748000  \n",
       "1     80377600  \n",
       "2     67834400  \n",
       "3     61492800  \n",
       "4     77619200  \n",
       "...        ...  \n",
       "5619  30372900  \n",
       "5620  36839200  \n",
       "5621  32139300  \n",
       "5622  28316000  \n",
       "5623  30912600  \n",
       "\n",
       "[5624 rows x 7 columns]"
      ]
     },
     "execution_count": 250,
     "metadata": {},
     "output_type": "execute_result"
    }
   ],
   "source": [
    "MSFT_sub_df"
   ]
  },
  {
   "cell_type": "code",
   "execution_count": 251,
   "metadata": {},
   "outputs": [],
   "source": [
    "MSFT_sub_df = MSFT_sub_df[2420:2940]"
   ]
  },
  {
   "cell_type": "code",
   "execution_count": 252,
   "metadata": {},
   "outputs": [
    {
     "data": {
      "text/html": [
       "<div>\n",
       "<style scoped>\n",
       "    .dataframe tbody tr th:only-of-type {\n",
       "        vertical-align: middle;\n",
       "    }\n",
       "\n",
       "    .dataframe tbody tr th {\n",
       "        vertical-align: top;\n",
       "    }\n",
       "\n",
       "    .dataframe thead th {\n",
       "        text-align: right;\n",
       "    }\n",
       "</style>\n",
       "<table border=\"1\" class=\"dataframe\">\n",
       "  <thead>\n",
       "    <tr style=\"text-align: right;\">\n",
       "      <th></th>\n",
       "      <th>Date</th>\n",
       "      <th>Open</th>\n",
       "      <th>High</th>\n",
       "      <th>Low</th>\n",
       "      <th>Close</th>\n",
       "      <th>Adj Close</th>\n",
       "      <th>Volume</th>\n",
       "    </tr>\n",
       "  </thead>\n",
       "  <tbody>\n",
       "    <tr>\n",
       "      <th>2420</th>\n",
       "      <td>2007-08-17</td>\n",
       "      <td>28.090000</td>\n",
       "      <td>28.25</td>\n",
       "      <td>27.820000</td>\n",
       "      <td>28.250000</td>\n",
       "      <td>21.204178</td>\n",
       "      <td>76747700</td>\n",
       "    </tr>\n",
       "    <tr>\n",
       "      <th>2421</th>\n",
       "      <td>2007-08-20</td>\n",
       "      <td>28.180000</td>\n",
       "      <td>28.49</td>\n",
       "      <td>28.080000</td>\n",
       "      <td>28.260000</td>\n",
       "      <td>21.211685</td>\n",
       "      <td>49952000</td>\n",
       "    </tr>\n",
       "    <tr>\n",
       "      <th>2422</th>\n",
       "      <td>2007-08-21</td>\n",
       "      <td>28.100000</td>\n",
       "      <td>28.32</td>\n",
       "      <td>27.870001</td>\n",
       "      <td>28.070000</td>\n",
       "      <td>21.069067</td>\n",
       "      <td>50786200</td>\n",
       "    </tr>\n",
       "    <tr>\n",
       "      <th>2423</th>\n",
       "      <td>2007-08-22</td>\n",
       "      <td>28.270000</td>\n",
       "      <td>28.32</td>\n",
       "      <td>28.010000</td>\n",
       "      <td>28.219999</td>\n",
       "      <td>21.181658</td>\n",
       "      <td>44763500</td>\n",
       "    </tr>\n",
       "    <tr>\n",
       "      <th>2424</th>\n",
       "      <td>2007-08-23</td>\n",
       "      <td>28.280001</td>\n",
       "      <td>28.33</td>\n",
       "      <td>28.100000</td>\n",
       "      <td>28.299999</td>\n",
       "      <td>21.241705</td>\n",
       "      <td>33886600</td>\n",
       "    </tr>\n",
       "  </tbody>\n",
       "</table>\n",
       "</div>"
      ],
      "text/plain": [
       "            Date       Open   High        Low      Close  Adj Close    Volume\n",
       "2420  2007-08-17  28.090000  28.25  27.820000  28.250000  21.204178  76747700\n",
       "2421  2007-08-20  28.180000  28.49  28.080000  28.260000  21.211685  49952000\n",
       "2422  2007-08-21  28.100000  28.32  27.870001  28.070000  21.069067  50786200\n",
       "2423  2007-08-22  28.270000  28.32  28.010000  28.219999  21.181658  44763500\n",
       "2424  2007-08-23  28.280001  28.33  28.100000  28.299999  21.241705  33886600"
      ]
     },
     "execution_count": 252,
     "metadata": {},
     "output_type": "execute_result"
    }
   ],
   "source": [
    "MSFT_sub_df.head()"
   ]
  },
  {
   "cell_type": "code",
   "execution_count": 253,
   "metadata": {},
   "outputs": [
    {
     "data": {
      "text/html": [
       "<div>\n",
       "<style scoped>\n",
       "    .dataframe tbody tr th:only-of-type {\n",
       "        vertical-align: middle;\n",
       "    }\n",
       "\n",
       "    .dataframe tbody tr th {\n",
       "        vertical-align: top;\n",
       "    }\n",
       "\n",
       "    .dataframe thead th {\n",
       "        text-align: right;\n",
       "    }\n",
       "</style>\n",
       "<table border=\"1\" class=\"dataframe\">\n",
       "  <thead>\n",
       "    <tr style=\"text-align: right;\">\n",
       "      <th></th>\n",
       "      <th>Date</th>\n",
       "      <th>Open</th>\n",
       "      <th>High</th>\n",
       "      <th>Low</th>\n",
       "      <th>Close</th>\n",
       "      <th>Adj Close</th>\n",
       "      <th>Volume</th>\n",
       "    </tr>\n",
       "  </thead>\n",
       "  <tbody>\n",
       "    <tr>\n",
       "      <th>2935</th>\n",
       "      <td>2009-09-02</td>\n",
       "      <td>23.820000</td>\n",
       "      <td>24.139999</td>\n",
       "      <td>23.780001</td>\n",
       "      <td>23.860001</td>\n",
       "      <td>18.646608</td>\n",
       "      <td>40771300</td>\n",
       "    </tr>\n",
       "    <tr>\n",
       "      <th>2936</th>\n",
       "      <td>2009-09-03</td>\n",
       "      <td>23.910000</td>\n",
       "      <td>24.139999</td>\n",
       "      <td>23.760000</td>\n",
       "      <td>24.110001</td>\n",
       "      <td>18.841991</td>\n",
       "      <td>34120000</td>\n",
       "    </tr>\n",
       "    <tr>\n",
       "      <th>2937</th>\n",
       "      <td>2009-09-04</td>\n",
       "      <td>24.090000</td>\n",
       "      <td>24.799999</td>\n",
       "      <td>24.080000</td>\n",
       "      <td>24.620001</td>\n",
       "      <td>19.240555</td>\n",
       "      <td>44999700</td>\n",
       "    </tr>\n",
       "    <tr>\n",
       "      <th>2938</th>\n",
       "      <td>2009-09-08</td>\n",
       "      <td>24.620001</td>\n",
       "      <td>24.840000</td>\n",
       "      <td>24.410000</td>\n",
       "      <td>24.820000</td>\n",
       "      <td>19.396851</td>\n",
       "      <td>53737100</td>\n",
       "    </tr>\n",
       "    <tr>\n",
       "      <th>2939</th>\n",
       "      <td>2009-09-09</td>\n",
       "      <td>24.740000</td>\n",
       "      <td>24.950001</td>\n",
       "      <td>24.670000</td>\n",
       "      <td>24.780001</td>\n",
       "      <td>19.365593</td>\n",
       "      <td>49900300</td>\n",
       "    </tr>\n",
       "  </tbody>\n",
       "</table>\n",
       "</div>"
      ],
      "text/plain": [
       "            Date       Open       High        Low      Close  Adj Close  \\\n",
       "2935  2009-09-02  23.820000  24.139999  23.780001  23.860001  18.646608   \n",
       "2936  2009-09-03  23.910000  24.139999  23.760000  24.110001  18.841991   \n",
       "2937  2009-09-04  24.090000  24.799999  24.080000  24.620001  19.240555   \n",
       "2938  2009-09-08  24.620001  24.840000  24.410000  24.820000  19.396851   \n",
       "2939  2009-09-09  24.740000  24.950001  24.670000  24.780001  19.365593   \n",
       "\n",
       "        Volume  \n",
       "2935  40771300  \n",
       "2936  34120000  \n",
       "2937  44999700  \n",
       "2938  53737100  \n",
       "2939  49900300  "
      ]
     },
     "execution_count": 253,
     "metadata": {},
     "output_type": "execute_result"
    }
   ],
   "source": [
    "MSFT_sub_df.tail()"
   ]
  },
  {
   "cell_type": "code",
   "execution_count": 254,
   "metadata": {},
   "outputs": [
    {
     "name": "stdout",
     "output_type": "stream",
     "text": [
      "<class 'pandas.core.frame.DataFrame'>\n",
      "RangeIndex: 520 entries, 2420 to 2939\n",
      "Data columns (total 7 columns):\n",
      " #   Column     Non-Null Count  Dtype  \n",
      "---  ------     --------------  -----  \n",
      " 0   Date       520 non-null    object \n",
      " 1   Open       520 non-null    float64\n",
      " 2   High       520 non-null    float64\n",
      " 3   Low        520 non-null    float64\n",
      " 4   Close      520 non-null    float64\n",
      " 5   Adj Close  520 non-null    float64\n",
      " 6   Volume     520 non-null    int64  \n",
      "dtypes: float64(5), int64(1), object(1)\n",
      "memory usage: 28.6+ KB\n"
     ]
    }
   ],
   "source": [
    "MSFT_sub_df.info()"
   ]
  },
  {
   "cell_type": "code",
   "execution_count": 255,
   "metadata": {},
   "outputs": [],
   "source": [
    "MSFT_sub_df.to_csv('../data/MSFT_sub_Financial_Crisis.csv')"
   ]
  },
  {
   "cell_type": "code",
   "execution_count": null,
   "metadata": {},
   "outputs": [],
   "source": []
  },
  {
   "cell_type": "markdown",
   "metadata": {},
   "source": [
    "# For Apple"
   ]
  },
  {
   "cell_type": "code",
   "execution_count": null,
   "metadata": {},
   "outputs": [],
   "source": []
  },
  {
   "cell_type": "code",
   "execution_count": 256,
   "metadata": {},
   "outputs": [],
   "source": [
    "AAPL_total_df = pd.read_csv('../data/AAPL.csv', index_col=False)"
   ]
  },
  {
   "cell_type": "code",
   "execution_count": 257,
   "metadata": {},
   "outputs": [
    {
     "data": {
      "text/html": [
       "<div>\n",
       "<style scoped>\n",
       "    .dataframe tbody tr th:only-of-type {\n",
       "        vertical-align: middle;\n",
       "    }\n",
       "\n",
       "    .dataframe tbody tr th {\n",
       "        vertical-align: top;\n",
       "    }\n",
       "\n",
       "    .dataframe thead th {\n",
       "        text-align: right;\n",
       "    }\n",
       "</style>\n",
       "<table border=\"1\" class=\"dataframe\">\n",
       "  <thead>\n",
       "    <tr style=\"text-align: right;\">\n",
       "      <th></th>\n",
       "      <th>Date</th>\n",
       "      <th>Open</th>\n",
       "      <th>High</th>\n",
       "      <th>Low</th>\n",
       "      <th>Close</th>\n",
       "      <th>Adj Close</th>\n",
       "      <th>Volume</th>\n",
       "    </tr>\n",
       "  </thead>\n",
       "  <tbody>\n",
       "    <tr>\n",
       "      <th>0</th>\n",
       "      <td>1998-01-02</td>\n",
       "      <td>0.486607</td>\n",
       "      <td>0.580357</td>\n",
       "      <td>0.482143</td>\n",
       "      <td>0.580357</td>\n",
       "      <td>0.502414</td>\n",
       "      <td>179527600</td>\n",
       "    </tr>\n",
       "    <tr>\n",
       "      <th>1</th>\n",
       "      <td>1998-01-05</td>\n",
       "      <td>0.589286</td>\n",
       "      <td>0.591518</td>\n",
       "      <td>0.542411</td>\n",
       "      <td>0.566964</td>\n",
       "      <td>0.490820</td>\n",
       "      <td>162968400</td>\n",
       "    </tr>\n",
       "    <tr>\n",
       "      <th>2</th>\n",
       "      <td>1998-01-06</td>\n",
       "      <td>0.569196</td>\n",
       "      <td>0.714286</td>\n",
       "      <td>0.526786</td>\n",
       "      <td>0.676339</td>\n",
       "      <td>0.585505</td>\n",
       "      <td>453118400</td>\n",
       "    </tr>\n",
       "    <tr>\n",
       "      <th>3</th>\n",
       "      <td>1998-01-07</td>\n",
       "      <td>0.671875</td>\n",
       "      <td>0.678571</td>\n",
       "      <td>0.618304</td>\n",
       "      <td>0.625000</td>\n",
       "      <td>0.541061</td>\n",
       "      <td>260405600</td>\n",
       "    </tr>\n",
       "    <tr>\n",
       "      <th>4</th>\n",
       "      <td>1998-01-08</td>\n",
       "      <td>0.622768</td>\n",
       "      <td>0.665179</td>\n",
       "      <td>0.604911</td>\n",
       "      <td>0.649554</td>\n",
       "      <td>0.562317</td>\n",
       "      <td>193505200</td>\n",
       "    </tr>\n",
       "  </tbody>\n",
       "</table>\n",
       "</div>"
      ],
      "text/plain": [
       "         Date      Open      High       Low     Close  Adj Close     Volume\n",
       "0  1998-01-02  0.486607  0.580357  0.482143  0.580357   0.502414  179527600\n",
       "1  1998-01-05  0.589286  0.591518  0.542411  0.566964   0.490820  162968400\n",
       "2  1998-01-06  0.569196  0.714286  0.526786  0.676339   0.585505  453118400\n",
       "3  1998-01-07  0.671875  0.678571  0.618304  0.625000   0.541061  260405600\n",
       "4  1998-01-08  0.622768  0.665179  0.604911  0.649554   0.562317  193505200"
      ]
     },
     "execution_count": 257,
     "metadata": {},
     "output_type": "execute_result"
    }
   ],
   "source": [
    "AAPL_total_df.head()\n",
    "\n"
   ]
  },
  {
   "cell_type": "code",
   "execution_count": 258,
   "metadata": {},
   "outputs": [],
   "source": [
    "AAPL_total_df['Date'] = pd.to_datetime(AAPL_total_df['Date'])"
   ]
  },
  {
   "cell_type": "code",
   "execution_count": 259,
   "metadata": {},
   "outputs": [],
   "source": [
    "datetime_index = pd.DatetimeIndex(AAPL_total_df['Date'].values)"
   ]
  },
  {
   "cell_type": "code",
   "execution_count": 260,
   "metadata": {},
   "outputs": [],
   "source": [
    "AAPL_total_df=AAPL_total_df.set_index(datetime_index)"
   ]
  },
  {
   "cell_type": "code",
   "execution_count": 261,
   "metadata": {},
   "outputs": [],
   "source": [
    "AAPL_total_df.drop('Date',axis=1,inplace=True)"
   ]
  },
  {
   "cell_type": "code",
   "execution_count": 262,
   "metadata": {},
   "outputs": [
    {
     "name": "stdout",
     "output_type": "stream",
     "text": [
      "<class 'pandas.core.frame.DataFrame'>\n",
      "DatetimeIndex: 5624 entries, 1998-01-02 to 2020-05-08\n",
      "Data columns (total 6 columns):\n",
      " #   Column     Non-Null Count  Dtype  \n",
      "---  ------     --------------  -----  \n",
      " 0   Open       5624 non-null   float64\n",
      " 1   High       5624 non-null   float64\n",
      " 2   Low        5624 non-null   float64\n",
      " 3   Close      5624 non-null   float64\n",
      " 4   Adj Close  5624 non-null   float64\n",
      " 5   Volume     5624 non-null   int64  \n",
      "dtypes: float64(5), int64(1)\n",
      "memory usage: 307.6 KB\n"
     ]
    }
   ],
   "source": [
    "AAPL_total_df.info()"
   ]
  },
  {
   "cell_type": "code",
   "execution_count": 263,
   "metadata": {},
   "outputs": [
    {
     "data": {
      "text/html": [
       "<div>\n",
       "<style scoped>\n",
       "    .dataframe tbody tr th:only-of-type {\n",
       "        vertical-align: middle;\n",
       "    }\n",
       "\n",
       "    .dataframe tbody tr th {\n",
       "        vertical-align: top;\n",
       "    }\n",
       "\n",
       "    .dataframe thead th {\n",
       "        text-align: right;\n",
       "    }\n",
       "</style>\n",
       "<table border=\"1\" class=\"dataframe\">\n",
       "  <thead>\n",
       "    <tr style=\"text-align: right;\">\n",
       "      <th></th>\n",
       "      <th>Open</th>\n",
       "      <th>High</th>\n",
       "      <th>Low</th>\n",
       "      <th>Close</th>\n",
       "      <th>Adj Close</th>\n",
       "      <th>Volume</th>\n",
       "    </tr>\n",
       "  </thead>\n",
       "  <tbody>\n",
       "    <tr>\n",
       "      <th>1998-01-02</th>\n",
       "      <td>0.486607</td>\n",
       "      <td>0.580357</td>\n",
       "      <td>0.482143</td>\n",
       "      <td>0.580357</td>\n",
       "      <td>0.502414</td>\n",
       "      <td>179527600</td>\n",
       "    </tr>\n",
       "    <tr>\n",
       "      <th>1998-01-05</th>\n",
       "      <td>0.589286</td>\n",
       "      <td>0.591518</td>\n",
       "      <td>0.542411</td>\n",
       "      <td>0.566964</td>\n",
       "      <td>0.490820</td>\n",
       "      <td>162968400</td>\n",
       "    </tr>\n",
       "    <tr>\n",
       "      <th>1998-01-06</th>\n",
       "      <td>0.569196</td>\n",
       "      <td>0.714286</td>\n",
       "      <td>0.526786</td>\n",
       "      <td>0.676339</td>\n",
       "      <td>0.585505</td>\n",
       "      <td>453118400</td>\n",
       "    </tr>\n",
       "    <tr>\n",
       "      <th>1998-01-07</th>\n",
       "      <td>0.671875</td>\n",
       "      <td>0.678571</td>\n",
       "      <td>0.618304</td>\n",
       "      <td>0.625000</td>\n",
       "      <td>0.541061</td>\n",
       "      <td>260405600</td>\n",
       "    </tr>\n",
       "    <tr>\n",
       "      <th>1998-01-08</th>\n",
       "      <td>0.622768</td>\n",
       "      <td>0.665179</td>\n",
       "      <td>0.604911</td>\n",
       "      <td>0.649554</td>\n",
       "      <td>0.562317</td>\n",
       "      <td>193505200</td>\n",
       "    </tr>\n",
       "  </tbody>\n",
       "</table>\n",
       "</div>"
      ],
      "text/plain": [
       "                Open      High       Low     Close  Adj Close     Volume\n",
       "1998-01-02  0.486607  0.580357  0.482143  0.580357   0.502414  179527600\n",
       "1998-01-05  0.589286  0.591518  0.542411  0.566964   0.490820  162968400\n",
       "1998-01-06  0.569196  0.714286  0.526786  0.676339   0.585505  453118400\n",
       "1998-01-07  0.671875  0.678571  0.618304  0.625000   0.541061  260405600\n",
       "1998-01-08  0.622768  0.665179  0.604911  0.649554   0.562317  193505200"
      ]
     },
     "execution_count": 263,
     "metadata": {},
     "output_type": "execute_result"
    }
   ],
   "source": [
    "AAPL_total_df.head()"
   ]
  },
  {
   "cell_type": "code",
   "execution_count": 264,
   "metadata": {},
   "outputs": [],
   "source": [
    "### Visualizing the close price"
   ]
  },
  {
   "cell_type": "code",
   "execution_count": 265,
   "metadata": {},
   "outputs": [],
   "source": [
    "AAPL_total_close_df = AAPL_total_df[['Close']]"
   ]
  },
  {
   "cell_type": "code",
   "execution_count": 266,
   "metadata": {},
   "outputs": [
    {
     "data": {
      "text/plain": [
       "<matplotlib.axes._subplots.AxesSubplot at 0x7ffaf007c250>"
      ]
     },
     "execution_count": 266,
     "metadata": {},
     "output_type": "execute_result"
    },
    {
     "data": {
      "image/png": "[encoded data removed]",
      "text/plain": [
       "<matplotlib.figure.Figure at 0x7ffae8aa16d0>"
      ]
     },
     "metadata": {
      "needs_background": "light"
     },
     "output_type": "display_data"
    }
   ],
   "source": [
    "AAPL_total_close_df.plot.line()"
   ]
  },
  {
   "cell_type": "code",
   "execution_count": null,
   "metadata": {},
   "outputs": [],
   "source": []
  },
  {
   "cell_type": "markdown",
   "metadata": {},
   "source": [
    "### Extract the subset during the 2008 finanical crises \n",
    "\n",
    "September 2007 to September 2009"
   ]
  },
  {
   "cell_type": "code",
   "execution_count": 267,
   "metadata": {},
   "outputs": [],
   "source": [
    "AAPL_sub_df = pd.read_csv('../data/AAPL.csv', index_col=False)"
   ]
  },
  {
   "cell_type": "code",
   "execution_count": 268,
   "metadata": {},
   "outputs": [
    {
     "data": {
      "text/html": [
       "<div>\n",
       "<style scoped>\n",
       "    .dataframe tbody tr th:only-of-type {\n",
       "        vertical-align: middle;\n",
       "    }\n",
       "\n",
       "    .dataframe tbody tr th {\n",
       "        vertical-align: top;\n",
       "    }\n",
       "\n",
       "    .dataframe thead th {\n",
       "        text-align: right;\n",
       "    }\n",
       "</style>\n",
       "<table border=\"1\" class=\"dataframe\">\n",
       "  <thead>\n",
       "    <tr style=\"text-align: right;\">\n",
       "      <th></th>\n",
       "      <th>Date</th>\n",
       "      <th>Open</th>\n",
       "      <th>High</th>\n",
       "      <th>Low</th>\n",
       "      <th>Close</th>\n",
       "      <th>Adj Close</th>\n",
       "      <th>Volume</th>\n",
       "    </tr>\n",
       "  </thead>\n",
       "  <tbody>\n",
       "    <tr>\n",
       "      <th>0</th>\n",
       "      <td>1998-01-02</td>\n",
       "      <td>0.486607</td>\n",
       "      <td>0.580357</td>\n",
       "      <td>0.482143</td>\n",
       "      <td>0.580357</td>\n",
       "      <td>0.502414</td>\n",
       "      <td>179527600</td>\n",
       "    </tr>\n",
       "    <tr>\n",
       "      <th>1</th>\n",
       "      <td>1998-01-05</td>\n",
       "      <td>0.589286</td>\n",
       "      <td>0.591518</td>\n",
       "      <td>0.542411</td>\n",
       "      <td>0.566964</td>\n",
       "      <td>0.490820</td>\n",
       "      <td>162968400</td>\n",
       "    </tr>\n",
       "    <tr>\n",
       "      <th>2</th>\n",
       "      <td>1998-01-06</td>\n",
       "      <td>0.569196</td>\n",
       "      <td>0.714286</td>\n",
       "      <td>0.526786</td>\n",
       "      <td>0.676339</td>\n",
       "      <td>0.585505</td>\n",
       "      <td>453118400</td>\n",
       "    </tr>\n",
       "    <tr>\n",
       "      <th>3</th>\n",
       "      <td>1998-01-07</td>\n",
       "      <td>0.671875</td>\n",
       "      <td>0.678571</td>\n",
       "      <td>0.618304</td>\n",
       "      <td>0.625000</td>\n",
       "      <td>0.541061</td>\n",
       "      <td>260405600</td>\n",
       "    </tr>\n",
       "    <tr>\n",
       "      <th>4</th>\n",
       "      <td>1998-01-08</td>\n",
       "      <td>0.622768</td>\n",
       "      <td>0.665179</td>\n",
       "      <td>0.604911</td>\n",
       "      <td>0.649554</td>\n",
       "      <td>0.562317</td>\n",
       "      <td>193505200</td>\n",
       "    </tr>\n",
       "    <tr>\n",
       "      <th>...</th>\n",
       "      <td>...</td>\n",
       "      <td>...</td>\n",
       "      <td>...</td>\n",
       "      <td>...</td>\n",
       "      <td>...</td>\n",
       "      <td>...</td>\n",
       "      <td>...</td>\n",
       "    </tr>\n",
       "    <tr>\n",
       "      <th>5619</th>\n",
       "      <td>2020-05-04</td>\n",
       "      <td>289.170013</td>\n",
       "      <td>293.690002</td>\n",
       "      <td>286.320007</td>\n",
       "      <td>293.160004</td>\n",
       "      <td>292.368561</td>\n",
       "      <td>33392000</td>\n",
       "    </tr>\n",
       "    <tr>\n",
       "      <th>5620</th>\n",
       "      <td>2020-05-05</td>\n",
       "      <td>295.059998</td>\n",
       "      <td>301.000000</td>\n",
       "      <td>294.459991</td>\n",
       "      <td>297.559998</td>\n",
       "      <td>296.756683</td>\n",
       "      <td>36937800</td>\n",
       "    </tr>\n",
       "    <tr>\n",
       "      <th>5621</th>\n",
       "      <td>2020-05-06</td>\n",
       "      <td>300.459991</td>\n",
       "      <td>303.239990</td>\n",
       "      <td>298.869995</td>\n",
       "      <td>300.630005</td>\n",
       "      <td>299.818390</td>\n",
       "      <td>35583400</td>\n",
       "    </tr>\n",
       "    <tr>\n",
       "      <th>5622</th>\n",
       "      <td>2020-05-07</td>\n",
       "      <td>303.220001</td>\n",
       "      <td>305.170013</td>\n",
       "      <td>301.970001</td>\n",
       "      <td>303.739990</td>\n",
       "      <td>302.919983</td>\n",
       "      <td>28803800</td>\n",
       "    </tr>\n",
       "    <tr>\n",
       "      <th>5623</th>\n",
       "      <td>2020-05-08</td>\n",
       "      <td>305.640015</td>\n",
       "      <td>310.350006</td>\n",
       "      <td>304.290009</td>\n",
       "      <td>310.130005</td>\n",
       "      <td>310.130005</td>\n",
       "      <td>33512000</td>\n",
       "    </tr>\n",
       "  </tbody>\n",
       "</table>\n",
       "<p>5624 rows × 7 columns</p>\n",
       "</div>"
      ],
      "text/plain": [
       "            Date        Open        High         Low       Close   Adj Close  \\\n",
       "0     1998-01-02    0.486607    0.580357    0.482143    0.580357    0.502414   \n",
       "1     1998-01-05    0.589286    0.591518    0.542411    0.566964    0.490820   \n",
       "2     1998-01-06    0.569196    0.714286    0.526786    0.676339    0.585505   \n",
       "3     1998-01-07    0.671875    0.678571    0.618304    0.625000    0.541061   \n",
       "4     1998-01-08    0.622768    0.665179    0.604911    0.649554    0.562317   \n",
       "...          ...         ...         ...         ...         ...         ...   \n",
       "5619  2020-05-04  289.170013  293.690002  286.320007  293.160004  292.368561   \n",
       "5620  2020-05-05  295.059998  301.000000  294.459991  297.559998  296.756683   \n",
       "5621  2020-05-06  300.459991  303.239990  298.869995  300.630005  299.818390   \n",
       "5622  2020-05-07  303.220001  305.170013  301.970001  303.739990  302.919983   \n",
       "5623  2020-05-08  305.640015  310.350006  304.290009  310.130005  310.130005   \n",
       "\n",
       "         Volume  \n",
       "0     179527600  \n",
       "1     162968400  \n",
       "2     453118400  \n",
       "3     260405600  \n",
       "4     193505200  \n",
       "...         ...  \n",
       "5619   33392000  \n",
       "5620   36937800  \n",
       "5621   35583400  \n",
       "5622   28803800  \n",
       "5623   33512000  \n",
       "\n",
       "[5624 rows x 7 columns]"
      ]
     },
     "execution_count": 268,
     "metadata": {},
     "output_type": "execute_result"
    }
   ],
   "source": [
    "AAPL_sub_df"
   ]
  },
  {
   "cell_type": "code",
   "execution_count": 269,
   "metadata": {},
   "outputs": [],
   "source": [
    "AAPL_sub_df = AAPL_sub_df[2420:2940]"
   ]
  },
  {
   "cell_type": "code",
   "execution_count": 270,
   "metadata": {},
   "outputs": [
    {
     "data": {
      "text/html": [
       "<div>\n",
       "<style scoped>\n",
       "    .dataframe tbody tr th:only-of-type {\n",
       "        vertical-align: middle;\n",
       "    }\n",
       "\n",
       "    .dataframe tbody tr th {\n",
       "        vertical-align: top;\n",
       "    }\n",
       "\n",
       "    .dataframe thead th {\n",
       "        text-align: right;\n",
       "    }\n",
       "</style>\n",
       "<table border=\"1\" class=\"dataframe\">\n",
       "  <thead>\n",
       "    <tr style=\"text-align: right;\">\n",
       "      <th></th>\n",
       "      <th>Date</th>\n",
       "      <th>Open</th>\n",
       "      <th>High</th>\n",
       "      <th>Low</th>\n",
       "      <th>Close</th>\n",
       "      <th>Adj Close</th>\n",
       "      <th>Volume</th>\n",
       "    </tr>\n",
       "  </thead>\n",
       "  <tbody>\n",
       "    <tr>\n",
       "      <th>2420</th>\n",
       "      <td>2007-08-17</td>\n",
       "      <td>17.430000</td>\n",
       "      <td>17.642857</td>\n",
       "      <td>17.117144</td>\n",
       "      <td>17.437143</td>\n",
       "      <td>15.095286</td>\n",
       "      <td>298765600</td>\n",
       "    </tr>\n",
       "    <tr>\n",
       "      <th>2421</th>\n",
       "      <td>2007-08-20</td>\n",
       "      <td>17.708570</td>\n",
       "      <td>17.785715</td>\n",
       "      <td>17.214285</td>\n",
       "      <td>17.459999</td>\n",
       "      <td>15.115072</td>\n",
       "      <td>200829300</td>\n",
       "    </tr>\n",
       "    <tr>\n",
       "      <th>2422</th>\n",
       "      <td>2007-08-21</td>\n",
       "      <td>17.458570</td>\n",
       "      <td>18.422857</td>\n",
       "      <td>17.285715</td>\n",
       "      <td>18.224285</td>\n",
       "      <td>15.776716</td>\n",
       "      <td>325761800</td>\n",
       "    </tr>\n",
       "    <tr>\n",
       "      <th>2423</th>\n",
       "      <td>2007-08-22</td>\n",
       "      <td>18.745714</td>\n",
       "      <td>18.964285</td>\n",
       "      <td>18.618572</td>\n",
       "      <td>18.930000</td>\n",
       "      <td>16.387651</td>\n",
       "      <td>265441400</td>\n",
       "    </tr>\n",
       "    <tr>\n",
       "      <th>2424</th>\n",
       "      <td>2007-08-23</td>\n",
       "      <td>19.012857</td>\n",
       "      <td>19.048571</td>\n",
       "      <td>18.537144</td>\n",
       "      <td>18.724285</td>\n",
       "      <td>16.209562</td>\n",
       "      <td>216709500</td>\n",
       "    </tr>\n",
       "  </tbody>\n",
       "</table>\n",
       "</div>"
      ],
      "text/plain": [
       "            Date       Open       High        Low      Close  Adj Close  \\\n",
       "2420  2007-08-17  17.430000  17.642857  17.117144  17.437143  15.095286   \n",
       "2421  2007-08-20  17.708570  17.785715  17.214285  17.459999  15.115072   \n",
       "2422  2007-08-21  17.458570  18.422857  17.285715  18.224285  15.776716   \n",
       "2423  2007-08-22  18.745714  18.964285  18.618572  18.930000  16.387651   \n",
       "2424  2007-08-23  19.012857  19.048571  18.537144  18.724285  16.209562   \n",
       "\n",
       "         Volume  \n",
       "2420  298765600  \n",
       "2421  200829300  \n",
       "2422  325761800  \n",
       "2423  265441400  \n",
       "2424  216709500  "
      ]
     },
     "execution_count": 270,
     "metadata": {},
     "output_type": "execute_result"
    }
   ],
   "source": [
    "AAPL_sub_df.head()"
   ]
  },
  {
   "cell_type": "code",
   "execution_count": 271,
   "metadata": {},
   "outputs": [
    {
     "data": {
      "text/html": [
       "<div>\n",
       "<style scoped>\n",
       "    .dataframe tbody tr th:only-of-type {\n",
       "        vertical-align: middle;\n",
       "    }\n",
       "\n",
       "    .dataframe tbody tr th {\n",
       "        vertical-align: top;\n",
       "    }\n",
       "\n",
       "    .dataframe thead th {\n",
       "        text-align: right;\n",
       "    }\n",
       "</style>\n",
       "<table border=\"1\" class=\"dataframe\">\n",
       "  <thead>\n",
       "    <tr style=\"text-align: right;\">\n",
       "      <th></th>\n",
       "      <th>Date</th>\n",
       "      <th>Open</th>\n",
       "      <th>High</th>\n",
       "      <th>Low</th>\n",
       "      <th>Close</th>\n",
       "      <th>Adj Close</th>\n",
       "      <th>Volume</th>\n",
       "    </tr>\n",
       "  </thead>\n",
       "  <tbody>\n",
       "    <tr>\n",
       "      <th>2935</th>\n",
       "      <td>2009-09-02</td>\n",
       "      <td>23.517143</td>\n",
       "      <td>23.944286</td>\n",
       "      <td>23.444286</td>\n",
       "      <td>23.597143</td>\n",
       "      <td>20.427990</td>\n",
       "      <td>91062300</td>\n",
       "    </tr>\n",
       "    <tr>\n",
       "      <th>2936</th>\n",
       "      <td>2009-09-03</td>\n",
       "      <td>23.777143</td>\n",
       "      <td>23.871429</td>\n",
       "      <td>23.571428</td>\n",
       "      <td>23.792856</td>\n",
       "      <td>20.597416</td>\n",
       "      <td>73488800</td>\n",
       "    </tr>\n",
       "    <tr>\n",
       "      <th>2937</th>\n",
       "      <td>2009-09-04</td>\n",
       "      <td>23.897142</td>\n",
       "      <td>24.385714</td>\n",
       "      <td>23.870001</td>\n",
       "      <td>24.330000</td>\n",
       "      <td>21.062418</td>\n",
       "      <td>93657200</td>\n",
       "    </tr>\n",
       "    <tr>\n",
       "      <th>2938</th>\n",
       "      <td>2009-09-08</td>\n",
       "      <td>24.711428</td>\n",
       "      <td>24.734285</td>\n",
       "      <td>24.571428</td>\n",
       "      <td>24.704287</td>\n",
       "      <td>21.386440</td>\n",
       "      <td>78761900</td>\n",
       "    </tr>\n",
       "    <tr>\n",
       "      <th>2939</th>\n",
       "      <td>2009-09-09</td>\n",
       "      <td>24.682858</td>\n",
       "      <td>24.924286</td>\n",
       "      <td>24.242857</td>\n",
       "      <td>24.448572</td>\n",
       "      <td>21.165066</td>\n",
       "      <td>202771800</td>\n",
       "    </tr>\n",
       "  </tbody>\n",
       "</table>\n",
       "</div>"
      ],
      "text/plain": [
       "            Date       Open       High        Low      Close  Adj Close  \\\n",
       "2935  2009-09-02  23.517143  23.944286  23.444286  23.597143  20.427990   \n",
       "2936  2009-09-03  23.777143  23.871429  23.571428  23.792856  20.597416   \n",
       "2937  2009-09-04  23.897142  24.385714  23.870001  24.330000  21.062418   \n",
       "2938  2009-09-08  24.711428  24.734285  24.571428  24.704287  21.386440   \n",
       "2939  2009-09-09  24.682858  24.924286  24.242857  24.448572  21.165066   \n",
       "\n",
       "         Volume  \n",
       "2935   91062300  \n",
       "2936   73488800  \n",
       "2937   93657200  \n",
       "2938   78761900  \n",
       "2939  202771800  "
      ]
     },
     "execution_count": 271,
     "metadata": {},
     "output_type": "execute_result"
    }
   ],
   "source": [
    "AAPL_sub_df.tail()"
   ]
  },
  {
   "cell_type": "code",
   "execution_count": 272,
   "metadata": {},
   "outputs": [
    {
     "name": "stdout",
     "output_type": "stream",
     "text": [
      "<class 'pandas.core.frame.DataFrame'>\n",
      "RangeIndex: 520 entries, 2420 to 2939\n",
      "Data columns (total 7 columns):\n",
      " #   Column     Non-Null Count  Dtype  \n",
      "---  ------     --------------  -----  \n",
      " 0   Date       520 non-null    object \n",
      " 1   Open       520 non-null    float64\n",
      " 2   High       520 non-null    float64\n",
      " 3   Low        520 non-null    float64\n",
      " 4   Close      520 non-null    float64\n",
      " 5   Adj Close  520 non-null    float64\n",
      " 6   Volume     520 non-null    int64  \n",
      "dtypes: float64(5), int64(1), object(1)\n",
      "memory usage: 28.6+ KB\n"
     ]
    }
   ],
   "source": [
    "AAPL_sub_df.info()"
   ]
  },
  {
   "cell_type": "code",
   "execution_count": 273,
   "metadata": {},
   "outputs": [],
   "source": [
    "AAPL_sub_df.to_csv('../data/AAPL_sub_Financial_Crisis.csv')"
   ]
  },
  {
   "cell_type": "code",
   "execution_count": null,
   "metadata": {},
   "outputs": [],
   "source": []
  },
  {
   "cell_type": "code",
   "execution_count": null,
   "metadata": {},
   "outputs": [],
   "source": []
  },
  {
   "cell_type": "code",
   "execution_count": null,
   "metadata": {},
   "outputs": [],
   "source": []
  }
 ],
 "metadata": {
  "kernelspec": {
   "display_name": "Python 3",
   "language": "python",
   "name": "python3"
  },
  "language_info": {
   "codemirror_mode": {
    "name": "ipython",
    "version": 3
   },
   "file_extension": ".py",
   "mimetype": "text/x-python",
   "name": "python",
   "nbconvert_exporter": "python",
   "pygments_lexer": "ipython3",
   "version": "3.7.6"
  }
 },
 "nbformat": 4,
 "nbformat_minor": 4
}
