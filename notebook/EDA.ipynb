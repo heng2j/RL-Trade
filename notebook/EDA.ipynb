{
 "cells": [
  {
   "cell_type": "markdown",
   "metadata": {},
   "source": [
    "# EDA - Exploratory Data Analysis"
   ]
  },
  {
   "cell_type": "markdown",
   "metadata": {},
   "source": [
    "## Import Module"
   ]
  },
  {
   "cell_type": "code",
   "execution_count": 10,
   "metadata": {},
   "outputs": [],
   "source": [
    "import pandas as pd\n",
    "import numpy as np"
   ]
  },
  {
   "cell_type": "markdown",
   "metadata": {},
   "source": [
    "\n",
    "## Load Data"
   ]
  },
  {
   "cell_type": "code",
   "execution_count": 6,
   "metadata": {},
   "outputs": [
    {
     "name": "stdout",
     "output_type": "stream",
     "text": [
      "-rw-r--r--  1 zla0368  10002   328K May  9 15:36 ../data/MSFT.csv\n"
     ]
    }
   ],
   "source": [
    "!ls -lht ../data/MSFT.csv"
   ]
  },
  {
   "cell_type": "code",
   "execution_count": 14,
   "metadata": {},
   "outputs": [],
   "source": [
    "MSFT_total_df = pd.read_csv('../data/MSFT.csv', index_col=False)"
   ]
  },
  {
   "cell_type": "code",
   "execution_count": 18,
   "metadata": {},
   "outputs": [
    {
     "data": {
      "text/html": [
       "<div>\n",
       "<style scoped>\n",
       "    .dataframe tbody tr th:only-of-type {\n",
       "        vertical-align: middle;\n",
       "    }\n",
       "\n",
       "    .dataframe tbody tr th {\n",
       "        vertical-align: top;\n",
       "    }\n",
       "\n",
       "    .dataframe thead th {\n",
       "        text-align: right;\n",
       "    }\n",
       "</style>\n",
       "<table border=\"1\" class=\"dataframe\">\n",
       "  <thead>\n",
       "    <tr style=\"text-align: right;\">\n",
       "      <th></th>\n",
       "      <th>Unnamed: 0</th>\n",
       "      <th>Date</th>\n",
       "      <th>Open</th>\n",
       "      <th>High</th>\n",
       "      <th>Low</th>\n",
       "      <th>Close</th>\n",
       "      <th>Adjusted_Close</th>\n",
       "      <th>Volume</th>\n",
       "      <th>Dividends</th>\n",
       "    </tr>\n",
       "  </thead>\n",
       "  <tbody>\n",
       "    <tr>\n",
       "      <th>0</th>\n",
       "      <td>5353</td>\n",
       "      <td>2019-04-12</td>\n",
       "      <td>120.64</td>\n",
       "      <td>120.98</td>\n",
       "      <td>120.37</td>\n",
       "      <td>120.95</td>\n",
       "      <td>120.95</td>\n",
       "      <td>19718151.0</td>\n",
       "      <td>0.0</td>\n",
       "    </tr>\n",
       "    <tr>\n",
       "      <th>1</th>\n",
       "      <td>5352</td>\n",
       "      <td>2019-04-11</td>\n",
       "      <td>120.54</td>\n",
       "      <td>120.85</td>\n",
       "      <td>119.92</td>\n",
       "      <td>120.33</td>\n",
       "      <td>120.33</td>\n",
       "      <td>14209121.0</td>\n",
       "      <td>0.0</td>\n",
       "    </tr>\n",
       "    <tr>\n",
       "      <th>2</th>\n",
       "      <td>5351</td>\n",
       "      <td>2019-04-10</td>\n",
       "      <td>119.76</td>\n",
       "      <td>120.35</td>\n",
       "      <td>119.54</td>\n",
       "      <td>120.19</td>\n",
       "      <td>120.19</td>\n",
       "      <td>16477169.0</td>\n",
       "      <td>0.0</td>\n",
       "    </tr>\n",
       "    <tr>\n",
       "      <th>3</th>\n",
       "      <td>5350</td>\n",
       "      <td>2019-04-09</td>\n",
       "      <td>118.63</td>\n",
       "      <td>119.54</td>\n",
       "      <td>118.58</td>\n",
       "      <td>119.28</td>\n",
       "      <td>119.28</td>\n",
       "      <td>17611981.0</td>\n",
       "      <td>0.0</td>\n",
       "    </tr>\n",
       "    <tr>\n",
       "      <th>4</th>\n",
       "      <td>5349</td>\n",
       "      <td>2019-04-08</td>\n",
       "      <td>119.81</td>\n",
       "      <td>120.02</td>\n",
       "      <td>118.64</td>\n",
       "      <td>119.93</td>\n",
       "      <td>119.93</td>\n",
       "      <td>15116186.0</td>\n",
       "      <td>0.0</td>\n",
       "    </tr>\n",
       "  </tbody>\n",
       "</table>\n",
       "</div>"
      ],
      "text/plain": [
       "   Unnamed: 0        Date    Open    High     Low   Close  Adjusted_Close  \\\n",
       "0        5353  2019-04-12  120.64  120.98  120.37  120.95          120.95   \n",
       "1        5352  2019-04-11  120.54  120.85  119.92  120.33          120.33   \n",
       "2        5351  2019-04-10  119.76  120.35  119.54  120.19          120.19   \n",
       "3        5350  2019-04-09  118.63  119.54  118.58  119.28          119.28   \n",
       "4        5349  2019-04-08  119.81  120.02  118.64  119.93          119.93   \n",
       "\n",
       "       Volume  Dividends  \n",
       "0  19718151.0        0.0  \n",
       "1  14209121.0        0.0  \n",
       "2  16477169.0        0.0  \n",
       "3  17611981.0        0.0  \n",
       "4  15116186.0        0.0  "
      ]
     },
     "execution_count": 18,
     "metadata": {},
     "output_type": "execute_result"
    }
   ],
   "source": [
    "MSFT_total_df.head()\n",
    "\n"
   ]
  },
  {
   "cell_type": "code",
   "execution_count": 27,
   "metadata": {},
   "outputs": [],
   "source": [
    "MSFT_total_df.drop(columns=['Unnamed: 0'], inplace=True)"
   ]
  },
  {
   "cell_type": "code",
   "execution_count": 28,
   "metadata": {},
   "outputs": [],
   "source": [
    "MSFT_total_df['Date'] = pd.to_datetime(MSFT_total_df['Date'])"
   ]
  },
  {
   "cell_type": "code",
   "execution_count": 37,
   "metadata": {},
   "outputs": [],
   "source": [
    "datetime_index = pd.DatetimeIndex(MSFT_total_df['Date'].values)"
   ]
  },
  {
   "cell_type": "code",
   "execution_count": 38,
   "metadata": {},
   "outputs": [],
   "source": [
    "MSFT_total_df=MSFT_total_df.set_index(datetime_index)"
   ]
  },
  {
   "cell_type": "code",
   "execution_count": 41,
   "metadata": {},
   "outputs": [],
   "source": [
    "MSFT_total_df.drop('Date',axis=1,inplace=True)"
   ]
  },
  {
   "cell_type": "code",
   "execution_count": 42,
   "metadata": {},
   "outputs": [
    {
     "name": "stdout",
     "output_type": "stream",
     "text": [
      "<class 'pandas.core.frame.DataFrame'>\n",
      "DatetimeIndex: 5354 entries, 2019-04-12 to 1998-01-02\n",
      "Data columns (total 7 columns):\n",
      " #   Column          Non-Null Count  Dtype  \n",
      "---  ------          --------------  -----  \n",
      " 0   Open            5354 non-null   float64\n",
      " 1   High            5354 non-null   float64\n",
      " 2   Low             5354 non-null   float64\n",
      " 3   Close           5354 non-null   float64\n",
      " 4   Adjusted_Close  5354 non-null   float64\n",
      " 5   Volume          5354 non-null   float64\n",
      " 6   Dividends       5354 non-null   float64\n",
      "dtypes: float64(7)\n",
      "memory usage: 334.6 KB\n"
     ]
    }
   ],
   "source": [
    "MSFT_total_df.info()"
   ]
  },
  {
   "cell_type": "code",
   "execution_count": 43,
   "metadata": {},
   "outputs": [
    {
     "data": {
      "text/html": [
       "<div>\n",
       "<style scoped>\n",
       "    .dataframe tbody tr th:only-of-type {\n",
       "        vertical-align: middle;\n",
       "    }\n",
       "\n",
       "    .dataframe tbody tr th {\n",
       "        vertical-align: top;\n",
       "    }\n",
       "\n",
       "    .dataframe thead th {\n",
       "        text-align: right;\n",
       "    }\n",
       "</style>\n",
       "<table border=\"1\" class=\"dataframe\">\n",
       "  <thead>\n",
       "    <tr style=\"text-align: right;\">\n",
       "      <th></th>\n",
       "      <th>Open</th>\n",
       "      <th>High</th>\n",
       "      <th>Low</th>\n",
       "      <th>Close</th>\n",
       "      <th>Adjusted_Close</th>\n",
       "      <th>Volume</th>\n",
       "      <th>Dividends</th>\n",
       "    </tr>\n",
       "  </thead>\n",
       "  <tbody>\n",
       "    <tr>\n",
       "      <th>2019-04-12</th>\n",
       "      <td>120.64</td>\n",
       "      <td>120.98</td>\n",
       "      <td>120.37</td>\n",
       "      <td>120.95</td>\n",
       "      <td>120.95</td>\n",
       "      <td>19718151.0</td>\n",
       "      <td>0.0</td>\n",
       "    </tr>\n",
       "    <tr>\n",
       "      <th>2019-04-11</th>\n",
       "      <td>120.54</td>\n",
       "      <td>120.85</td>\n",
       "      <td>119.92</td>\n",
       "      <td>120.33</td>\n",
       "      <td>120.33</td>\n",
       "      <td>14209121.0</td>\n",
       "      <td>0.0</td>\n",
       "    </tr>\n",
       "    <tr>\n",
       "      <th>2019-04-10</th>\n",
       "      <td>119.76</td>\n",
       "      <td>120.35</td>\n",
       "      <td>119.54</td>\n",
       "      <td>120.19</td>\n",
       "      <td>120.19</td>\n",
       "      <td>16477169.0</td>\n",
       "      <td>0.0</td>\n",
       "    </tr>\n",
       "    <tr>\n",
       "      <th>2019-04-09</th>\n",
       "      <td>118.63</td>\n",
       "      <td>119.54</td>\n",
       "      <td>118.58</td>\n",
       "      <td>119.28</td>\n",
       "      <td>119.28</td>\n",
       "      <td>17611981.0</td>\n",
       "      <td>0.0</td>\n",
       "    </tr>\n",
       "    <tr>\n",
       "      <th>2019-04-08</th>\n",
       "      <td>119.81</td>\n",
       "      <td>120.02</td>\n",
       "      <td>118.64</td>\n",
       "      <td>119.93</td>\n",
       "      <td>119.93</td>\n",
       "      <td>15116186.0</td>\n",
       "      <td>0.0</td>\n",
       "    </tr>\n",
       "  </tbody>\n",
       "</table>\n",
       "</div>"
      ],
      "text/plain": [
       "              Open    High     Low   Close  Adjusted_Close      Volume  \\\n",
       "2019-04-12  120.64  120.98  120.37  120.95          120.95  19718151.0   \n",
       "2019-04-11  120.54  120.85  119.92  120.33          120.33  14209121.0   \n",
       "2019-04-10  119.76  120.35  119.54  120.19          120.19  16477169.0   \n",
       "2019-04-09  118.63  119.54  118.58  119.28          119.28  17611981.0   \n",
       "2019-04-08  119.81  120.02  118.64  119.93          119.93  15116186.0   \n",
       "\n",
       "            Dividends  \n",
       "2019-04-12        0.0  \n",
       "2019-04-11        0.0  \n",
       "2019-04-10        0.0  \n",
       "2019-04-09        0.0  \n",
       "2019-04-08        0.0  "
      ]
     },
     "execution_count": 43,
     "metadata": {},
     "output_type": "execute_result"
    }
   ],
   "source": [
    "MSFT_total_df.head()"
   ]
  },
  {
   "cell_type": "code",
   "execution_count": null,
   "metadata": {},
   "outputs": [],
   "source": [
    "### Visualizing the close price"
   ]
  },
  {
   "cell_type": "code",
   "execution_count": 44,
   "metadata": {},
   "outputs": [],
   "source": [
    "MSFT_total_close_df = MSFT_total_df[['Close']]"
   ]
  },
  {
   "cell_type": "code",
   "execution_count": 45,
   "metadata": {},
   "outputs": [
    {
     "data": {
      "text/plain": [
       "<matplotlib.axes._subplots.AxesSubplot at 0x7ffae8bcae10>"
      ]
     },
     "execution_count": 45,
     "metadata": {},
     "output_type": "execute_result"
    },
    {
     "data": {
      "image/png": "[encoded data removed]",
      "text/plain": [
       "<matplotlib.figure.Figure at 0x7ffae8bab710>"
      ]
     },
     "metadata": {
      "needs_background": "light"
     },
     "output_type": "display_data"
    }
   ],
   "source": [
    "MSFT_total_close_df.plot.line()"
   ]
  },
  {
   "cell_type": "code",
   "execution_count": null,
   "metadata": {},
   "outputs": [],
   "source": []
  },
  {
   "cell_type": "markdown",
   "metadata": {},
   "source": [
    "### Extract the subset during the 2008 finanical crises \n",
    "\n",
    "September 2007 to September 2009"
   ]
  },
  {
   "cell_type": "code",
   "execution_count": 46,
   "metadata": {},
   "outputs": [],
   "source": [
    "MSFT_sub_df = pd.read_csv('../data/MSFT.csv', index_col=False)"
   ]
  },
  {
   "cell_type": "code",
   "execution_count": 47,
   "metadata": {},
   "outputs": [
    {
     "data": {
      "text/html": [
       "<div>\n",
       "<style scoped>\n",
       "    .dataframe tbody tr th:only-of-type {\n",
       "        vertical-align: middle;\n",
       "    }\n",
       "\n",
       "    .dataframe tbody tr th {\n",
       "        vertical-align: top;\n",
       "    }\n",
       "\n",
       "    .dataframe thead th {\n",
       "        text-align: right;\n",
       "    }\n",
       "</style>\n",
       "<table border=\"1\" class=\"dataframe\">\n",
       "  <thead>\n",
       "    <tr style=\"text-align: right;\">\n",
       "      <th></th>\n",
       "      <th>Unnamed: 0</th>\n",
       "      <th>Date</th>\n",
       "      <th>Open</th>\n",
       "      <th>High</th>\n",
       "      <th>Low</th>\n",
       "      <th>Close</th>\n",
       "      <th>Adjusted_Close</th>\n",
       "      <th>Volume</th>\n",
       "      <th>Dividends</th>\n",
       "    </tr>\n",
       "  </thead>\n",
       "  <tbody>\n",
       "    <tr>\n",
       "      <th>0</th>\n",
       "      <td>5353</td>\n",
       "      <td>2019-04-12</td>\n",
       "      <td>120.64</td>\n",
       "      <td>120.98</td>\n",
       "      <td>120.37</td>\n",
       "      <td>120.95</td>\n",
       "      <td>120.9500</td>\n",
       "      <td>19718151.0</td>\n",
       "      <td>0.0</td>\n",
       "    </tr>\n",
       "    <tr>\n",
       "      <th>1</th>\n",
       "      <td>5352</td>\n",
       "      <td>2019-04-11</td>\n",
       "      <td>120.54</td>\n",
       "      <td>120.85</td>\n",
       "      <td>119.92</td>\n",
       "      <td>120.33</td>\n",
       "      <td>120.3300</td>\n",
       "      <td>14209121.0</td>\n",
       "      <td>0.0</td>\n",
       "    </tr>\n",
       "    <tr>\n",
       "      <th>2</th>\n",
       "      <td>5351</td>\n",
       "      <td>2019-04-10</td>\n",
       "      <td>119.76</td>\n",
       "      <td>120.35</td>\n",
       "      <td>119.54</td>\n",
       "      <td>120.19</td>\n",
       "      <td>120.1900</td>\n",
       "      <td>16477169.0</td>\n",
       "      <td>0.0</td>\n",
       "    </tr>\n",
       "    <tr>\n",
       "      <th>3</th>\n",
       "      <td>5350</td>\n",
       "      <td>2019-04-09</td>\n",
       "      <td>118.63</td>\n",
       "      <td>119.54</td>\n",
       "      <td>118.58</td>\n",
       "      <td>119.28</td>\n",
       "      <td>119.2800</td>\n",
       "      <td>17611981.0</td>\n",
       "      <td>0.0</td>\n",
       "    </tr>\n",
       "    <tr>\n",
       "      <th>4</th>\n",
       "      <td>5349</td>\n",
       "      <td>2019-04-08</td>\n",
       "      <td>119.81</td>\n",
       "      <td>120.02</td>\n",
       "      <td>118.64</td>\n",
       "      <td>119.93</td>\n",
       "      <td>119.9300</td>\n",
       "      <td>15116186.0</td>\n",
       "      <td>0.0</td>\n",
       "    </tr>\n",
       "    <tr>\n",
       "      <th>...</th>\n",
       "      <td>...</td>\n",
       "      <td>...</td>\n",
       "      <td>...</td>\n",
       "      <td>...</td>\n",
       "      <td>...</td>\n",
       "      <td>...</td>\n",
       "      <td>...</td>\n",
       "      <td>...</td>\n",
       "      <td>...</td>\n",
       "    </tr>\n",
       "    <tr>\n",
       "      <th>5349</th>\n",
       "      <td>4</td>\n",
       "      <td>1998-01-08</td>\n",
       "      <td>128.63</td>\n",
       "      <td>132.13</td>\n",
       "      <td>127.50</td>\n",
       "      <td>130.50</td>\n",
       "      <td>10.6283</td>\n",
       "      <td>9702400.0</td>\n",
       "      <td>0.0</td>\n",
       "    </tr>\n",
       "    <tr>\n",
       "      <th>5350</th>\n",
       "      <td>3</td>\n",
       "      <td>1998-01-07</td>\n",
       "      <td>129.88</td>\n",
       "      <td>131.19</td>\n",
       "      <td>127.50</td>\n",
       "      <td>129.56</td>\n",
       "      <td>10.5518</td>\n",
       "      <td>7686600.0</td>\n",
       "      <td>0.0</td>\n",
       "    </tr>\n",
       "    <tr>\n",
       "      <th>5351</th>\n",
       "      <td>2</td>\n",
       "      <td>1998-01-06</td>\n",
       "      <td>129.75</td>\n",
       "      <td>133.00</td>\n",
       "      <td>129.25</td>\n",
       "      <td>131.13</td>\n",
       "      <td>10.6796</td>\n",
       "      <td>8479300.0</td>\n",
       "      <td>0.0</td>\n",
       "    </tr>\n",
       "    <tr>\n",
       "      <th>5352</th>\n",
       "      <td>1</td>\n",
       "      <td>1998-01-05</td>\n",
       "      <td>131.25</td>\n",
       "      <td>133.63</td>\n",
       "      <td>127.87</td>\n",
       "      <td>130.38</td>\n",
       "      <td>10.6186</td>\n",
       "      <td>10047200.0</td>\n",
       "      <td>0.0</td>\n",
       "    </tr>\n",
       "    <tr>\n",
       "      <th>5353</th>\n",
       "      <td>0</td>\n",
       "      <td>1998-01-02</td>\n",
       "      <td>129.63</td>\n",
       "      <td>131.50</td>\n",
       "      <td>129.50</td>\n",
       "      <td>131.13</td>\n",
       "      <td>10.6796</td>\n",
       "      <td>4968500.0</td>\n",
       "      <td>0.0</td>\n",
       "    </tr>\n",
       "  </tbody>\n",
       "</table>\n",
       "<p>5354 rows × 9 columns</p>\n",
       "</div>"
      ],
      "text/plain": [
       "      Unnamed: 0        Date    Open    High     Low   Close  Adjusted_Close  \\\n",
       "0           5353  2019-04-12  120.64  120.98  120.37  120.95        120.9500   \n",
       "1           5352  2019-04-11  120.54  120.85  119.92  120.33        120.3300   \n",
       "2           5351  2019-04-10  119.76  120.35  119.54  120.19        120.1900   \n",
       "3           5350  2019-04-09  118.63  119.54  118.58  119.28        119.2800   \n",
       "4           5349  2019-04-08  119.81  120.02  118.64  119.93        119.9300   \n",
       "...          ...         ...     ...     ...     ...     ...             ...   \n",
       "5349           4  1998-01-08  128.63  132.13  127.50  130.50         10.6283   \n",
       "5350           3  1998-01-07  129.88  131.19  127.50  129.56         10.5518   \n",
       "5351           2  1998-01-06  129.75  133.00  129.25  131.13         10.6796   \n",
       "5352           1  1998-01-05  131.25  133.63  127.87  130.38         10.6186   \n",
       "5353           0  1998-01-02  129.63  131.50  129.50  131.13         10.6796   \n",
       "\n",
       "          Volume  Dividends  \n",
       "0     19718151.0        0.0  \n",
       "1     14209121.0        0.0  \n",
       "2     16477169.0        0.0  \n",
       "3     17611981.0        0.0  \n",
       "4     15116186.0        0.0  \n",
       "...          ...        ...  \n",
       "5349   9702400.0        0.0  \n",
       "5350   7686600.0        0.0  \n",
       "5351   8479300.0        0.0  \n",
       "5352  10047200.0        0.0  \n",
       "5353   4968500.0        0.0  \n",
       "\n",
       "[5354 rows x 9 columns]"
      ]
     },
     "execution_count": 47,
     "metadata": {},
     "output_type": "execute_result"
    }
   ],
   "source": [
    "MSFT_sub_df"
   ]
  },
  {
   "cell_type": "code",
   "execution_count": 73,
   "metadata": {},
   "outputs": [],
   "source": [
    "MSFT_sub_df = MSFT_sub_df[2420:2925]"
   ]
  },
  {
   "cell_type": "code",
   "execution_count": 74,
   "metadata": {},
   "outputs": [
    {
     "data": {
      "text/html": [
       "<div>\n",
       "<style scoped>\n",
       "    .dataframe tbody tr th:only-of-type {\n",
       "        vertical-align: middle;\n",
       "    }\n",
       "\n",
       "    .dataframe tbody tr th {\n",
       "        vertical-align: top;\n",
       "    }\n",
       "\n",
       "    .dataframe thead th {\n",
       "        text-align: right;\n",
       "    }\n",
       "</style>\n",
       "<table border=\"1\" class=\"dataframe\">\n",
       "  <thead>\n",
       "    <tr style=\"text-align: right;\">\n",
       "      <th></th>\n",
       "      <th>Unnamed: 0</th>\n",
       "      <th>Date</th>\n",
       "      <th>Open</th>\n",
       "      <th>High</th>\n",
       "      <th>Low</th>\n",
       "      <th>Close</th>\n",
       "      <th>Adjusted_Close</th>\n",
       "      <th>Volume</th>\n",
       "      <th>Dividends</th>\n",
       "    </tr>\n",
       "  </thead>\n",
       "  <tbody>\n",
       "    <tr>\n",
       "      <th>2420</th>\n",
       "      <td>2933</td>\n",
       "      <td>2009-08-31</td>\n",
       "      <td>24.57</td>\n",
       "      <td>24.85</td>\n",
       "      <td>24.29</td>\n",
       "      <td>24.65</td>\n",
       "      <td>19.5231</td>\n",
       "      <td>49592800.0</td>\n",
       "      <td>0.0</td>\n",
       "    </tr>\n",
       "    <tr>\n",
       "      <th>2421</th>\n",
       "      <td>2932</td>\n",
       "      <td>2009-08-28</td>\n",
       "      <td>25.07</td>\n",
       "      <td>25.49</td>\n",
       "      <td>24.61</td>\n",
       "      <td>24.68</td>\n",
       "      <td>19.5468</td>\n",
       "      <td>55808000.0</td>\n",
       "      <td>0.0</td>\n",
       "    </tr>\n",
       "    <tr>\n",
       "      <th>2422</th>\n",
       "      <td>2931</td>\n",
       "      <td>2009-08-27</td>\n",
       "      <td>24.41</td>\n",
       "      <td>24.78</td>\n",
       "      <td>24.30</td>\n",
       "      <td>24.69</td>\n",
       "      <td>19.5548</td>\n",
       "      <td>45495600.0</td>\n",
       "      <td>0.0</td>\n",
       "    </tr>\n",
       "    <tr>\n",
       "      <th>2423</th>\n",
       "      <td>2930</td>\n",
       "      <td>2009-08-26</td>\n",
       "      <td>24.59</td>\n",
       "      <td>24.75</td>\n",
       "      <td>24.42</td>\n",
       "      <td>24.55</td>\n",
       "      <td>19.4439</td>\n",
       "      <td>41079000.0</td>\n",
       "      <td>0.0</td>\n",
       "    </tr>\n",
       "    <tr>\n",
       "      <th>2424</th>\n",
       "      <td>2929</td>\n",
       "      <td>2009-08-25</td>\n",
       "      <td>24.60</td>\n",
       "      <td>24.82</td>\n",
       "      <td>24.46</td>\n",
       "      <td>24.64</td>\n",
       "      <td>19.5152</td>\n",
       "      <td>43980300.0</td>\n",
       "      <td>0.0</td>\n",
       "    </tr>\n",
       "  </tbody>\n",
       "</table>\n",
       "</div>"
      ],
      "text/plain": [
       "      Unnamed: 0        Date   Open   High    Low  Close  Adjusted_Close  \\\n",
       "2420        2933  2009-08-31  24.57  24.85  24.29  24.65         19.5231   \n",
       "2421        2932  2009-08-28  25.07  25.49  24.61  24.68         19.5468   \n",
       "2422        2931  2009-08-27  24.41  24.78  24.30  24.69         19.5548   \n",
       "2423        2930  2009-08-26  24.59  24.75  24.42  24.55         19.4439   \n",
       "2424        2929  2009-08-25  24.60  24.82  24.46  24.64         19.5152   \n",
       "\n",
       "          Volume  Dividends  \n",
       "2420  49592800.0        0.0  \n",
       "2421  55808000.0        0.0  \n",
       "2422  45495600.0        0.0  \n",
       "2423  41079000.0        0.0  \n",
       "2424  43980300.0        0.0  "
      ]
     },
     "execution_count": 74,
     "metadata": {},
     "output_type": "execute_result"
    }
   ],
   "source": [
    "MSFT_sub_df.head()"
   ]
  },
  {
   "cell_type": "code",
   "execution_count": 75,
   "metadata": {},
   "outputs": [
    {
     "data": {
      "text/html": [
       "<div>\n",
       "<style scoped>\n",
       "    .dataframe tbody tr th:only-of-type {\n",
       "        vertical-align: middle;\n",
       "    }\n",
       "\n",
       "    .dataframe tbody tr th {\n",
       "        vertical-align: top;\n",
       "    }\n",
       "\n",
       "    .dataframe thead th {\n",
       "        text-align: right;\n",
       "    }\n",
       "</style>\n",
       "<table border=\"1\" class=\"dataframe\">\n",
       "  <thead>\n",
       "    <tr style=\"text-align: right;\">\n",
       "      <th></th>\n",
       "      <th>Unnamed: 0</th>\n",
       "      <th>Date</th>\n",
       "      <th>Open</th>\n",
       "      <th>High</th>\n",
       "      <th>Low</th>\n",
       "      <th>Close</th>\n",
       "      <th>Adjusted_Close</th>\n",
       "      <th>Volume</th>\n",
       "      <th>Dividends</th>\n",
       "    </tr>\n",
       "  </thead>\n",
       "  <tbody>\n",
       "    <tr>\n",
       "      <th>2920</th>\n",
       "      <td>2433</td>\n",
       "      <td>2007-09-06</td>\n",
       "      <td>28.60</td>\n",
       "      <td>29.01</td>\n",
       "      <td>28.55</td>\n",
       "      <td>28.91</td>\n",
       "      <td>21.9897</td>\n",
       "      <td>45430800.0</td>\n",
       "      <td>0.0</td>\n",
       "    </tr>\n",
       "    <tr>\n",
       "      <th>2921</th>\n",
       "      <td>2432</td>\n",
       "      <td>2007-09-05</td>\n",
       "      <td>28.65</td>\n",
       "      <td>28.73</td>\n",
       "      <td>28.42</td>\n",
       "      <td>28.48</td>\n",
       "      <td>21.6627</td>\n",
       "      <td>47669800.0</td>\n",
       "      <td>0.0</td>\n",
       "    </tr>\n",
       "    <tr>\n",
       "      <th>2922</th>\n",
       "      <td>2431</td>\n",
       "      <td>2007-09-04</td>\n",
       "      <td>28.50</td>\n",
       "      <td>29.10</td>\n",
       "      <td>28.48</td>\n",
       "      <td>28.81</td>\n",
       "      <td>21.9137</td>\n",
       "      <td>45689600.0</td>\n",
       "      <td>0.0</td>\n",
       "    </tr>\n",
       "    <tr>\n",
       "      <th>2923</th>\n",
       "      <td>2430</td>\n",
       "      <td>2007-08-31</td>\n",
       "      <td>28.70</td>\n",
       "      <td>28.92</td>\n",
       "      <td>28.36</td>\n",
       "      <td>28.73</td>\n",
       "      <td>21.8528</td>\n",
       "      <td>42511900.0</td>\n",
       "      <td>0.0</td>\n",
       "    </tr>\n",
       "    <tr>\n",
       "      <th>2924</th>\n",
       "      <td>2429</td>\n",
       "      <td>2007-08-30</td>\n",
       "      <td>28.42</td>\n",
       "      <td>28.93</td>\n",
       "      <td>28.32</td>\n",
       "      <td>28.45</td>\n",
       "      <td>21.6398</td>\n",
       "      <td>33690700.0</td>\n",
       "      <td>0.0</td>\n",
       "    </tr>\n",
       "  </tbody>\n",
       "</table>\n",
       "</div>"
      ],
      "text/plain": [
       "      Unnamed: 0        Date   Open   High    Low  Close  Adjusted_Close  \\\n",
       "2920        2433  2007-09-06  28.60  29.01  28.55  28.91         21.9897   \n",
       "2921        2432  2007-09-05  28.65  28.73  28.42  28.48         21.6627   \n",
       "2922        2431  2007-09-04  28.50  29.10  28.48  28.81         21.9137   \n",
       "2923        2430  2007-08-31  28.70  28.92  28.36  28.73         21.8528   \n",
       "2924        2429  2007-08-30  28.42  28.93  28.32  28.45         21.6398   \n",
       "\n",
       "          Volume  Dividends  \n",
       "2920  45430800.0        0.0  \n",
       "2921  47669800.0        0.0  \n",
       "2922  45689600.0        0.0  \n",
       "2923  42511900.0        0.0  \n",
       "2924  33690700.0        0.0  "
      ]
     },
     "execution_count": 75,
     "metadata": {},
     "output_type": "execute_result"
    }
   ],
   "source": [
    "MSFT_sub_df.tail()"
   ]
  },
  {
   "cell_type": "code",
   "execution_count": 76,
   "metadata": {},
   "outputs": [
    {
     "name": "stdout",
     "output_type": "stream",
     "text": [
      "<class 'pandas.core.frame.DataFrame'>\n",
      "RangeIndex: 505 entries, 2420 to 2924\n",
      "Data columns (total 9 columns):\n",
      " #   Column          Non-Null Count  Dtype  \n",
      "---  ------          --------------  -----  \n",
      " 0   Unnamed: 0      505 non-null    int64  \n",
      " 1   Date            505 non-null    object \n",
      " 2   Open            505 non-null    float64\n",
      " 3   High            505 non-null    float64\n",
      " 4   Low             505 non-null    float64\n",
      " 5   Close           505 non-null    float64\n",
      " 6   Adjusted_Close  505 non-null    float64\n",
      " 7   Volume          505 non-null    float64\n",
      " 8   Dividends       505 non-null    float64\n",
      "dtypes: float64(7), int64(1), object(1)\n",
      "memory usage: 35.6+ KB\n"
     ]
    }
   ],
   "source": [
    "MSFT_sub_df.info()"
   ]
  },
  {
   "cell_type": "code",
   "execution_count": 78,
   "metadata": {},
   "outputs": [],
   "source": [
    "MSFT_sub_df.to_csv('../data/MSFT_sub_Financial_Crisis.csv')"
   ]
  },
  {
   "cell_type": "code",
   "execution_count": null,
   "metadata": {},
   "outputs": [],
   "source": []
  }
 ],
 "metadata": {
  "kernelspec": {
   "display_name": "Python 3",
   "language": "python",
   "name": "python3"
  },
  "language_info": {
   "codemirror_mode": {
    "name": "ipython",
    "version": 3
   },
   "file_extension": ".py",
   "mimetype": "text/x-python",
   "name": "python",
   "nbconvert_exporter": "python",
   "pygments_lexer": "ipython3",
   "version": "3.7.6"
  }
 },
 "nbformat": 4,
 "nbformat_minor": 4
}
