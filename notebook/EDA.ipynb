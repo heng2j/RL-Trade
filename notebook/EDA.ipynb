{
 "cells": [
  {
   "cell_type": "markdown",
   "metadata": {},
   "source": [
    "# EDA - Exploratory Data Analysis"
   ]
  },
  {
   "cell_type": "markdown",
   "metadata": {},
   "source": [
    "## Import Module"
   ]
  },
  {
   "cell_type": "code",
   "execution_count": 3,
   "metadata": {},
   "outputs": [],
   "source": [
    "import pandas as pd\n",
    "import numpy as np"
   ]
  },
  {
   "cell_type": "code",
   "execution_count": 81,
   "metadata": {},
   "outputs": [],
   "source": [
    "# To plot pretty figures\n",
    "%matplotlib inline\n",
    "import matplotlib as mpl\n",
    "import matplotlib.pyplot as plt\n",
    "mpl.rc('axes', labelsize=14)\n",
    "mpl.rc('xtick', labelsize=12)\n",
    "mpl.rc('ytick', labelsize=12)\n"
   ]
  },
  {
   "cell_type": "markdown",
   "metadata": {},
   "source": [
    "\n",
    "## Load Data"
   ]
  },
  {
   "cell_type": "code",
   "execution_count": 4,
   "metadata": {},
   "outputs": [
    {
     "name": "stdout",
     "output_type": "stream",
     "text": [
      "total 2912\n",
      "-rw-r--r--  1 zla0368  10002    43K May 11 23:18 AAPL_sub_Financial_Crisis.csv\n",
      "-rw-r--r--  1 zla0368  10002    39K May 11 23:18 MSFT_sub_Financial_Crisis.csv\n",
      "-rw-r--r--@ 1 zla0368  10002   387K May 11 23:18 MSFT.csv\n",
      "-rw-r--r--  1 zla0368  10002   383K May 11 23:18 AAPL.csv\n",
      "-rw-r--r--  1 zla0368  10002   328K May 11 22:58 MSFT_OG.csv\n",
      "-rw-r--r--  1 zla0368  10002   267K May  9 15:36 AAPL_OG.csv\n"
     ]
    }
   ],
   "source": [
    "!ls -lht ../data/"
   ]
  },
  {
   "cell_type": "code",
   "execution_count": 5,
   "metadata": {},
   "outputs": [],
   "source": [
    "MSFT_total_df = pd.read_csv('../data/MSFT.csv', index_col=False)"
   ]
  },
  {
   "cell_type": "code",
   "execution_count": 6,
   "metadata": {},
   "outputs": [
    {
     "data": {
      "text/html": [
       "<div>\n",
       "<style scoped>\n",
       "    .dataframe tbody tr th:only-of-type {\n",
       "        vertical-align: middle;\n",
       "    }\n",
       "\n",
       "    .dataframe tbody tr th {\n",
       "        vertical-align: top;\n",
       "    }\n",
       "\n",
       "    .dataframe thead th {\n",
       "        text-align: right;\n",
       "    }\n",
       "</style>\n",
       "<table border=\"1\" class=\"dataframe\">\n",
       "  <thead>\n",
       "    <tr style=\"text-align: right;\">\n",
       "      <th></th>\n",
       "      <th>Date</th>\n",
       "      <th>Open</th>\n",
       "      <th>High</th>\n",
       "      <th>Low</th>\n",
       "      <th>Close</th>\n",
       "      <th>Adj Close</th>\n",
       "      <th>Volume</th>\n",
       "    </tr>\n",
       "  </thead>\n",
       "  <tbody>\n",
       "    <tr>\n",
       "      <th>0</th>\n",
       "      <td>1998-01-02</td>\n",
       "      <td>16.203125</td>\n",
       "      <td>16.437500</td>\n",
       "      <td>16.187500</td>\n",
       "      <td>16.390625</td>\n",
       "      <td>10.516310</td>\n",
       "      <td>39748000</td>\n",
       "    </tr>\n",
       "    <tr>\n",
       "      <th>1</th>\n",
       "      <td>1998-01-05</td>\n",
       "      <td>16.406250</td>\n",
       "      <td>16.703125</td>\n",
       "      <td>15.984375</td>\n",
       "      <td>16.296875</td>\n",
       "      <td>10.456161</td>\n",
       "      <td>80377600</td>\n",
       "    </tr>\n",
       "    <tr>\n",
       "      <th>2</th>\n",
       "      <td>1998-01-06</td>\n",
       "      <td>16.218750</td>\n",
       "      <td>16.625000</td>\n",
       "      <td>16.156250</td>\n",
       "      <td>16.390625</td>\n",
       "      <td>10.516310</td>\n",
       "      <td>67834400</td>\n",
       "    </tr>\n",
       "    <tr>\n",
       "      <th>3</th>\n",
       "      <td>1998-01-07</td>\n",
       "      <td>16.234375</td>\n",
       "      <td>16.398438</td>\n",
       "      <td>15.937500</td>\n",
       "      <td>16.195313</td>\n",
       "      <td>10.390995</td>\n",
       "      <td>61492800</td>\n",
       "    </tr>\n",
       "    <tr>\n",
       "      <th>4</th>\n",
       "      <td>1998-01-08</td>\n",
       "      <td>16.078125</td>\n",
       "      <td>16.515625</td>\n",
       "      <td>15.937500</td>\n",
       "      <td>16.312500</td>\n",
       "      <td>10.466186</td>\n",
       "      <td>77619200</td>\n",
       "    </tr>\n",
       "  </tbody>\n",
       "</table>\n",
       "</div>"
      ],
      "text/plain": [
       "         Date       Open       High        Low      Close  Adj Close    Volume\n",
       "0  1998-01-02  16.203125  16.437500  16.187500  16.390625  10.516310  39748000\n",
       "1  1998-01-05  16.406250  16.703125  15.984375  16.296875  10.456161  80377600\n",
       "2  1998-01-06  16.218750  16.625000  16.156250  16.390625  10.516310  67834400\n",
       "3  1998-01-07  16.234375  16.398438  15.937500  16.195313  10.390995  61492800\n",
       "4  1998-01-08  16.078125  16.515625  15.937500  16.312500  10.466186  77619200"
      ]
     },
     "execution_count": 6,
     "metadata": {},
     "output_type": "execute_result"
    }
   ],
   "source": [
    "MSFT_total_df.head()"
   ]
  },
  {
   "cell_type": "code",
   "execution_count": 7,
   "metadata": {},
   "outputs": [],
   "source": [
    "MSFT_total_df['Date'] = pd.to_datetime(MSFT_total_df['Date'])"
   ]
  },
  {
   "cell_type": "code",
   "execution_count": 8,
   "metadata": {},
   "outputs": [],
   "source": [
    "datetime_index = pd.DatetimeIndex(MSFT_total_df['Date'].values)"
   ]
  },
  {
   "cell_type": "code",
   "execution_count": 9,
   "metadata": {},
   "outputs": [],
   "source": [
    "MSFT_total_df=MSFT_total_df.set_index(datetime_index)"
   ]
  },
  {
   "cell_type": "code",
   "execution_count": 10,
   "metadata": {},
   "outputs": [],
   "source": [
    "MSFT_total_df.drop('Date',axis=1,inplace=True)"
   ]
  },
  {
   "cell_type": "code",
   "execution_count": 11,
   "metadata": {},
   "outputs": [
    {
     "name": "stdout",
     "output_type": "stream",
     "text": [
      "<class 'pandas.core.frame.DataFrame'>\n",
      "DatetimeIndex: 5624 entries, 1998-01-02 to 2020-05-08\n",
      "Data columns (total 6 columns):\n",
      " #   Column     Non-Null Count  Dtype  \n",
      "---  ------     --------------  -----  \n",
      " 0   Open       5624 non-null   float64\n",
      " 1   High       5624 non-null   float64\n",
      " 2   Low        5624 non-null   float64\n",
      " 3   Close      5624 non-null   float64\n",
      " 4   Adj Close  5624 non-null   float64\n",
      " 5   Volume     5624 non-null   int64  \n",
      "dtypes: float64(5), int64(1)\n",
      "memory usage: 307.6 KB\n"
     ]
    }
   ],
   "source": [
    "MSFT_total_df.info()"
   ]
  },
  {
   "cell_type": "code",
   "execution_count": 12,
   "metadata": {},
   "outputs": [
    {
     "data": {
      "text/html": [
       "<div>\n",
       "<style scoped>\n",
       "    .dataframe tbody tr th:only-of-type {\n",
       "        vertical-align: middle;\n",
       "    }\n",
       "\n",
       "    .dataframe tbody tr th {\n",
       "        vertical-align: top;\n",
       "    }\n",
       "\n",
       "    .dataframe thead th {\n",
       "        text-align: right;\n",
       "    }\n",
       "</style>\n",
       "<table border=\"1\" class=\"dataframe\">\n",
       "  <thead>\n",
       "    <tr style=\"text-align: right;\">\n",
       "      <th></th>\n",
       "      <th>Open</th>\n",
       "      <th>High</th>\n",
       "      <th>Low</th>\n",
       "      <th>Close</th>\n",
       "      <th>Adj Close</th>\n",
       "      <th>Volume</th>\n",
       "    </tr>\n",
       "  </thead>\n",
       "  <tbody>\n",
       "    <tr>\n",
       "      <th>1998-01-02</th>\n",
       "      <td>16.203125</td>\n",
       "      <td>16.437500</td>\n",
       "      <td>16.187500</td>\n",
       "      <td>16.390625</td>\n",
       "      <td>10.516310</td>\n",
       "      <td>39748000</td>\n",
       "    </tr>\n",
       "    <tr>\n",
       "      <th>1998-01-05</th>\n",
       "      <td>16.406250</td>\n",
       "      <td>16.703125</td>\n",
       "      <td>15.984375</td>\n",
       "      <td>16.296875</td>\n",
       "      <td>10.456161</td>\n",
       "      <td>80377600</td>\n",
       "    </tr>\n",
       "    <tr>\n",
       "      <th>1998-01-06</th>\n",
       "      <td>16.218750</td>\n",
       "      <td>16.625000</td>\n",
       "      <td>16.156250</td>\n",
       "      <td>16.390625</td>\n",
       "      <td>10.516310</td>\n",
       "      <td>67834400</td>\n",
       "    </tr>\n",
       "    <tr>\n",
       "      <th>1998-01-07</th>\n",
       "      <td>16.234375</td>\n",
       "      <td>16.398438</td>\n",
       "      <td>15.937500</td>\n",
       "      <td>16.195313</td>\n",
       "      <td>10.390995</td>\n",
       "      <td>61492800</td>\n",
       "    </tr>\n",
       "    <tr>\n",
       "      <th>1998-01-08</th>\n",
       "      <td>16.078125</td>\n",
       "      <td>16.515625</td>\n",
       "      <td>15.937500</td>\n",
       "      <td>16.312500</td>\n",
       "      <td>10.466186</td>\n",
       "      <td>77619200</td>\n",
       "    </tr>\n",
       "  </tbody>\n",
       "</table>\n",
       "</div>"
      ],
      "text/plain": [
       "                 Open       High        Low      Close  Adj Close    Volume\n",
       "1998-01-02  16.203125  16.437500  16.187500  16.390625  10.516310  39748000\n",
       "1998-01-05  16.406250  16.703125  15.984375  16.296875  10.456161  80377600\n",
       "1998-01-06  16.218750  16.625000  16.156250  16.390625  10.516310  67834400\n",
       "1998-01-07  16.234375  16.398438  15.937500  16.195313  10.390995  61492800\n",
       "1998-01-08  16.078125  16.515625  15.937500  16.312500  10.466186  77619200"
      ]
     },
     "execution_count": 12,
     "metadata": {},
     "output_type": "execute_result"
    }
   ],
   "source": [
    "MSFT_total_df.head()"
   ]
  },
  {
   "cell_type": "code",
   "execution_count": 13,
   "metadata": {},
   "outputs": [],
   "source": [
    "### Visualizing the close price"
   ]
  },
  {
   "cell_type": "code",
   "execution_count": 14,
   "metadata": {},
   "outputs": [],
   "source": [
    "MSFT_total_close_df = MSFT_total_df[['Close']]"
   ]
  },
  {
   "cell_type": "code",
   "execution_count": 25,
   "metadata": {},
   "outputs": [
    {
     "data": {
      "text/plain": [
       "<matplotlib.axes._subplots.AxesSubplot at 0x7fad61b8b550>"
      ]
     },
     "execution_count": 25,
     "metadata": {},
     "output_type": "execute_result"
    },
    {
     "data": {
      "image/png": "[encoded data removed]",
      "text/plain": [
       "<matplotlib.figure.Figure at 0x7fad61b91f90>"
      ]
     },
     "metadata": {
      "needs_background": "light"
     },
     "output_type": "display_data"
    }
   ],
   "source": [
    "MSFT_total_close_df.plot.line()"
   ]
  },
  {
   "cell_type": "code",
   "execution_count": null,
   "metadata": {},
   "outputs": [],
   "source": []
  },
  {
   "cell_type": "markdown",
   "metadata": {},
   "source": [
    "### Extract the subset during the 2008 finanical crises \n",
    "\n",
    "September 2007 to September 2009"
   ]
  },
  {
   "cell_type": "code",
   "execution_count": 154,
   "metadata": {},
   "outputs": [],
   "source": [
    "MSFT_sub_df = pd.read_csv('../data/MSFT.csv', index_col=False)"
   ]
  },
  {
   "cell_type": "code",
   "execution_count": 155,
   "metadata": {},
   "outputs": [
    {
     "data": {
      "text/html": [
       "<div>\n",
       "<style scoped>\n",
       "    .dataframe tbody tr th:only-of-type {\n",
       "        vertical-align: middle;\n",
       "    }\n",
       "\n",
       "    .dataframe tbody tr th {\n",
       "        vertical-align: top;\n",
       "    }\n",
       "\n",
       "    .dataframe thead th {\n",
       "        text-align: right;\n",
       "    }\n",
       "</style>\n",
       "<table border=\"1\" class=\"dataframe\">\n",
       "  <thead>\n",
       "    <tr style=\"text-align: right;\">\n",
       "      <th></th>\n",
       "      <th>Date</th>\n",
       "      <th>Open</th>\n",
       "      <th>High</th>\n",
       "      <th>Low</th>\n",
       "      <th>Close</th>\n",
       "      <th>Adj Close</th>\n",
       "      <th>Volume</th>\n",
       "    </tr>\n",
       "  </thead>\n",
       "  <tbody>\n",
       "    <tr>\n",
       "      <th>0</th>\n",
       "      <td>1998-01-02</td>\n",
       "      <td>16.203125</td>\n",
       "      <td>16.437500</td>\n",
       "      <td>16.187500</td>\n",
       "      <td>16.390625</td>\n",
       "      <td>10.516310</td>\n",
       "      <td>39748000</td>\n",
       "    </tr>\n",
       "    <tr>\n",
       "      <th>1</th>\n",
       "      <td>1998-01-05</td>\n",
       "      <td>16.406250</td>\n",
       "      <td>16.703125</td>\n",
       "      <td>15.984375</td>\n",
       "      <td>16.296875</td>\n",
       "      <td>10.456161</td>\n",
       "      <td>80377600</td>\n",
       "    </tr>\n",
       "    <tr>\n",
       "      <th>2</th>\n",
       "      <td>1998-01-06</td>\n",
       "      <td>16.218750</td>\n",
       "      <td>16.625000</td>\n",
       "      <td>16.156250</td>\n",
       "      <td>16.390625</td>\n",
       "      <td>10.516310</td>\n",
       "      <td>67834400</td>\n",
       "    </tr>\n",
       "    <tr>\n",
       "      <th>3</th>\n",
       "      <td>1998-01-07</td>\n",
       "      <td>16.234375</td>\n",
       "      <td>16.398438</td>\n",
       "      <td>15.937500</td>\n",
       "      <td>16.195313</td>\n",
       "      <td>10.390995</td>\n",
       "      <td>61492800</td>\n",
       "    </tr>\n",
       "    <tr>\n",
       "      <th>4</th>\n",
       "      <td>1998-01-08</td>\n",
       "      <td>16.078125</td>\n",
       "      <td>16.515625</td>\n",
       "      <td>15.937500</td>\n",
       "      <td>16.312500</td>\n",
       "      <td>10.466186</td>\n",
       "      <td>77619200</td>\n",
       "    </tr>\n",
       "    <tr>\n",
       "      <th>...</th>\n",
       "      <td>...</td>\n",
       "      <td>...</td>\n",
       "      <td>...</td>\n",
       "      <td>...</td>\n",
       "      <td>...</td>\n",
       "      <td>...</td>\n",
       "      <td>...</td>\n",
       "    </tr>\n",
       "    <tr>\n",
       "      <th>5619</th>\n",
       "      <td>2020-05-04</td>\n",
       "      <td>174.490005</td>\n",
       "      <td>179.000000</td>\n",
       "      <td>173.800003</td>\n",
       "      <td>178.839996</td>\n",
       "      <td>178.839996</td>\n",
       "      <td>30372900</td>\n",
       "    </tr>\n",
       "    <tr>\n",
       "      <th>5620</th>\n",
       "      <td>2020-05-05</td>\n",
       "      <td>180.619995</td>\n",
       "      <td>183.649994</td>\n",
       "      <td>179.899994</td>\n",
       "      <td>180.759995</td>\n",
       "      <td>180.759995</td>\n",
       "      <td>36839200</td>\n",
       "    </tr>\n",
       "    <tr>\n",
       "      <th>5621</th>\n",
       "      <td>2020-05-06</td>\n",
       "      <td>182.080002</td>\n",
       "      <td>184.199997</td>\n",
       "      <td>181.630005</td>\n",
       "      <td>182.539993</td>\n",
       "      <td>182.539993</td>\n",
       "      <td>32139300</td>\n",
       "    </tr>\n",
       "    <tr>\n",
       "      <th>5622</th>\n",
       "      <td>2020-05-07</td>\n",
       "      <td>184.169998</td>\n",
       "      <td>184.550003</td>\n",
       "      <td>182.580002</td>\n",
       "      <td>183.600006</td>\n",
       "      <td>183.600006</td>\n",
       "      <td>28316000</td>\n",
       "    </tr>\n",
       "    <tr>\n",
       "      <th>5623</th>\n",
       "      <td>2020-05-08</td>\n",
       "      <td>184.979996</td>\n",
       "      <td>185.000000</td>\n",
       "      <td>183.360001</td>\n",
       "      <td>184.679993</td>\n",
       "      <td>184.679993</td>\n",
       "      <td>30912600</td>\n",
       "    </tr>\n",
       "  </tbody>\n",
       "</table>\n",
       "<p>5624 rows × 7 columns</p>\n",
       "</div>"
      ],
      "text/plain": [
       "            Date        Open        High         Low       Close   Adj Close  \\\n",
       "0     1998-01-02   16.203125   16.437500   16.187500   16.390625   10.516310   \n",
       "1     1998-01-05   16.406250   16.703125   15.984375   16.296875   10.456161   \n",
       "2     1998-01-06   16.218750   16.625000   16.156250   16.390625   10.516310   \n",
       "3     1998-01-07   16.234375   16.398438   15.937500   16.195313   10.390995   \n",
       "4     1998-01-08   16.078125   16.515625   15.937500   16.312500   10.466186   \n",
       "...          ...         ...         ...         ...         ...         ...   \n",
       "5619  2020-05-04  174.490005  179.000000  173.800003  178.839996  178.839996   \n",
       "5620  2020-05-05  180.619995  183.649994  179.899994  180.759995  180.759995   \n",
       "5621  2020-05-06  182.080002  184.199997  181.630005  182.539993  182.539993   \n",
       "5622  2020-05-07  184.169998  184.550003  182.580002  183.600006  183.600006   \n",
       "5623  2020-05-08  184.979996  185.000000  183.360001  184.679993  184.679993   \n",
       "\n",
       "        Volume  \n",
       "0     39748000  \n",
       "1     80377600  \n",
       "2     67834400  \n",
       "3     61492800  \n",
       "4     77619200  \n",
       "...        ...  \n",
       "5619  30372900  \n",
       "5620  36839200  \n",
       "5621  32139300  \n",
       "5622  28316000  \n",
       "5623  30912600  \n",
       "\n",
       "[5624 rows x 7 columns]"
      ]
     },
     "execution_count": 155,
     "metadata": {},
     "output_type": "execute_result"
    }
   ],
   "source": [
    "MSFT_sub_df"
   ]
  },
  {
   "cell_type": "code",
   "execution_count": 156,
   "metadata": {},
   "outputs": [],
   "source": [
    "MSFT_sub_df = MSFT_sub_df[2420:2940]"
   ]
  },
  {
   "cell_type": "code",
   "execution_count": 157,
   "metadata": {},
   "outputs": [
    {
     "data": {
      "text/html": [
       "<div>\n",
       "<style scoped>\n",
       "    .dataframe tbody tr th:only-of-type {\n",
       "        vertical-align: middle;\n",
       "    }\n",
       "\n",
       "    .dataframe tbody tr th {\n",
       "        vertical-align: top;\n",
       "    }\n",
       "\n",
       "    .dataframe thead th {\n",
       "        text-align: right;\n",
       "    }\n",
       "</style>\n",
       "<table border=\"1\" class=\"dataframe\">\n",
       "  <thead>\n",
       "    <tr style=\"text-align: right;\">\n",
       "      <th></th>\n",
       "      <th>Date</th>\n",
       "      <th>Open</th>\n",
       "      <th>High</th>\n",
       "      <th>Low</th>\n",
       "      <th>Close</th>\n",
       "      <th>Adj Close</th>\n",
       "      <th>Volume</th>\n",
       "    </tr>\n",
       "  </thead>\n",
       "  <tbody>\n",
       "    <tr>\n",
       "      <th>2420</th>\n",
       "      <td>2007-08-17</td>\n",
       "      <td>28.090000</td>\n",
       "      <td>28.25</td>\n",
       "      <td>27.820000</td>\n",
       "      <td>28.250000</td>\n",
       "      <td>21.204178</td>\n",
       "      <td>76747700</td>\n",
       "    </tr>\n",
       "    <tr>\n",
       "      <th>2421</th>\n",
       "      <td>2007-08-20</td>\n",
       "      <td>28.180000</td>\n",
       "      <td>28.49</td>\n",
       "      <td>28.080000</td>\n",
       "      <td>28.260000</td>\n",
       "      <td>21.211685</td>\n",
       "      <td>49952000</td>\n",
       "    </tr>\n",
       "    <tr>\n",
       "      <th>2422</th>\n",
       "      <td>2007-08-21</td>\n",
       "      <td>28.100000</td>\n",
       "      <td>28.32</td>\n",
       "      <td>27.870001</td>\n",
       "      <td>28.070000</td>\n",
       "      <td>21.069067</td>\n",
       "      <td>50786200</td>\n",
       "    </tr>\n",
       "    <tr>\n",
       "      <th>2423</th>\n",
       "      <td>2007-08-22</td>\n",
       "      <td>28.270000</td>\n",
       "      <td>28.32</td>\n",
       "      <td>28.010000</td>\n",
       "      <td>28.219999</td>\n",
       "      <td>21.181658</td>\n",
       "      <td>44763500</td>\n",
       "    </tr>\n",
       "    <tr>\n",
       "      <th>2424</th>\n",
       "      <td>2007-08-23</td>\n",
       "      <td>28.280001</td>\n",
       "      <td>28.33</td>\n",
       "      <td>28.100000</td>\n",
       "      <td>28.299999</td>\n",
       "      <td>21.241705</td>\n",
       "      <td>33886600</td>\n",
       "    </tr>\n",
       "  </tbody>\n",
       "</table>\n",
       "</div>"
      ],
      "text/plain": [
       "            Date       Open   High        Low      Close  Adj Close    Volume\n",
       "2420  2007-08-17  28.090000  28.25  27.820000  28.250000  21.204178  76747700\n",
       "2421  2007-08-20  28.180000  28.49  28.080000  28.260000  21.211685  49952000\n",
       "2422  2007-08-21  28.100000  28.32  27.870001  28.070000  21.069067  50786200\n",
       "2423  2007-08-22  28.270000  28.32  28.010000  28.219999  21.181658  44763500\n",
       "2424  2007-08-23  28.280001  28.33  28.100000  28.299999  21.241705  33886600"
      ]
     },
     "execution_count": 157,
     "metadata": {},
     "output_type": "execute_result"
    }
   ],
   "source": [
    "MSFT_sub_df.head()"
   ]
  },
  {
   "cell_type": "code",
   "execution_count": 158,
   "metadata": {},
   "outputs": [
    {
     "data": {
      "text/html": [
       "<div>\n",
       "<style scoped>\n",
       "    .dataframe tbody tr th:only-of-type {\n",
       "        vertical-align: middle;\n",
       "    }\n",
       "\n",
       "    .dataframe tbody tr th {\n",
       "        vertical-align: top;\n",
       "    }\n",
       "\n",
       "    .dataframe thead th {\n",
       "        text-align: right;\n",
       "    }\n",
       "</style>\n",
       "<table border=\"1\" class=\"dataframe\">\n",
       "  <thead>\n",
       "    <tr style=\"text-align: right;\">\n",
       "      <th></th>\n",
       "      <th>Date</th>\n",
       "      <th>Open</th>\n",
       "      <th>High</th>\n",
       "      <th>Low</th>\n",
       "      <th>Close</th>\n",
       "      <th>Adj Close</th>\n",
       "      <th>Volume</th>\n",
       "    </tr>\n",
       "  </thead>\n",
       "  <tbody>\n",
       "    <tr>\n",
       "      <th>2935</th>\n",
       "      <td>2009-09-02</td>\n",
       "      <td>23.820000</td>\n",
       "      <td>24.139999</td>\n",
       "      <td>23.780001</td>\n",
       "      <td>23.860001</td>\n",
       "      <td>18.646608</td>\n",
       "      <td>40771300</td>\n",
       "    </tr>\n",
       "    <tr>\n",
       "      <th>2936</th>\n",
       "      <td>2009-09-03</td>\n",
       "      <td>23.910000</td>\n",
       "      <td>24.139999</td>\n",
       "      <td>23.760000</td>\n",
       "      <td>24.110001</td>\n",
       "      <td>18.841991</td>\n",
       "      <td>34120000</td>\n",
       "    </tr>\n",
       "    <tr>\n",
       "      <th>2937</th>\n",
       "      <td>2009-09-04</td>\n",
       "      <td>24.090000</td>\n",
       "      <td>24.799999</td>\n",
       "      <td>24.080000</td>\n",
       "      <td>24.620001</td>\n",
       "      <td>19.240555</td>\n",
       "      <td>44999700</td>\n",
       "    </tr>\n",
       "    <tr>\n",
       "      <th>2938</th>\n",
       "      <td>2009-09-08</td>\n",
       "      <td>24.620001</td>\n",
       "      <td>24.840000</td>\n",
       "      <td>24.410000</td>\n",
       "      <td>24.820000</td>\n",
       "      <td>19.396851</td>\n",
       "      <td>53737100</td>\n",
       "    </tr>\n",
       "    <tr>\n",
       "      <th>2939</th>\n",
       "      <td>2009-09-09</td>\n",
       "      <td>24.740000</td>\n",
       "      <td>24.950001</td>\n",
       "      <td>24.670000</td>\n",
       "      <td>24.780001</td>\n",
       "      <td>19.365593</td>\n",
       "      <td>49900300</td>\n",
       "    </tr>\n",
       "  </tbody>\n",
       "</table>\n",
       "</div>"
      ],
      "text/plain": [
       "            Date       Open       High        Low      Close  Adj Close  \\\n",
       "2935  2009-09-02  23.820000  24.139999  23.780001  23.860001  18.646608   \n",
       "2936  2009-09-03  23.910000  24.139999  23.760000  24.110001  18.841991   \n",
       "2937  2009-09-04  24.090000  24.799999  24.080000  24.620001  19.240555   \n",
       "2938  2009-09-08  24.620001  24.840000  24.410000  24.820000  19.396851   \n",
       "2939  2009-09-09  24.740000  24.950001  24.670000  24.780001  19.365593   \n",
       "\n",
       "        Volume  \n",
       "2935  40771300  \n",
       "2936  34120000  \n",
       "2937  44999700  \n",
       "2938  53737100  \n",
       "2939  49900300  "
      ]
     },
     "execution_count": 158,
     "metadata": {},
     "output_type": "execute_result"
    }
   ],
   "source": [
    "MSFT_sub_df.tail()"
   ]
  },
  {
   "cell_type": "code",
   "execution_count": 159,
   "metadata": {},
   "outputs": [
    {
     "name": "stdout",
     "output_type": "stream",
     "text": [
      "<class 'pandas.core.frame.DataFrame'>\n",
      "RangeIndex: 520 entries, 2420 to 2939\n",
      "Data columns (total 7 columns):\n",
      " #   Column     Non-Null Count  Dtype  \n",
      "---  ------     --------------  -----  \n",
      " 0   Date       520 non-null    object \n",
      " 1   Open       520 non-null    float64\n",
      " 2   High       520 non-null    float64\n",
      " 3   Low        520 non-null    float64\n",
      " 4   Close      520 non-null    float64\n",
      " 5   Adj Close  520 non-null    float64\n",
      " 6   Volume     520 non-null    int64  \n",
      "dtypes: float64(5), int64(1), object(1)\n",
      "memory usage: 28.6+ KB\n"
     ]
    }
   ],
   "source": [
    "MSFT_sub_df.info()"
   ]
  },
  {
   "cell_type": "code",
   "execution_count": 160,
   "metadata": {},
   "outputs": [],
   "source": [
    "MSFT_sub_df.to_csv('../data/MSFT_sub_Financial_Crisis.csv')"
   ]
  },
  {
   "cell_type": "code",
   "execution_count": 162,
   "metadata": {},
   "outputs": [
    {
     "data": {
      "text/plain": [
       "<matplotlib.axes._subplots.AxesSubplot at 0x7fad40b0e450>"
      ]
     },
     "execution_count": 162,
     "metadata": {},
     "output_type": "execute_result"
    },
    {
     "data": {
      "image/png": "[encoded data removed]",
      "text/plain": [
       "<matplotlib.figure.Figure at 0x7fad204d4fd0>"
      ]
     },
     "metadata": {
      "needs_background": "light"
     },
     "output_type": "display_data"
    }
   ],
   "source": [
    "\n",
    "MSFT_close_sub_df = MSFT_sub_df[['Close']]\n",
    "MSFT_close_sub_df.plot.line()"
   ]
  },
  {
   "cell_type": "code",
   "execution_count": null,
   "metadata": {},
   "outputs": [],
   "source": []
  },
  {
   "cell_type": "markdown",
   "metadata": {},
   "source": [
    "### Extract the subset during the 2020 COVID-19 Pandanmic\n",
    "\n",
    "\n",
    "Jan 2020 to May 2020"
   ]
  },
  {
   "cell_type": "code",
   "execution_count": 37,
   "metadata": {},
   "outputs": [],
   "source": [
    "MSFT_sub_df = pd.read_csv('../data/MSFT.csv', index_col=False)"
   ]
  },
  {
   "cell_type": "code",
   "execution_count": 38,
   "metadata": {},
   "outputs": [
    {
     "data": {
      "text/html": [
       "<div>\n",
       "<style scoped>\n",
       "    .dataframe tbody tr th:only-of-type {\n",
       "        vertical-align: middle;\n",
       "    }\n",
       "\n",
       "    .dataframe tbody tr th {\n",
       "        vertical-align: top;\n",
       "    }\n",
       "\n",
       "    .dataframe thead th {\n",
       "        text-align: right;\n",
       "    }\n",
       "</style>\n",
       "<table border=\"1\" class=\"dataframe\">\n",
       "  <thead>\n",
       "    <tr style=\"text-align: right;\">\n",
       "      <th></th>\n",
       "      <th>Date</th>\n",
       "      <th>Open</th>\n",
       "      <th>High</th>\n",
       "      <th>Low</th>\n",
       "      <th>Close</th>\n",
       "      <th>Adj Close</th>\n",
       "      <th>Volume</th>\n",
       "    </tr>\n",
       "  </thead>\n",
       "  <tbody>\n",
       "    <tr>\n",
       "      <th>5619</th>\n",
       "      <td>2020-05-04</td>\n",
       "      <td>174.490005</td>\n",
       "      <td>179.000000</td>\n",
       "      <td>173.800003</td>\n",
       "      <td>178.839996</td>\n",
       "      <td>178.839996</td>\n",
       "      <td>30372900</td>\n",
       "    </tr>\n",
       "    <tr>\n",
       "      <th>5620</th>\n",
       "      <td>2020-05-05</td>\n",
       "      <td>180.619995</td>\n",
       "      <td>183.649994</td>\n",
       "      <td>179.899994</td>\n",
       "      <td>180.759995</td>\n",
       "      <td>180.759995</td>\n",
       "      <td>36839200</td>\n",
       "    </tr>\n",
       "    <tr>\n",
       "      <th>5621</th>\n",
       "      <td>2020-05-06</td>\n",
       "      <td>182.080002</td>\n",
       "      <td>184.199997</td>\n",
       "      <td>181.630005</td>\n",
       "      <td>182.539993</td>\n",
       "      <td>182.539993</td>\n",
       "      <td>32139300</td>\n",
       "    </tr>\n",
       "    <tr>\n",
       "      <th>5622</th>\n",
       "      <td>2020-05-07</td>\n",
       "      <td>184.169998</td>\n",
       "      <td>184.550003</td>\n",
       "      <td>182.580002</td>\n",
       "      <td>183.600006</td>\n",
       "      <td>183.600006</td>\n",
       "      <td>28316000</td>\n",
       "    </tr>\n",
       "    <tr>\n",
       "      <th>5623</th>\n",
       "      <td>2020-05-08</td>\n",
       "      <td>184.979996</td>\n",
       "      <td>185.000000</td>\n",
       "      <td>183.360001</td>\n",
       "      <td>184.679993</td>\n",
       "      <td>184.679993</td>\n",
       "      <td>30912600</td>\n",
       "    </tr>\n",
       "  </tbody>\n",
       "</table>\n",
       "</div>"
      ],
      "text/plain": [
       "            Date        Open        High         Low       Close   Adj Close  \\\n",
       "5619  2020-05-04  174.490005  179.000000  173.800003  178.839996  178.839996   \n",
       "5620  2020-05-05  180.619995  183.649994  179.899994  180.759995  180.759995   \n",
       "5621  2020-05-06  182.080002  184.199997  181.630005  182.539993  182.539993   \n",
       "5622  2020-05-07  184.169998  184.550003  182.580002  183.600006  183.600006   \n",
       "5623  2020-05-08  184.979996  185.000000  183.360001  184.679993  184.679993   \n",
       "\n",
       "        Volume  \n",
       "5619  30372900  \n",
       "5620  36839200  \n",
       "5621  32139300  \n",
       "5622  28316000  \n",
       "5623  30912600  "
      ]
     },
     "execution_count": 38,
     "metadata": {},
     "output_type": "execute_result"
    }
   ],
   "source": [
    "MSFT_sub_df.tail()"
   ]
  },
  {
   "cell_type": "code",
   "execution_count": 39,
   "metadata": {},
   "outputs": [
    {
     "name": "stdout",
     "output_type": "stream",
     "text": [
      "<class 'pandas.core.frame.DataFrame'>\n",
      "RangeIndex: 5624 entries, 0 to 5623\n",
      "Data columns (total 7 columns):\n",
      " #   Column     Non-Null Count  Dtype  \n",
      "---  ------     --------------  -----  \n",
      " 0   Date       5624 non-null   object \n",
      " 1   Open       5624 non-null   float64\n",
      " 2   High       5624 non-null   float64\n",
      " 3   Low        5624 non-null   float64\n",
      " 4   Close      5624 non-null   float64\n",
      " 5   Adj Close  5624 non-null   float64\n",
      " 6   Volume     5624 non-null   int64  \n",
      "dtypes: float64(5), int64(1), object(1)\n",
      "memory usage: 307.7+ KB\n"
     ]
    }
   ],
   "source": [
    "MSFT_sub_df.info()"
   ]
  },
  {
   "cell_type": "code",
   "execution_count": 40,
   "metadata": {},
   "outputs": [],
   "source": [
    "MSFT_sub_df = MSFT_sub_df[5300:]"
   ]
  },
  {
   "cell_type": "code",
   "execution_count": 41,
   "metadata": {},
   "outputs": [
    {
     "data": {
      "text/html": [
       "<div>\n",
       "<style scoped>\n",
       "    .dataframe tbody tr th:only-of-type {\n",
       "        vertical-align: middle;\n",
       "    }\n",
       "\n",
       "    .dataframe tbody tr th {\n",
       "        vertical-align: top;\n",
       "    }\n",
       "\n",
       "    .dataframe thead th {\n",
       "        text-align: right;\n",
       "    }\n",
       "</style>\n",
       "<table border=\"1\" class=\"dataframe\">\n",
       "  <thead>\n",
       "    <tr style=\"text-align: right;\">\n",
       "      <th></th>\n",
       "      <th>Date</th>\n",
       "      <th>Open</th>\n",
       "      <th>High</th>\n",
       "      <th>Low</th>\n",
       "      <th>Close</th>\n",
       "      <th>Adj Close</th>\n",
       "      <th>Volume</th>\n",
       "    </tr>\n",
       "  </thead>\n",
       "  <tbody>\n",
       "    <tr>\n",
       "      <th>5300</th>\n",
       "      <td>2019-01-28</td>\n",
       "      <td>106.260002</td>\n",
       "      <td>106.480003</td>\n",
       "      <td>104.660004</td>\n",
       "      <td>105.080002</td>\n",
       "      <td>103.266861</td>\n",
       "      <td>29476700</td>\n",
       "    </tr>\n",
       "    <tr>\n",
       "      <th>5301</th>\n",
       "      <td>2019-01-29</td>\n",
       "      <td>104.879997</td>\n",
       "      <td>104.970001</td>\n",
       "      <td>102.169998</td>\n",
       "      <td>102.940002</td>\n",
       "      <td>101.163788</td>\n",
       "      <td>31490500</td>\n",
       "    </tr>\n",
       "    <tr>\n",
       "      <th>5302</th>\n",
       "      <td>2019-01-30</td>\n",
       "      <td>104.620003</td>\n",
       "      <td>106.379997</td>\n",
       "      <td>104.330002</td>\n",
       "      <td>106.379997</td>\n",
       "      <td>104.544426</td>\n",
       "      <td>49471900</td>\n",
       "    </tr>\n",
       "    <tr>\n",
       "      <th>5303</th>\n",
       "      <td>2019-01-31</td>\n",
       "      <td>103.800003</td>\n",
       "      <td>105.220001</td>\n",
       "      <td>103.180000</td>\n",
       "      <td>104.430000</td>\n",
       "      <td>102.628075</td>\n",
       "      <td>55636400</td>\n",
       "    </tr>\n",
       "    <tr>\n",
       "      <th>5304</th>\n",
       "      <td>2019-02-01</td>\n",
       "      <td>103.779999</td>\n",
       "      <td>104.099998</td>\n",
       "      <td>102.349998</td>\n",
       "      <td>102.779999</td>\n",
       "      <td>101.006546</td>\n",
       "      <td>35535700</td>\n",
       "    </tr>\n",
       "  </tbody>\n",
       "</table>\n",
       "</div>"
      ],
      "text/plain": [
       "            Date        Open        High         Low       Close   Adj Close  \\\n",
       "5300  2019-01-28  106.260002  106.480003  104.660004  105.080002  103.266861   \n",
       "5301  2019-01-29  104.879997  104.970001  102.169998  102.940002  101.163788   \n",
       "5302  2019-01-30  104.620003  106.379997  104.330002  106.379997  104.544426   \n",
       "5303  2019-01-31  103.800003  105.220001  103.180000  104.430000  102.628075   \n",
       "5304  2019-02-01  103.779999  104.099998  102.349998  102.779999  101.006546   \n",
       "\n",
       "        Volume  \n",
       "5300  29476700  \n",
       "5301  31490500  \n",
       "5302  49471900  \n",
       "5303  55636400  \n",
       "5304  35535700  "
      ]
     },
     "execution_count": 41,
     "metadata": {},
     "output_type": "execute_result"
    }
   ],
   "source": [
    "MSFT_sub_df.head()"
   ]
  },
  {
   "cell_type": "code",
   "execution_count": 42,
   "metadata": {},
   "outputs": [
    {
     "data": {
      "text/html": [
       "<div>\n",
       "<style scoped>\n",
       "    .dataframe tbody tr th:only-of-type {\n",
       "        vertical-align: middle;\n",
       "    }\n",
       "\n",
       "    .dataframe tbody tr th {\n",
       "        vertical-align: top;\n",
       "    }\n",
       "\n",
       "    .dataframe thead th {\n",
       "        text-align: right;\n",
       "    }\n",
       "</style>\n",
       "<table border=\"1\" class=\"dataframe\">\n",
       "  <thead>\n",
       "    <tr style=\"text-align: right;\">\n",
       "      <th></th>\n",
       "      <th>Date</th>\n",
       "      <th>Open</th>\n",
       "      <th>High</th>\n",
       "      <th>Low</th>\n",
       "      <th>Close</th>\n",
       "      <th>Adj Close</th>\n",
       "      <th>Volume</th>\n",
       "    </tr>\n",
       "  </thead>\n",
       "  <tbody>\n",
       "    <tr>\n",
       "      <th>5619</th>\n",
       "      <td>2020-05-04</td>\n",
       "      <td>174.490005</td>\n",
       "      <td>179.000000</td>\n",
       "      <td>173.800003</td>\n",
       "      <td>178.839996</td>\n",
       "      <td>178.839996</td>\n",
       "      <td>30372900</td>\n",
       "    </tr>\n",
       "    <tr>\n",
       "      <th>5620</th>\n",
       "      <td>2020-05-05</td>\n",
       "      <td>180.619995</td>\n",
       "      <td>183.649994</td>\n",
       "      <td>179.899994</td>\n",
       "      <td>180.759995</td>\n",
       "      <td>180.759995</td>\n",
       "      <td>36839200</td>\n",
       "    </tr>\n",
       "    <tr>\n",
       "      <th>5621</th>\n",
       "      <td>2020-05-06</td>\n",
       "      <td>182.080002</td>\n",
       "      <td>184.199997</td>\n",
       "      <td>181.630005</td>\n",
       "      <td>182.539993</td>\n",
       "      <td>182.539993</td>\n",
       "      <td>32139300</td>\n",
       "    </tr>\n",
       "    <tr>\n",
       "      <th>5622</th>\n",
       "      <td>2020-05-07</td>\n",
       "      <td>184.169998</td>\n",
       "      <td>184.550003</td>\n",
       "      <td>182.580002</td>\n",
       "      <td>183.600006</td>\n",
       "      <td>183.600006</td>\n",
       "      <td>28316000</td>\n",
       "    </tr>\n",
       "    <tr>\n",
       "      <th>5623</th>\n",
       "      <td>2020-05-08</td>\n",
       "      <td>184.979996</td>\n",
       "      <td>185.000000</td>\n",
       "      <td>183.360001</td>\n",
       "      <td>184.679993</td>\n",
       "      <td>184.679993</td>\n",
       "      <td>30912600</td>\n",
       "    </tr>\n",
       "  </tbody>\n",
       "</table>\n",
       "</div>"
      ],
      "text/plain": [
       "            Date        Open        High         Low       Close   Adj Close  \\\n",
       "5619  2020-05-04  174.490005  179.000000  173.800003  178.839996  178.839996   \n",
       "5620  2020-05-05  180.619995  183.649994  179.899994  180.759995  180.759995   \n",
       "5621  2020-05-06  182.080002  184.199997  181.630005  182.539993  182.539993   \n",
       "5622  2020-05-07  184.169998  184.550003  182.580002  183.600006  183.600006   \n",
       "5623  2020-05-08  184.979996  185.000000  183.360001  184.679993  184.679993   \n",
       "\n",
       "        Volume  \n",
       "5619  30372900  \n",
       "5620  36839200  \n",
       "5621  32139300  \n",
       "5622  28316000  \n",
       "5623  30912600  "
      ]
     },
     "execution_count": 42,
     "metadata": {},
     "output_type": "execute_result"
    }
   ],
   "source": [
    "MSFT_sub_df.tail()"
   ]
  },
  {
   "cell_type": "code",
   "execution_count": 43,
   "metadata": {},
   "outputs": [
    {
     "name": "stdout",
     "output_type": "stream",
     "text": [
      "<class 'pandas.core.frame.DataFrame'>\n",
      "RangeIndex: 324 entries, 5300 to 5623\n",
      "Data columns (total 7 columns):\n",
      " #   Column     Non-Null Count  Dtype  \n",
      "---  ------     --------------  -----  \n",
      " 0   Date       324 non-null    object \n",
      " 1   Open       324 non-null    float64\n",
      " 2   High       324 non-null    float64\n",
      " 3   Low        324 non-null    float64\n",
      " 4   Close      324 non-null    float64\n",
      " 5   Adj Close  324 non-null    float64\n",
      " 6   Volume     324 non-null    int64  \n",
      "dtypes: float64(5), int64(1), object(1)\n",
      "memory usage: 17.8+ KB\n"
     ]
    }
   ],
   "source": [
    "MSFT_sub_df.info()"
   ]
  },
  {
   "cell_type": "code",
   "execution_count": 44,
   "metadata": {},
   "outputs": [],
   "source": [
    "MSFT_sub_close_df = MSFT_sub_df[['Close']]"
   ]
  },
  {
   "cell_type": "code",
   "execution_count": 45,
   "metadata": {},
   "outputs": [
    {
     "data": {
      "text/plain": [
       "<matplotlib.axes._subplots.AxesSubplot at 0x7fad61ab2ad0>"
      ]
     },
     "execution_count": 45,
     "metadata": {},
     "output_type": "execute_result"
    },
    {
     "data": {
      "image/png": "[encoded data removed]",
      "text/plain": [
       "<matplotlib.figure.Figure at 0x7fad61e11150>"
      ]
     },
     "metadata": {
      "needs_background": "light"
     },
     "output_type": "display_data"
    }
   ],
   "source": [
    "MSFT_sub_close_df.plot.line()"
   ]
  },
  {
   "cell_type": "code",
   "execution_count": 46,
   "metadata": {},
   "outputs": [],
   "source": [
    "MSFT_sub_df.to_csv('../data/MSFT_sub_COVID_Crisis.csv')"
   ]
  },
  {
   "cell_type": "code",
   "execution_count": null,
   "metadata": {},
   "outputs": [],
   "source": []
  },
  {
   "cell_type": "code",
   "execution_count": null,
   "metadata": {},
   "outputs": [],
   "source": []
  },
  {
   "cell_type": "code",
   "execution_count": null,
   "metadata": {},
   "outputs": [],
   "source": []
  },
  {
   "cell_type": "markdown",
   "metadata": {},
   "source": [
    "# For Apple"
   ]
  },
  {
   "cell_type": "code",
   "execution_count": null,
   "metadata": {},
   "outputs": [],
   "source": []
  },
  {
   "cell_type": "code",
   "execution_count": 83,
   "metadata": {},
   "outputs": [],
   "source": [
    "AAPL_total_df = pd.read_csv('../data/AAPL.csv', index_col=False)"
   ]
  },
  {
   "cell_type": "code",
   "execution_count": 84,
   "metadata": {},
   "outputs": [
    {
     "data": {
      "text/html": [
       "<div>\n",
       "<style scoped>\n",
       "    .dataframe tbody tr th:only-of-type {\n",
       "        vertical-align: middle;\n",
       "    }\n",
       "\n",
       "    .dataframe tbody tr th {\n",
       "        vertical-align: top;\n",
       "    }\n",
       "\n",
       "    .dataframe thead th {\n",
       "        text-align: right;\n",
       "    }\n",
       "</style>\n",
       "<table border=\"1\" class=\"dataframe\">\n",
       "  <thead>\n",
       "    <tr style=\"text-align: right;\">\n",
       "      <th></th>\n",
       "      <th>Date</th>\n",
       "      <th>Open</th>\n",
       "      <th>High</th>\n",
       "      <th>Low</th>\n",
       "      <th>Close</th>\n",
       "      <th>Adj Close</th>\n",
       "      <th>Volume</th>\n",
       "    </tr>\n",
       "  </thead>\n",
       "  <tbody>\n",
       "    <tr>\n",
       "      <th>0</th>\n",
       "      <td>1998-01-02</td>\n",
       "      <td>0.486607</td>\n",
       "      <td>0.580357</td>\n",
       "      <td>0.482143</td>\n",
       "      <td>0.580357</td>\n",
       "      <td>0.502414</td>\n",
       "      <td>179527600</td>\n",
       "    </tr>\n",
       "    <tr>\n",
       "      <th>1</th>\n",
       "      <td>1998-01-05</td>\n",
       "      <td>0.589286</td>\n",
       "      <td>0.591518</td>\n",
       "      <td>0.542411</td>\n",
       "      <td>0.566964</td>\n",
       "      <td>0.490820</td>\n",
       "      <td>162968400</td>\n",
       "    </tr>\n",
       "    <tr>\n",
       "      <th>2</th>\n",
       "      <td>1998-01-06</td>\n",
       "      <td>0.569196</td>\n",
       "      <td>0.714286</td>\n",
       "      <td>0.526786</td>\n",
       "      <td>0.676339</td>\n",
       "      <td>0.585505</td>\n",
       "      <td>453118400</td>\n",
       "    </tr>\n",
       "    <tr>\n",
       "      <th>3</th>\n",
       "      <td>1998-01-07</td>\n",
       "      <td>0.671875</td>\n",
       "      <td>0.678571</td>\n",
       "      <td>0.618304</td>\n",
       "      <td>0.625000</td>\n",
       "      <td>0.541061</td>\n",
       "      <td>260405600</td>\n",
       "    </tr>\n",
       "    <tr>\n",
       "      <th>4</th>\n",
       "      <td>1998-01-08</td>\n",
       "      <td>0.622768</td>\n",
       "      <td>0.665179</td>\n",
       "      <td>0.604911</td>\n",
       "      <td>0.649554</td>\n",
       "      <td>0.562317</td>\n",
       "      <td>193505200</td>\n",
       "    </tr>\n",
       "  </tbody>\n",
       "</table>\n",
       "</div>"
      ],
      "text/plain": [
       "         Date      Open      High       Low     Close  Adj Close     Volume\n",
       "0  1998-01-02  0.486607  0.580357  0.482143  0.580357   0.502414  179527600\n",
       "1  1998-01-05  0.589286  0.591518  0.542411  0.566964   0.490820  162968400\n",
       "2  1998-01-06  0.569196  0.714286  0.526786  0.676339   0.585505  453118400\n",
       "3  1998-01-07  0.671875  0.678571  0.618304  0.625000   0.541061  260405600\n",
       "4  1998-01-08  0.622768  0.665179  0.604911  0.649554   0.562317  193505200"
      ]
     },
     "execution_count": 84,
     "metadata": {},
     "output_type": "execute_result"
    }
   ],
   "source": [
    "AAPL_total_df.head()\n",
    "\n"
   ]
  },
  {
   "cell_type": "code",
   "execution_count": 85,
   "metadata": {},
   "outputs": [],
   "source": [
    "AAPL_total_df['Date'] = pd.to_datetime(AAPL_total_df['Date'])"
   ]
  },
  {
   "cell_type": "code",
   "execution_count": 86,
   "metadata": {},
   "outputs": [],
   "source": [
    "datetime_index = pd.DatetimeIndex(AAPL_total_df['Date'].values)"
   ]
  },
  {
   "cell_type": "code",
   "execution_count": 87,
   "metadata": {},
   "outputs": [],
   "source": [
    "AAPL_total_df=AAPL_total_df.set_index(datetime_index)"
   ]
  },
  {
   "cell_type": "code",
   "execution_count": 88,
   "metadata": {},
   "outputs": [],
   "source": [
    "AAPL_total_df.drop('Date',axis=1,inplace=True)"
   ]
  },
  {
   "cell_type": "code",
   "execution_count": 89,
   "metadata": {},
   "outputs": [
    {
     "name": "stdout",
     "output_type": "stream",
     "text": [
      "<class 'pandas.core.frame.DataFrame'>\n",
      "DatetimeIndex: 5624 entries, 1998-01-02 to 2020-05-08\n",
      "Data columns (total 6 columns):\n",
      " #   Column     Non-Null Count  Dtype  \n",
      "---  ------     --------------  -----  \n",
      " 0   Open       5624 non-null   float64\n",
      " 1   High       5624 non-null   float64\n",
      " 2   Low        5624 non-null   float64\n",
      " 3   Close      5624 non-null   float64\n",
      " 4   Adj Close  5624 non-null   float64\n",
      " 5   Volume     5624 non-null   int64  \n",
      "dtypes: float64(5), int64(1)\n",
      "memory usage: 307.6 KB\n"
     ]
    }
   ],
   "source": [
    "AAPL_total_df.info()"
   ]
  },
  {
   "cell_type": "code",
   "execution_count": 90,
   "metadata": {},
   "outputs": [
    {
     "data": {
      "text/html": [
       "<div>\n",
       "<style scoped>\n",
       "    .dataframe tbody tr th:only-of-type {\n",
       "        vertical-align: middle;\n",
       "    }\n",
       "\n",
       "    .dataframe tbody tr th {\n",
       "        vertical-align: top;\n",
       "    }\n",
       "\n",
       "    .dataframe thead th {\n",
       "        text-align: right;\n",
       "    }\n",
       "</style>\n",
       "<table border=\"1\" class=\"dataframe\">\n",
       "  <thead>\n",
       "    <tr style=\"text-align: right;\">\n",
       "      <th></th>\n",
       "      <th>Open</th>\n",
       "      <th>High</th>\n",
       "      <th>Low</th>\n",
       "      <th>Close</th>\n",
       "      <th>Adj Close</th>\n",
       "      <th>Volume</th>\n",
       "    </tr>\n",
       "  </thead>\n",
       "  <tbody>\n",
       "    <tr>\n",
       "      <th>1998-01-02</th>\n",
       "      <td>0.486607</td>\n",
       "      <td>0.580357</td>\n",
       "      <td>0.482143</td>\n",
       "      <td>0.580357</td>\n",
       "      <td>0.502414</td>\n",
       "      <td>179527600</td>\n",
       "    </tr>\n",
       "    <tr>\n",
       "      <th>1998-01-05</th>\n",
       "      <td>0.589286</td>\n",
       "      <td>0.591518</td>\n",
       "      <td>0.542411</td>\n",
       "      <td>0.566964</td>\n",
       "      <td>0.490820</td>\n",
       "      <td>162968400</td>\n",
       "    </tr>\n",
       "    <tr>\n",
       "      <th>1998-01-06</th>\n",
       "      <td>0.569196</td>\n",
       "      <td>0.714286</td>\n",
       "      <td>0.526786</td>\n",
       "      <td>0.676339</td>\n",
       "      <td>0.585505</td>\n",
       "      <td>453118400</td>\n",
       "    </tr>\n",
       "    <tr>\n",
       "      <th>1998-01-07</th>\n",
       "      <td>0.671875</td>\n",
       "      <td>0.678571</td>\n",
       "      <td>0.618304</td>\n",
       "      <td>0.625000</td>\n",
       "      <td>0.541061</td>\n",
       "      <td>260405600</td>\n",
       "    </tr>\n",
       "    <tr>\n",
       "      <th>1998-01-08</th>\n",
       "      <td>0.622768</td>\n",
       "      <td>0.665179</td>\n",
       "      <td>0.604911</td>\n",
       "      <td>0.649554</td>\n",
       "      <td>0.562317</td>\n",
       "      <td>193505200</td>\n",
       "    </tr>\n",
       "  </tbody>\n",
       "</table>\n",
       "</div>"
      ],
      "text/plain": [
       "                Open      High       Low     Close  Adj Close     Volume\n",
       "1998-01-02  0.486607  0.580357  0.482143  0.580357   0.502414  179527600\n",
       "1998-01-05  0.589286  0.591518  0.542411  0.566964   0.490820  162968400\n",
       "1998-01-06  0.569196  0.714286  0.526786  0.676339   0.585505  453118400\n",
       "1998-01-07  0.671875  0.678571  0.618304  0.625000   0.541061  260405600\n",
       "1998-01-08  0.622768  0.665179  0.604911  0.649554   0.562317  193505200"
      ]
     },
     "execution_count": 90,
     "metadata": {},
     "output_type": "execute_result"
    }
   ],
   "source": [
    "AAPL_total_df.head()"
   ]
  },
  {
   "cell_type": "code",
   "execution_count": 91,
   "metadata": {},
   "outputs": [],
   "source": [
    "### Visualizing the close price"
   ]
  },
  {
   "cell_type": "code",
   "execution_count": 92,
   "metadata": {},
   "outputs": [],
   "source": [
    "AAPL_total_close_df = AAPL_total_df[['Close']]"
   ]
  },
  {
   "cell_type": "code",
   "execution_count": 93,
   "metadata": {},
   "outputs": [
    {
     "data": {
      "text/plain": [
       "<matplotlib.axes._subplots.AxesSubplot at 0x7fad00530ad0>"
      ]
     },
     "execution_count": 93,
     "metadata": {},
     "output_type": "execute_result"
    },
    {
     "data": {
      "image/png": "[encoded data removed]",
      "text/plain": [
       "<matplotlib.figure.Figure at 0x7fad00533210>"
      ]
     },
     "metadata": {
      "needs_background": "light"
     },
     "output_type": "display_data"
    }
   ],
   "source": [
    "AAPL_total_close_df.plot.line()"
   ]
  },
  {
   "cell_type": "code",
   "execution_count": null,
   "metadata": {},
   "outputs": [],
   "source": []
  },
  {
   "cell_type": "markdown",
   "metadata": {},
   "source": [
    "### Extract the subset during the 2008 finanical crises \n",
    "\n",
    "September 2007 to September 2009"
   ]
  },
  {
   "cell_type": "code",
   "execution_count": 163,
   "metadata": {},
   "outputs": [],
   "source": [
    "AAPL_sub_df = pd.read_csv('../data/AAPL.csv', index_col=False)"
   ]
  },
  {
   "cell_type": "code",
   "execution_count": 164,
   "metadata": {},
   "outputs": [
    {
     "data": {
      "text/html": [
       "<div>\n",
       "<style scoped>\n",
       "    .dataframe tbody tr th:only-of-type {\n",
       "        vertical-align: middle;\n",
       "    }\n",
       "\n",
       "    .dataframe tbody tr th {\n",
       "        vertical-align: top;\n",
       "    }\n",
       "\n",
       "    .dataframe thead th {\n",
       "        text-align: right;\n",
       "    }\n",
       "</style>\n",
       "<table border=\"1\" class=\"dataframe\">\n",
       "  <thead>\n",
       "    <tr style=\"text-align: right;\">\n",
       "      <th></th>\n",
       "      <th>Date</th>\n",
       "      <th>Open</th>\n",
       "      <th>High</th>\n",
       "      <th>Low</th>\n",
       "      <th>Close</th>\n",
       "      <th>Adj Close</th>\n",
       "      <th>Volume</th>\n",
       "    </tr>\n",
       "  </thead>\n",
       "  <tbody>\n",
       "    <tr>\n",
       "      <th>0</th>\n",
       "      <td>1998-01-02</td>\n",
       "      <td>0.486607</td>\n",
       "      <td>0.580357</td>\n",
       "      <td>0.482143</td>\n",
       "      <td>0.580357</td>\n",
       "      <td>0.502414</td>\n",
       "      <td>179527600</td>\n",
       "    </tr>\n",
       "    <tr>\n",
       "      <th>1</th>\n",
       "      <td>1998-01-05</td>\n",
       "      <td>0.589286</td>\n",
       "      <td>0.591518</td>\n",
       "      <td>0.542411</td>\n",
       "      <td>0.566964</td>\n",
       "      <td>0.490820</td>\n",
       "      <td>162968400</td>\n",
       "    </tr>\n",
       "    <tr>\n",
       "      <th>2</th>\n",
       "      <td>1998-01-06</td>\n",
       "      <td>0.569196</td>\n",
       "      <td>0.714286</td>\n",
       "      <td>0.526786</td>\n",
       "      <td>0.676339</td>\n",
       "      <td>0.585505</td>\n",
       "      <td>453118400</td>\n",
       "    </tr>\n",
       "    <tr>\n",
       "      <th>3</th>\n",
       "      <td>1998-01-07</td>\n",
       "      <td>0.671875</td>\n",
       "      <td>0.678571</td>\n",
       "      <td>0.618304</td>\n",
       "      <td>0.625000</td>\n",
       "      <td>0.541061</td>\n",
       "      <td>260405600</td>\n",
       "    </tr>\n",
       "    <tr>\n",
       "      <th>4</th>\n",
       "      <td>1998-01-08</td>\n",
       "      <td>0.622768</td>\n",
       "      <td>0.665179</td>\n",
       "      <td>0.604911</td>\n",
       "      <td>0.649554</td>\n",
       "      <td>0.562317</td>\n",
       "      <td>193505200</td>\n",
       "    </tr>\n",
       "    <tr>\n",
       "      <th>...</th>\n",
       "      <td>...</td>\n",
       "      <td>...</td>\n",
       "      <td>...</td>\n",
       "      <td>...</td>\n",
       "      <td>...</td>\n",
       "      <td>...</td>\n",
       "      <td>...</td>\n",
       "    </tr>\n",
       "    <tr>\n",
       "      <th>5619</th>\n",
       "      <td>2020-05-04</td>\n",
       "      <td>289.170013</td>\n",
       "      <td>293.690002</td>\n",
       "      <td>286.320007</td>\n",
       "      <td>293.160004</td>\n",
       "      <td>292.368561</td>\n",
       "      <td>33392000</td>\n",
       "    </tr>\n",
       "    <tr>\n",
       "      <th>5620</th>\n",
       "      <td>2020-05-05</td>\n",
       "      <td>295.059998</td>\n",
       "      <td>301.000000</td>\n",
       "      <td>294.459991</td>\n",
       "      <td>297.559998</td>\n",
       "      <td>296.756683</td>\n",
       "      <td>36937800</td>\n",
       "    </tr>\n",
       "    <tr>\n",
       "      <th>5621</th>\n",
       "      <td>2020-05-06</td>\n",
       "      <td>300.459991</td>\n",
       "      <td>303.239990</td>\n",
       "      <td>298.869995</td>\n",
       "      <td>300.630005</td>\n",
       "      <td>299.818390</td>\n",
       "      <td>35583400</td>\n",
       "    </tr>\n",
       "    <tr>\n",
       "      <th>5622</th>\n",
       "      <td>2020-05-07</td>\n",
       "      <td>303.220001</td>\n",
       "      <td>305.170013</td>\n",
       "      <td>301.970001</td>\n",
       "      <td>303.739990</td>\n",
       "      <td>302.919983</td>\n",
       "      <td>28803800</td>\n",
       "    </tr>\n",
       "    <tr>\n",
       "      <th>5623</th>\n",
       "      <td>2020-05-08</td>\n",
       "      <td>305.640015</td>\n",
       "      <td>310.350006</td>\n",
       "      <td>304.290009</td>\n",
       "      <td>310.130005</td>\n",
       "      <td>310.130005</td>\n",
       "      <td>33512000</td>\n",
       "    </tr>\n",
       "  </tbody>\n",
       "</table>\n",
       "<p>5624 rows × 7 columns</p>\n",
       "</div>"
      ],
      "text/plain": [
       "            Date        Open        High         Low       Close   Adj Close  \\\n",
       "0     1998-01-02    0.486607    0.580357    0.482143    0.580357    0.502414   \n",
       "1     1998-01-05    0.589286    0.591518    0.542411    0.566964    0.490820   \n",
       "2     1998-01-06    0.569196    0.714286    0.526786    0.676339    0.585505   \n",
       "3     1998-01-07    0.671875    0.678571    0.618304    0.625000    0.541061   \n",
       "4     1998-01-08    0.622768    0.665179    0.604911    0.649554    0.562317   \n",
       "...          ...         ...         ...         ...         ...         ...   \n",
       "5619  2020-05-04  289.170013  293.690002  286.320007  293.160004  292.368561   \n",
       "5620  2020-05-05  295.059998  301.000000  294.459991  297.559998  296.756683   \n",
       "5621  2020-05-06  300.459991  303.239990  298.869995  300.630005  299.818390   \n",
       "5622  2020-05-07  303.220001  305.170013  301.970001  303.739990  302.919983   \n",
       "5623  2020-05-08  305.640015  310.350006  304.290009  310.130005  310.130005   \n",
       "\n",
       "         Volume  \n",
       "0     179527600  \n",
       "1     162968400  \n",
       "2     453118400  \n",
       "3     260405600  \n",
       "4     193505200  \n",
       "...         ...  \n",
       "5619   33392000  \n",
       "5620   36937800  \n",
       "5621   35583400  \n",
       "5622   28803800  \n",
       "5623   33512000  \n",
       "\n",
       "[5624 rows x 7 columns]"
      ]
     },
     "execution_count": 164,
     "metadata": {},
     "output_type": "execute_result"
    }
   ],
   "source": [
    "AAPL_sub_df"
   ]
  },
  {
   "cell_type": "code",
   "execution_count": 165,
   "metadata": {},
   "outputs": [],
   "source": [
    "AAPL_sub_df = AAPL_sub_df[2420:2940]"
   ]
  },
  {
   "cell_type": "code",
   "execution_count": 166,
   "metadata": {},
   "outputs": [
    {
     "data": {
      "text/html": [
       "<div>\n",
       "<style scoped>\n",
       "    .dataframe tbody tr th:only-of-type {\n",
       "        vertical-align: middle;\n",
       "    }\n",
       "\n",
       "    .dataframe tbody tr th {\n",
       "        vertical-align: top;\n",
       "    }\n",
       "\n",
       "    .dataframe thead th {\n",
       "        text-align: right;\n",
       "    }\n",
       "</style>\n",
       "<table border=\"1\" class=\"dataframe\">\n",
       "  <thead>\n",
       "    <tr style=\"text-align: right;\">\n",
       "      <th></th>\n",
       "      <th>Date</th>\n",
       "      <th>Open</th>\n",
       "      <th>High</th>\n",
       "      <th>Low</th>\n",
       "      <th>Close</th>\n",
       "      <th>Adj Close</th>\n",
       "      <th>Volume</th>\n",
       "    </tr>\n",
       "  </thead>\n",
       "  <tbody>\n",
       "    <tr>\n",
       "      <th>2420</th>\n",
       "      <td>2007-08-17</td>\n",
       "      <td>17.430000</td>\n",
       "      <td>17.642857</td>\n",
       "      <td>17.117144</td>\n",
       "      <td>17.437143</td>\n",
       "      <td>15.095286</td>\n",
       "      <td>298765600</td>\n",
       "    </tr>\n",
       "    <tr>\n",
       "      <th>2421</th>\n",
       "      <td>2007-08-20</td>\n",
       "      <td>17.708570</td>\n",
       "      <td>17.785715</td>\n",
       "      <td>17.214285</td>\n",
       "      <td>17.459999</td>\n",
       "      <td>15.115072</td>\n",
       "      <td>200829300</td>\n",
       "    </tr>\n",
       "    <tr>\n",
       "      <th>2422</th>\n",
       "      <td>2007-08-21</td>\n",
       "      <td>17.458570</td>\n",
       "      <td>18.422857</td>\n",
       "      <td>17.285715</td>\n",
       "      <td>18.224285</td>\n",
       "      <td>15.776716</td>\n",
       "      <td>325761800</td>\n",
       "    </tr>\n",
       "    <tr>\n",
       "      <th>2423</th>\n",
       "      <td>2007-08-22</td>\n",
       "      <td>18.745714</td>\n",
       "      <td>18.964285</td>\n",
       "      <td>18.618572</td>\n",
       "      <td>18.930000</td>\n",
       "      <td>16.387651</td>\n",
       "      <td>265441400</td>\n",
       "    </tr>\n",
       "    <tr>\n",
       "      <th>2424</th>\n",
       "      <td>2007-08-23</td>\n",
       "      <td>19.012857</td>\n",
       "      <td>19.048571</td>\n",
       "      <td>18.537144</td>\n",
       "      <td>18.724285</td>\n",
       "      <td>16.209562</td>\n",
       "      <td>216709500</td>\n",
       "    </tr>\n",
       "  </tbody>\n",
       "</table>\n",
       "</div>"
      ],
      "text/plain": [
       "            Date       Open       High        Low      Close  Adj Close  \\\n",
       "2420  2007-08-17  17.430000  17.642857  17.117144  17.437143  15.095286   \n",
       "2421  2007-08-20  17.708570  17.785715  17.214285  17.459999  15.115072   \n",
       "2422  2007-08-21  17.458570  18.422857  17.285715  18.224285  15.776716   \n",
       "2423  2007-08-22  18.745714  18.964285  18.618572  18.930000  16.387651   \n",
       "2424  2007-08-23  19.012857  19.048571  18.537144  18.724285  16.209562   \n",
       "\n",
       "         Volume  \n",
       "2420  298765600  \n",
       "2421  200829300  \n",
       "2422  325761800  \n",
       "2423  265441400  \n",
       "2424  216709500  "
      ]
     },
     "execution_count": 166,
     "metadata": {},
     "output_type": "execute_result"
    }
   ],
   "source": [
    "AAPL_sub_df.head()"
   ]
  },
  {
   "cell_type": "code",
   "execution_count": 167,
   "metadata": {},
   "outputs": [
    {
     "data": {
      "text/html": [
       "<div>\n",
       "<style scoped>\n",
       "    .dataframe tbody tr th:only-of-type {\n",
       "        vertical-align: middle;\n",
       "    }\n",
       "\n",
       "    .dataframe tbody tr th {\n",
       "        vertical-align: top;\n",
       "    }\n",
       "\n",
       "    .dataframe thead th {\n",
       "        text-align: right;\n",
       "    }\n",
       "</style>\n",
       "<table border=\"1\" class=\"dataframe\">\n",
       "  <thead>\n",
       "    <tr style=\"text-align: right;\">\n",
       "      <th></th>\n",
       "      <th>Date</th>\n",
       "      <th>Open</th>\n",
       "      <th>High</th>\n",
       "      <th>Low</th>\n",
       "      <th>Close</th>\n",
       "      <th>Adj Close</th>\n",
       "      <th>Volume</th>\n",
       "    </tr>\n",
       "  </thead>\n",
       "  <tbody>\n",
       "    <tr>\n",
       "      <th>2935</th>\n",
       "      <td>2009-09-02</td>\n",
       "      <td>23.517143</td>\n",
       "      <td>23.944286</td>\n",
       "      <td>23.444286</td>\n",
       "      <td>23.597143</td>\n",
       "      <td>20.427990</td>\n",
       "      <td>91062300</td>\n",
       "    </tr>\n",
       "    <tr>\n",
       "      <th>2936</th>\n",
       "      <td>2009-09-03</td>\n",
       "      <td>23.777143</td>\n",
       "      <td>23.871429</td>\n",
       "      <td>23.571428</td>\n",
       "      <td>23.792856</td>\n",
       "      <td>20.597416</td>\n",
       "      <td>73488800</td>\n",
       "    </tr>\n",
       "    <tr>\n",
       "      <th>2937</th>\n",
       "      <td>2009-09-04</td>\n",
       "      <td>23.897142</td>\n",
       "      <td>24.385714</td>\n",
       "      <td>23.870001</td>\n",
       "      <td>24.330000</td>\n",
       "      <td>21.062418</td>\n",
       "      <td>93657200</td>\n",
       "    </tr>\n",
       "    <tr>\n",
       "      <th>2938</th>\n",
       "      <td>2009-09-08</td>\n",
       "      <td>24.711428</td>\n",
       "      <td>24.734285</td>\n",
       "      <td>24.571428</td>\n",
       "      <td>24.704287</td>\n",
       "      <td>21.386440</td>\n",
       "      <td>78761900</td>\n",
       "    </tr>\n",
       "    <tr>\n",
       "      <th>2939</th>\n",
       "      <td>2009-09-09</td>\n",
       "      <td>24.682858</td>\n",
       "      <td>24.924286</td>\n",
       "      <td>24.242857</td>\n",
       "      <td>24.448572</td>\n",
       "      <td>21.165066</td>\n",
       "      <td>202771800</td>\n",
       "    </tr>\n",
       "  </tbody>\n",
       "</table>\n",
       "</div>"
      ],
      "text/plain": [
       "            Date       Open       High        Low      Close  Adj Close  \\\n",
       "2935  2009-09-02  23.517143  23.944286  23.444286  23.597143  20.427990   \n",
       "2936  2009-09-03  23.777143  23.871429  23.571428  23.792856  20.597416   \n",
       "2937  2009-09-04  23.897142  24.385714  23.870001  24.330000  21.062418   \n",
       "2938  2009-09-08  24.711428  24.734285  24.571428  24.704287  21.386440   \n",
       "2939  2009-09-09  24.682858  24.924286  24.242857  24.448572  21.165066   \n",
       "\n",
       "         Volume  \n",
       "2935   91062300  \n",
       "2936   73488800  \n",
       "2937   93657200  \n",
       "2938   78761900  \n",
       "2939  202771800  "
      ]
     },
     "execution_count": 167,
     "metadata": {},
     "output_type": "execute_result"
    }
   ],
   "source": [
    "AAPL_sub_df.tail()"
   ]
  },
  {
   "cell_type": "code",
   "execution_count": 168,
   "metadata": {},
   "outputs": [
    {
     "name": "stdout",
     "output_type": "stream",
     "text": [
      "<class 'pandas.core.frame.DataFrame'>\n",
      "RangeIndex: 520 entries, 2420 to 2939\n",
      "Data columns (total 7 columns):\n",
      " #   Column     Non-Null Count  Dtype  \n",
      "---  ------     --------------  -----  \n",
      " 0   Date       520 non-null    object \n",
      " 1   Open       520 non-null    float64\n",
      " 2   High       520 non-null    float64\n",
      " 3   Low        520 non-null    float64\n",
      " 4   Close      520 non-null    float64\n",
      " 5   Adj Close  520 non-null    float64\n",
      " 6   Volume     520 non-null    int64  \n",
      "dtypes: float64(5), int64(1), object(1)\n",
      "memory usage: 28.6+ KB\n"
     ]
    }
   ],
   "source": [
    "AAPL_sub_df.info()"
   ]
  },
  {
   "cell_type": "code",
   "execution_count": 169,
   "metadata": {},
   "outputs": [],
   "source": [
    "AAPL_sub_df.to_csv('../data/AAPL_sub_Financial_Crisis.csv')"
   ]
  },
  {
   "cell_type": "code",
   "execution_count": 170,
   "metadata": {},
   "outputs": [
    {
     "data": {
      "text/plain": [
       "<matplotlib.axes._subplots.AxesSubplot at 0x7fad109a6e50>"
      ]
     },
     "execution_count": 170,
     "metadata": {},
     "output_type": "execute_result"
    },
    {
     "data": {
      "image/png": "[encoded data removed]",
      "text/plain": [
       "<matplotlib.figure.Figure at 0x7fad1097cbd0>"
      ]
     },
     "metadata": {
      "needs_background": "light"
     },
     "output_type": "display_data"
    }
   ],
   "source": [
    "\n",
    "AAPL_Close_sub_df = AAPL_sub_df[['Close']]\n",
    "AAPL_Close_sub_df.plot.line()\n",
    "\n"
   ]
  },
  {
   "cell_type": "markdown",
   "metadata": {},
   "source": [
    "### Extract the subset during the 2020 COVID-19 Pandanmic\n",
    "\n",
    "\n",
    "Jan 2020 to May 2020"
   ]
  },
  {
   "cell_type": "code",
   "execution_count": 47,
   "metadata": {},
   "outputs": [],
   "source": [
    "AAPL_sub_df = pd.read_csv('../data/AAPL.csv', index_col=False)"
   ]
  },
  {
   "cell_type": "code",
   "execution_count": 48,
   "metadata": {},
   "outputs": [
    {
     "data": {
      "text/html": [
       "<div>\n",
       "<style scoped>\n",
       "    .dataframe tbody tr th:only-of-type {\n",
       "        vertical-align: middle;\n",
       "    }\n",
       "\n",
       "    .dataframe tbody tr th {\n",
       "        vertical-align: top;\n",
       "    }\n",
       "\n",
       "    .dataframe thead th {\n",
       "        text-align: right;\n",
       "    }\n",
       "</style>\n",
       "<table border=\"1\" class=\"dataframe\">\n",
       "  <thead>\n",
       "    <tr style=\"text-align: right;\">\n",
       "      <th></th>\n",
       "      <th>Date</th>\n",
       "      <th>Open</th>\n",
       "      <th>High</th>\n",
       "      <th>Low</th>\n",
       "      <th>Close</th>\n",
       "      <th>Adj Close</th>\n",
       "      <th>Volume</th>\n",
       "    </tr>\n",
       "  </thead>\n",
       "  <tbody>\n",
       "    <tr>\n",
       "      <th>0</th>\n",
       "      <td>1998-01-02</td>\n",
       "      <td>0.486607</td>\n",
       "      <td>0.580357</td>\n",
       "      <td>0.482143</td>\n",
       "      <td>0.580357</td>\n",
       "      <td>0.502414</td>\n",
       "      <td>179527600</td>\n",
       "    </tr>\n",
       "    <tr>\n",
       "      <th>1</th>\n",
       "      <td>1998-01-05</td>\n",
       "      <td>0.589286</td>\n",
       "      <td>0.591518</td>\n",
       "      <td>0.542411</td>\n",
       "      <td>0.566964</td>\n",
       "      <td>0.490820</td>\n",
       "      <td>162968400</td>\n",
       "    </tr>\n",
       "    <tr>\n",
       "      <th>2</th>\n",
       "      <td>1998-01-06</td>\n",
       "      <td>0.569196</td>\n",
       "      <td>0.714286</td>\n",
       "      <td>0.526786</td>\n",
       "      <td>0.676339</td>\n",
       "      <td>0.585505</td>\n",
       "      <td>453118400</td>\n",
       "    </tr>\n",
       "    <tr>\n",
       "      <th>3</th>\n",
       "      <td>1998-01-07</td>\n",
       "      <td>0.671875</td>\n",
       "      <td>0.678571</td>\n",
       "      <td>0.618304</td>\n",
       "      <td>0.625000</td>\n",
       "      <td>0.541061</td>\n",
       "      <td>260405600</td>\n",
       "    </tr>\n",
       "    <tr>\n",
       "      <th>4</th>\n",
       "      <td>1998-01-08</td>\n",
       "      <td>0.622768</td>\n",
       "      <td>0.665179</td>\n",
       "      <td>0.604911</td>\n",
       "      <td>0.649554</td>\n",
       "      <td>0.562317</td>\n",
       "      <td>193505200</td>\n",
       "    </tr>\n",
       "    <tr>\n",
       "      <th>...</th>\n",
       "      <td>...</td>\n",
       "      <td>...</td>\n",
       "      <td>...</td>\n",
       "      <td>...</td>\n",
       "      <td>...</td>\n",
       "      <td>...</td>\n",
       "      <td>...</td>\n",
       "    </tr>\n",
       "    <tr>\n",
       "      <th>5619</th>\n",
       "      <td>2020-05-04</td>\n",
       "      <td>289.170013</td>\n",
       "      <td>293.690002</td>\n",
       "      <td>286.320007</td>\n",
       "      <td>293.160004</td>\n",
       "      <td>292.368561</td>\n",
       "      <td>33392000</td>\n",
       "    </tr>\n",
       "    <tr>\n",
       "      <th>5620</th>\n",
       "      <td>2020-05-05</td>\n",
       "      <td>295.059998</td>\n",
       "      <td>301.000000</td>\n",
       "      <td>294.459991</td>\n",
       "      <td>297.559998</td>\n",
       "      <td>296.756683</td>\n",
       "      <td>36937800</td>\n",
       "    </tr>\n",
       "    <tr>\n",
       "      <th>5621</th>\n",
       "      <td>2020-05-06</td>\n",
       "      <td>300.459991</td>\n",
       "      <td>303.239990</td>\n",
       "      <td>298.869995</td>\n",
       "      <td>300.630005</td>\n",
       "      <td>299.818390</td>\n",
       "      <td>35583400</td>\n",
       "    </tr>\n",
       "    <tr>\n",
       "      <th>5622</th>\n",
       "      <td>2020-05-07</td>\n",
       "      <td>303.220001</td>\n",
       "      <td>305.170013</td>\n",
       "      <td>301.970001</td>\n",
       "      <td>303.739990</td>\n",
       "      <td>302.919983</td>\n",
       "      <td>28803800</td>\n",
       "    </tr>\n",
       "    <tr>\n",
       "      <th>5623</th>\n",
       "      <td>2020-05-08</td>\n",
       "      <td>305.640015</td>\n",
       "      <td>310.350006</td>\n",
       "      <td>304.290009</td>\n",
       "      <td>310.130005</td>\n",
       "      <td>310.130005</td>\n",
       "      <td>33512000</td>\n",
       "    </tr>\n",
       "  </tbody>\n",
       "</table>\n",
       "<p>5624 rows × 7 columns</p>\n",
       "</div>"
      ],
      "text/plain": [
       "            Date        Open        High         Low       Close   Adj Close  \\\n",
       "0     1998-01-02    0.486607    0.580357    0.482143    0.580357    0.502414   \n",
       "1     1998-01-05    0.589286    0.591518    0.542411    0.566964    0.490820   \n",
       "2     1998-01-06    0.569196    0.714286    0.526786    0.676339    0.585505   \n",
       "3     1998-01-07    0.671875    0.678571    0.618304    0.625000    0.541061   \n",
       "4     1998-01-08    0.622768    0.665179    0.604911    0.649554    0.562317   \n",
       "...          ...         ...         ...         ...         ...         ...   \n",
       "5619  2020-05-04  289.170013  293.690002  286.320007  293.160004  292.368561   \n",
       "5620  2020-05-05  295.059998  301.000000  294.459991  297.559998  296.756683   \n",
       "5621  2020-05-06  300.459991  303.239990  298.869995  300.630005  299.818390   \n",
       "5622  2020-05-07  303.220001  305.170013  301.970001  303.739990  302.919983   \n",
       "5623  2020-05-08  305.640015  310.350006  304.290009  310.130005  310.130005   \n",
       "\n",
       "         Volume  \n",
       "0     179527600  \n",
       "1     162968400  \n",
       "2     453118400  \n",
       "3     260405600  \n",
       "4     193505200  \n",
       "...         ...  \n",
       "5619   33392000  \n",
       "5620   36937800  \n",
       "5621   35583400  \n",
       "5622   28803800  \n",
       "5623   33512000  \n",
       "\n",
       "[5624 rows x 7 columns]"
      ]
     },
     "execution_count": 48,
     "metadata": {},
     "output_type": "execute_result"
    }
   ],
   "source": [
    "AAPL_sub_df"
   ]
  },
  {
   "cell_type": "code",
   "execution_count": 49,
   "metadata": {},
   "outputs": [],
   "source": [
    "AAPL_sub_df = AAPL_sub_df[5300:]"
   ]
  },
  {
   "cell_type": "code",
   "execution_count": 50,
   "metadata": {},
   "outputs": [
    {
     "data": {
      "text/html": [
       "<div>\n",
       "<style scoped>\n",
       "    .dataframe tbody tr th:only-of-type {\n",
       "        vertical-align: middle;\n",
       "    }\n",
       "\n",
       "    .dataframe tbody tr th {\n",
       "        vertical-align: top;\n",
       "    }\n",
       "\n",
       "    .dataframe thead th {\n",
       "        text-align: right;\n",
       "    }\n",
       "</style>\n",
       "<table border=\"1\" class=\"dataframe\">\n",
       "  <thead>\n",
       "    <tr style=\"text-align: right;\">\n",
       "      <th></th>\n",
       "      <th>Date</th>\n",
       "      <th>Open</th>\n",
       "      <th>High</th>\n",
       "      <th>Low</th>\n",
       "      <th>Close</th>\n",
       "      <th>Adj Close</th>\n",
       "      <th>Volume</th>\n",
       "    </tr>\n",
       "  </thead>\n",
       "  <tbody>\n",
       "    <tr>\n",
       "      <th>5300</th>\n",
       "      <td>2019-01-28</td>\n",
       "      <td>155.789993</td>\n",
       "      <td>156.330002</td>\n",
       "      <td>153.660004</td>\n",
       "      <td>156.300003</td>\n",
       "      <td>153.207047</td>\n",
       "      <td>26192100</td>\n",
       "    </tr>\n",
       "    <tr>\n",
       "      <th>5301</th>\n",
       "      <td>2019-01-29</td>\n",
       "      <td>156.250000</td>\n",
       "      <td>158.130005</td>\n",
       "      <td>154.110001</td>\n",
       "      <td>154.679993</td>\n",
       "      <td>151.619080</td>\n",
       "      <td>41587200</td>\n",
       "    </tr>\n",
       "    <tr>\n",
       "      <th>5302</th>\n",
       "      <td>2019-01-30</td>\n",
       "      <td>163.250000</td>\n",
       "      <td>166.149994</td>\n",
       "      <td>160.229996</td>\n",
       "      <td>165.250000</td>\n",
       "      <td>161.979935</td>\n",
       "      <td>61109800</td>\n",
       "    </tr>\n",
       "    <tr>\n",
       "      <th>5303</th>\n",
       "      <td>2019-01-31</td>\n",
       "      <td>166.110001</td>\n",
       "      <td>169.000000</td>\n",
       "      <td>164.559998</td>\n",
       "      <td>166.440002</td>\n",
       "      <td>163.146362</td>\n",
       "      <td>40739600</td>\n",
       "    </tr>\n",
       "    <tr>\n",
       "      <th>5304</th>\n",
       "      <td>2019-02-01</td>\n",
       "      <td>166.960007</td>\n",
       "      <td>168.979996</td>\n",
       "      <td>165.929993</td>\n",
       "      <td>166.520004</td>\n",
       "      <td>163.224792</td>\n",
       "      <td>32668100</td>\n",
       "    </tr>\n",
       "  </tbody>\n",
       "</table>\n",
       "</div>"
      ],
      "text/plain": [
       "            Date        Open        High         Low       Close   Adj Close  \\\n",
       "5300  2019-01-28  155.789993  156.330002  153.660004  156.300003  153.207047   \n",
       "5301  2019-01-29  156.250000  158.130005  154.110001  154.679993  151.619080   \n",
       "5302  2019-01-30  163.250000  166.149994  160.229996  165.250000  161.979935   \n",
       "5303  2019-01-31  166.110001  169.000000  164.559998  166.440002  163.146362   \n",
       "5304  2019-02-01  166.960007  168.979996  165.929993  166.520004  163.224792   \n",
       "\n",
       "        Volume  \n",
       "5300  26192100  \n",
       "5301  41587200  \n",
       "5302  61109800  \n",
       "5303  40739600  \n",
       "5304  32668100  "
      ]
     },
     "execution_count": 50,
     "metadata": {},
     "output_type": "execute_result"
    }
   ],
   "source": [
    "AAPL_sub_df.head()"
   ]
  },
  {
   "cell_type": "code",
   "execution_count": 51,
   "metadata": {},
   "outputs": [
    {
     "data": {
      "text/html": [
       "<div>\n",
       "<style scoped>\n",
       "    .dataframe tbody tr th:only-of-type {\n",
       "        vertical-align: middle;\n",
       "    }\n",
       "\n",
       "    .dataframe tbody tr th {\n",
       "        vertical-align: top;\n",
       "    }\n",
       "\n",
       "    .dataframe thead th {\n",
       "        text-align: right;\n",
       "    }\n",
       "</style>\n",
       "<table border=\"1\" class=\"dataframe\">\n",
       "  <thead>\n",
       "    <tr style=\"text-align: right;\">\n",
       "      <th></th>\n",
       "      <th>Date</th>\n",
       "      <th>Open</th>\n",
       "      <th>High</th>\n",
       "      <th>Low</th>\n",
       "      <th>Close</th>\n",
       "      <th>Adj Close</th>\n",
       "      <th>Volume</th>\n",
       "    </tr>\n",
       "  </thead>\n",
       "  <tbody>\n",
       "    <tr>\n",
       "      <th>5619</th>\n",
       "      <td>2020-05-04</td>\n",
       "      <td>289.170013</td>\n",
       "      <td>293.690002</td>\n",
       "      <td>286.320007</td>\n",
       "      <td>293.160004</td>\n",
       "      <td>292.368561</td>\n",
       "      <td>33392000</td>\n",
       "    </tr>\n",
       "    <tr>\n",
       "      <th>5620</th>\n",
       "      <td>2020-05-05</td>\n",
       "      <td>295.059998</td>\n",
       "      <td>301.000000</td>\n",
       "      <td>294.459991</td>\n",
       "      <td>297.559998</td>\n",
       "      <td>296.756683</td>\n",
       "      <td>36937800</td>\n",
       "    </tr>\n",
       "    <tr>\n",
       "      <th>5621</th>\n",
       "      <td>2020-05-06</td>\n",
       "      <td>300.459991</td>\n",
       "      <td>303.239990</td>\n",
       "      <td>298.869995</td>\n",
       "      <td>300.630005</td>\n",
       "      <td>299.818390</td>\n",
       "      <td>35583400</td>\n",
       "    </tr>\n",
       "    <tr>\n",
       "      <th>5622</th>\n",
       "      <td>2020-05-07</td>\n",
       "      <td>303.220001</td>\n",
       "      <td>305.170013</td>\n",
       "      <td>301.970001</td>\n",
       "      <td>303.739990</td>\n",
       "      <td>302.919983</td>\n",
       "      <td>28803800</td>\n",
       "    </tr>\n",
       "    <tr>\n",
       "      <th>5623</th>\n",
       "      <td>2020-05-08</td>\n",
       "      <td>305.640015</td>\n",
       "      <td>310.350006</td>\n",
       "      <td>304.290009</td>\n",
       "      <td>310.130005</td>\n",
       "      <td>310.130005</td>\n",
       "      <td>33512000</td>\n",
       "    </tr>\n",
       "  </tbody>\n",
       "</table>\n",
       "</div>"
      ],
      "text/plain": [
       "            Date        Open        High         Low       Close   Adj Close  \\\n",
       "5619  2020-05-04  289.170013  293.690002  286.320007  293.160004  292.368561   \n",
       "5620  2020-05-05  295.059998  301.000000  294.459991  297.559998  296.756683   \n",
       "5621  2020-05-06  300.459991  303.239990  298.869995  300.630005  299.818390   \n",
       "5622  2020-05-07  303.220001  305.170013  301.970001  303.739990  302.919983   \n",
       "5623  2020-05-08  305.640015  310.350006  304.290009  310.130005  310.130005   \n",
       "\n",
       "        Volume  \n",
       "5619  33392000  \n",
       "5620  36937800  \n",
       "5621  35583400  \n",
       "5622  28803800  \n",
       "5623  33512000  "
      ]
     },
     "execution_count": 51,
     "metadata": {},
     "output_type": "execute_result"
    }
   ],
   "source": [
    "AAPL_sub_df.tail()"
   ]
  },
  {
   "cell_type": "code",
   "execution_count": 52,
   "metadata": {},
   "outputs": [
    {
     "name": "stdout",
     "output_type": "stream",
     "text": [
      "<class 'pandas.core.frame.DataFrame'>\n",
      "RangeIndex: 324 entries, 5300 to 5623\n",
      "Data columns (total 7 columns):\n",
      " #   Column     Non-Null Count  Dtype  \n",
      "---  ------     --------------  -----  \n",
      " 0   Date       324 non-null    object \n",
      " 1   Open       324 non-null    float64\n",
      " 2   High       324 non-null    float64\n",
      " 3   Low        324 non-null    float64\n",
      " 4   Close      324 non-null    float64\n",
      " 5   Adj Close  324 non-null    float64\n",
      " 6   Volume     324 non-null    int64  \n",
      "dtypes: float64(5), int64(1), object(1)\n",
      "memory usage: 17.8+ KB\n"
     ]
    }
   ],
   "source": [
    "AAPL_sub_df.info()"
   ]
  },
  {
   "cell_type": "code",
   "execution_count": 54,
   "metadata": {},
   "outputs": [
    {
     "data": {
      "text/plain": [
       "<matplotlib.axes._subplots.AxesSubplot at 0x7fad2108f350>"
      ]
     },
     "execution_count": 54,
     "metadata": {},
     "output_type": "execute_result"
    },
    {
     "data": {
      "image/png": "[encoded data removed]",
      "text/plain": [
       "<matplotlib.figure.Figure at 0x7fad2108cd90>"
      ]
     },
     "metadata": {
      "needs_background": "light"
     },
     "output_type": "display_data"
    }
   ],
   "source": [
    "AAPL_sub_close_df = AAPL_sub_df[['Close']]\n",
    "AAPL_sub_close_df.plot.line()"
   ]
  },
  {
   "cell_type": "code",
   "execution_count": 55,
   "metadata": {},
   "outputs": [],
   "source": [
    "AAPL_sub_df.to_csv('../data/AAPL_sub_COVID_Crisis.csv')"
   ]
  },
  {
   "cell_type": "code",
   "execution_count": null,
   "metadata": {},
   "outputs": [],
   "source": []
  },
  {
   "cell_type": "markdown",
   "metadata": {},
   "source": [
    "# Visualizing Results"
   ]
  },
  {
   "cell_type": "markdown",
   "metadata": {},
   "source": [
    "### Loading Results"
   ]
  },
  {
   "cell_type": "code",
   "execution_count": 65,
   "metadata": {},
   "outputs": [
    {
     "name": "stdout",
     "output_type": "stream",
     "text": [
      "total 5528\n",
      "-rw-r--r--  1 zla0368  10002    84K May 13 21:21 Test_baseline_LSTM_V1_run_summary_t2.csv\n",
      "-rw-r--r--  1 zla0368  10002    84K May 13 21:20 Test_baseline_LSTM_V1_run_summary_t3.csv\n",
      "-rw-r--r--  1 zla0368  10002    84K May 13 21:20 Test_baseline_LSTM_V1_run_summary_t1.csv\n",
      "-rw-r--r--  1 zla0368  10002    83K May 13 21:20 Test_baseline_LSTM_V1_run_summary_t0.csv\n",
      "-rw-r--r--  1 zla0368  10002   139K May 13 20:14 base_line_LSTM_V1_run_summary.csv\n",
      "-rw-r--r--  1 zla0368  10002   150K May 13 19:48 Train_UDR_base_line_LSTM_V2_Transfer_Learning_run_summary.csv\n",
      "-rw-r--r--  1 zla0368  10002   144K May 13 19:48 Train_UDR_base_line_LSTM_V2_run_summary.csv\n",
      "-rw-r--r--  1 zla0368  10002   497K May 13 19:48 Train_UDR_base_line_A2C_V1_run_summary.csv\n",
      "-rw-r--r--  1 zla0368  10002    83K May 13 19:48 Test_baseline_LSTM_V2_run_summary_t3.csv\n",
      "-rw-r--r--  1 zla0368  10002   133K May 13 19:48 Train_base_line_LSTM_V2_run_summary.csv\n",
      "-rw-r--r--  1 zla0368  10002   6.2K May 13 19:48 Train_base_line_LSTM_V1_run_summary.csv\n",
      "-rw-r--r--  1 zla0368  10002    83K May 13 19:48 Test_baseline_LSTM_V2_run_summary_t2.csv\n",
      "-rw-r--r--  1 zla0368  10002    84K May 13 19:47 Test_baseline_LSTM_V2_run_summary_t1.csv\n",
      "-rw-r--r--  1 zla0368  10002    84K May 13 19:47 Test_baseline_LSTM_V2_run_summary_t0.csv\n",
      "-rw-r--r--  1 zla0368  10002    83K May 13 19:45 Test_UDR_baseline_LSTM_V2_Transfer_Learning_run_summary_t0.csv\n",
      "-rw-r--r--  1 zla0368  10002    83K May 13 19:45 Test_UDR_baseline_LSTM_V2_run_summary_t3.csv\n",
      "-rw-r--r--  1 zla0368  10002    83K May 13 19:45 Test_UDR_baseline_LSTM_V2_run_summary_t2.csv\n",
      "-rw-r--r--  1 zla0368  10002    82K May 13 19:44 Test_UDR_baseline_LSTM_V2_run_summary_t1.csv\n",
      "-rw-r--r--  1 zla0368  10002    83K May 13 19:27 Test_UDR_baseline_LSTM_V2_run_summary_t0.csv\n",
      "-rw-r--r--  1 zla0368  10002    83K May 13 19:26 Test_UDR_baseline_LSTM_V2_Transfer_Learning_run_summary_t3.csv\n",
      "-rw-r--r--  1 zla0368  10002    84K May 13 19:26 Test_UDR_baseline_LSTM_V2_Transfer_Learning_run_summary_t2.csv\n",
      "-rw-r--r--  1 zla0368  10002    84K May 13 19:26 Test_UDR_baseline_LSTM_V2_Transfer_Learning_run_summary_t1.csv\n",
      "-rw-r--r--  1 zla0368  10002    50K May 13 19:12 Test_UDR_base_line_A2C_V1_run_summary.csv\n",
      "-rw-r--r--  1 zla0368  10002    83K May 13 19:08 Test_UDR_baseline_LSTM_V2_run_summary.csv\n",
      "-rw-r--r--  1 zla0368  10002    83K May 13 19:04 Test_baseline_LSTM_V2_run_summary.csv\n"
     ]
    }
   ],
   "source": [
    "!ls -lht ../run_summary"
   ]
  },
  {
   "cell_type": "markdown",
   "metadata": {},
   "source": [
    "### Read in Test run Summaries "
   ]
  },
  {
   "cell_type": "code",
   "execution_count": 75,
   "metadata": {},
   "outputs": [],
   "source": [
    "file_name = '../run_summary/Test_baseline_LSTM_V1_run_summary_t0.csv'"
   ]
  },
  {
   "cell_type": "code",
   "execution_count": 76,
   "metadata": {},
   "outputs": [],
   "source": [
    "t0_df = pd.read_csv(file_name)"
   ]
  },
  {
   "cell_type": "code",
   "execution_count": 77,
   "metadata": {},
   "outputs": [
    {
     "data": {
      "text/html": [
       "<div>\n",
       "<style scoped>\n",
       "    .dataframe tbody tr th:only-of-type {\n",
       "        vertical-align: middle;\n",
       "    }\n",
       "\n",
       "    .dataframe tbody tr th {\n",
       "        vertical-align: top;\n",
       "    }\n",
       "\n",
       "    .dataframe thead th {\n",
       "        text-align: right;\n",
       "    }\n",
       "</style>\n",
       "<table border=\"1\" class=\"dataframe\">\n",
       "  <thead>\n",
       "    <tr style=\"text-align: right;\">\n",
       "      <th></th>\n",
       "      <th>Unnamed: 0</th>\n",
       "      <th>step</th>\n",
       "      <th>date</th>\n",
       "      <th>balance</th>\n",
       "      <th>shares_held</th>\n",
       "      <th>total_shares_sold</th>\n",
       "      <th>cost_basis</th>\n",
       "      <th>total_sales_value</th>\n",
       "      <th>net_worth</th>\n",
       "      <th>max_net_worth</th>\n",
       "      <th>cur_reward</th>\n",
       "      <th>cur_action</th>\n",
       "      <th>profit</th>\n",
       "    </tr>\n",
       "  </thead>\n",
       "  <tbody>\n",
       "    <tr>\n",
       "      <th>0</th>\n",
       "      <td>0</td>\n",
       "      <td>1</td>\n",
       "      <td>2007-08-20</td>\n",
       "      <td>1000.000000</td>\n",
       "      <td>0</td>\n",
       "      <td>0</td>\n",
       "      <td>0.000000</td>\n",
       "      <td>0.0</td>\n",
       "      <td>1000.000000</td>\n",
       "      <td>1000.000000</td>\n",
       "      <td>0.008333</td>\n",
       "      <td>[0, 0]</td>\n",
       "      <td>0.000000</td>\n",
       "    </tr>\n",
       "    <tr>\n",
       "      <th>1</th>\n",
       "      <td>1</td>\n",
       "      <td>2</td>\n",
       "      <td>2007-08-21</td>\n",
       "      <td>1000.000000</td>\n",
       "      <td>0</td>\n",
       "      <td>0</td>\n",
       "      <td>0.000000</td>\n",
       "      <td>0.0</td>\n",
       "      <td>1000.000000</td>\n",
       "      <td>1000.000000</td>\n",
       "      <td>0.016667</td>\n",
       "      <td>[2.469   0.04477]</td>\n",
       "      <td>0.000000</td>\n",
       "    </tr>\n",
       "    <tr>\n",
       "      <th>2</th>\n",
       "      <td>2</td>\n",
       "      <td>3</td>\n",
       "      <td>2007-08-22</td>\n",
       "      <td>1000.000000</td>\n",
       "      <td>0</td>\n",
       "      <td>0</td>\n",
       "      <td>0.000000</td>\n",
       "      <td>0.0</td>\n",
       "      <td>1000.000000</td>\n",
       "      <td>1000.000000</td>\n",
       "      <td>0.025000</td>\n",
       "      <td>[1.184  0.6226]</td>\n",
       "      <td>0.000000</td>\n",
       "    </tr>\n",
       "    <tr>\n",
       "      <th>3</th>\n",
       "      <td>3</td>\n",
       "      <td>4</td>\n",
       "      <td>2007-08-23</td>\n",
       "      <td>67.923413</td>\n",
       "      <td>44</td>\n",
       "      <td>0</td>\n",
       "      <td>21.183559</td>\n",
       "      <td>0.0</td>\n",
       "      <td>1000.000000</td>\n",
       "      <td>1000.000000</td>\n",
       "      <td>0.002264</td>\n",
       "      <td>[0.2163 0.943 ]</td>\n",
       "      <td>0.000000</td>\n",
       "    </tr>\n",
       "    <tr>\n",
       "      <th>4</th>\n",
       "      <td>4</td>\n",
       "      <td>5</td>\n",
       "      <td>2007-08-24</td>\n",
       "      <td>67.923413</td>\n",
       "      <td>44</td>\n",
       "      <td>0</td>\n",
       "      <td>21.183559</td>\n",
       "      <td>0.0</td>\n",
       "      <td>1001.937968</td>\n",
       "      <td>1001.937968</td>\n",
       "      <td>1.940798</td>\n",
       "      <td>[0, 0]</td>\n",
       "      <td>1.937968</td>\n",
       "    </tr>\n",
       "  </tbody>\n",
       "</table>\n",
       "</div>"
      ],
      "text/plain": [
       "   Unnamed: 0  step        date      balance  shares_held  total_shares_sold  \\\n",
       "0           0     1  2007-08-20  1000.000000            0                  0   \n",
       "1           1     2  2007-08-21  1000.000000            0                  0   \n",
       "2           2     3  2007-08-22  1000.000000            0                  0   \n",
       "3           3     4  2007-08-23    67.923413           44                  0   \n",
       "4           4     5  2007-08-24    67.923413           44                  0   \n",
       "\n",
       "   cost_basis  total_sales_value    net_worth  max_net_worth  cur_reward  \\\n",
       "0    0.000000                0.0  1000.000000    1000.000000    0.008333   \n",
       "1    0.000000                0.0  1000.000000    1000.000000    0.016667   \n",
       "2    0.000000                0.0  1000.000000    1000.000000    0.025000   \n",
       "3   21.183559                0.0  1000.000000    1000.000000    0.002264   \n",
       "4   21.183559                0.0  1001.937968    1001.937968    1.940798   \n",
       "\n",
       "          cur_action    profit  \n",
       "0             [0, 0]  0.000000  \n",
       "1  [2.469   0.04477]  0.000000  \n",
       "2    [1.184  0.6226]  0.000000  \n",
       "3    [0.2163 0.943 ]  0.000000  \n",
       "4             [0, 0]  1.937968  "
      ]
     },
     "execution_count": 77,
     "metadata": {},
     "output_type": "execute_result"
    }
   ],
   "source": [
    "t0_df.head()"
   ]
  },
  {
   "cell_type": "code",
   "execution_count": 98,
   "metadata": {},
   "outputs": [],
   "source": [
    "t0_net_worth = t0_df[['net_worth']]\n",
    "t0_cur_reward = t0_df[['cur_reward']]\n",
    "t0_profit = t0_df[['profit']]\n",
    "t0_balance = t0_df[['balance']]"
   ]
  },
  {
   "cell_type": "code",
   "execution_count": 127,
   "metadata": {},
   "outputs": [
    {
     "data": {
      "image/png": "[encoded data removed]",
      "text/plain": [
       "<matplotlib.figure.Figure at 0x7fad616a9590>"
      ]
     },
     "metadata": {
      "needs_background": "light"
     },
     "output_type": "display_data"
    }
   ],
   "source": [
    "file_name = '../run_summary/Test_baseline_LSTM_V1_run_summary_t0.csv'\n",
    "\n",
    "t0_df = pd.read_csv(file_name)\n",
    "\n",
    "t0_net_worth = t0_df[['net_worth']]\n",
    "t0_shares_held = t0_df[['shares_held']]\n",
    "t0_profit = t0_df[['profit']]\n",
    "t0_balance = t0_df[['balance']]\n",
    "\n",
    "\n",
    "plt.figure(figsize=(10,6))  \n",
    "plt.plot(t0_net_worth, color='blue', label='Net Worth Over Time')  \n",
    "plt.plot(t0_shares_held , color='yellow', label='Shares Held Over Time') \n",
    "plt.plot(t0_profit, color='green', label='Profit Over Time')  \n",
    "plt.plot(t0_balance , color='pink', label='Account Balance Over Time') \n",
    "plt.title('Sample Baseline LSTM V1 Agent Performed during 08 Financial Crisis (Time Aug 2008 - Sep 2009)')  \n",
    "plt.xlabel('Timesteps in Days')  \n",
    "plt.ylabel('Values from by trading Microsoft Stocks')  \n",
    "plt.legend()  \n",
    "plt.show()  "
   ]
  },
  {
   "cell_type": "code",
   "execution_count": null,
   "metadata": {},
   "outputs": [],
   "source": []
  },
  {
   "cell_type": "code",
   "execution_count": 138,
   "metadata": {},
   "outputs": [
    {
     "name": "stdout",
     "output_type": "stream",
     "text": [
      "total 6360\n",
      "-rw-r--r--  1 zla0368  10002    51K May 13 22:05 Test_UDR_baseline_LSTM_V2_Transfer_Learning_MSFT_COVID_run_summary_t3.csv\n",
      "-rw-r--r--  1 zla0368  10002    52K May 13 22:04 Test_UDR_baseline_LSTM_V2_Transfer_Learning_MSFT_COVID_run_summary_t2.csv\n",
      "-rw-r--r--  1 zla0368  10002    52K May 13 22:04 Test_UDR_baseline_LSTM_V2_Transfer_Learning_MSFT_COVID_run_summary_t1.csv\n",
      "-rw-r--r--  1 zla0368  10002    51K May 13 22:04 Test_UDR_baseline_LSTM_V2_Transfer_Learning_MSFT_COVID_run_summary_t0.csv\n",
      "-rw-r--r--  1 zla0368  10002    52K May 13 22:03 Test_UDR_baseline_LSTM_V2_Transfer_Learning_COVID_run_summary_t3.csv\n",
      "-rw-r--r--  1 zla0368  10002    49K May 13 22:03 Test_UDR_baseline_LSTM_V2_Transfer_Learning_COVID_run_summary_t2.csv\n",
      "-rw-r--r--  1 zla0368  10002    52K May 13 22:02 Test_UDR_baseline_LSTM_V2_Transfer_Learning_COVID_run_summary_t1.csv\n",
      "-rw-r--r--  1 zla0368  10002    51K May 13 22:02 Test_UDR_baseline_LSTM_V2_Transfer_Learning_COVID_run_summary_t0.csv\n",
      "-rw-r--r--  1 zla0368  10002    84K May 13 21:21 Test_baseline_LSTM_V1_run_summary_t2.csv\n",
      "-rw-r--r--  1 zla0368  10002    84K May 13 21:20 Test_baseline_LSTM_V1_run_summary_t3.csv\n",
      "-rw-r--r--  1 zla0368  10002    84K May 13 21:20 Test_baseline_LSTM_V1_run_summary_t1.csv\n",
      "-rw-r--r--  1 zla0368  10002    83K May 13 21:20 Test_baseline_LSTM_V1_run_summary_t0.csv\n",
      "-rw-r--r--  1 zla0368  10002   139K May 13 20:14 base_line_LSTM_V1_run_summary.csv\n",
      "-rw-r--r--  1 zla0368  10002   150K May 13 19:48 Train_UDR_base_line_LSTM_V2_Transfer_Learning_run_summary.csv\n",
      "-rw-r--r--  1 zla0368  10002   144K May 13 19:48 Train_UDR_base_line_LSTM_V2_run_summary.csv\n",
      "-rw-r--r--  1 zla0368  10002   497K May 13 19:48 Train_UDR_base_line_A2C_V1_run_summary.csv\n",
      "-rw-r--r--  1 zla0368  10002    83K May 13 19:48 Test_baseline_LSTM_V2_run_summary_t3.csv\n",
      "-rw-r--r--  1 zla0368  10002   133K May 13 19:48 Train_base_line_LSTM_V2_run_summary.csv\n",
      "-rw-r--r--  1 zla0368  10002   6.2K May 13 19:48 Train_base_line_LSTM_V1_run_summary.csv\n",
      "-rw-r--r--  1 zla0368  10002    83K May 13 19:48 Test_baseline_LSTM_V2_run_summary_t2.csv\n",
      "-rw-r--r--  1 zla0368  10002    84K May 13 19:47 Test_baseline_LSTM_V2_run_summary_t1.csv\n",
      "-rw-r--r--  1 zla0368  10002    84K May 13 19:47 Test_baseline_LSTM_V2_run_summary_t0.csv\n",
      "-rw-r--r--  1 zla0368  10002    83K May 13 19:45 Test_UDR_baseline_LSTM_V2_Transfer_Learning_run_summary_t0.csv\n",
      "-rw-r--r--  1 zla0368  10002    83K May 13 19:45 Test_UDR_baseline_LSTM_V2_run_summary_t3.csv\n",
      "-rw-r--r--  1 zla0368  10002    83K May 13 19:45 Test_UDR_baseline_LSTM_V2_run_summary_t2.csv\n",
      "-rw-r--r--  1 zla0368  10002    82K May 13 19:44 Test_UDR_baseline_LSTM_V2_run_summary_t1.csv\n",
      "-rw-r--r--  1 zla0368  10002    83K May 13 19:27 Test_UDR_baseline_LSTM_V2_run_summary_t0.csv\n",
      "-rw-r--r--  1 zla0368  10002    83K May 13 19:26 Test_UDR_baseline_LSTM_V2_Transfer_Learning_run_summary_t3.csv\n",
      "-rw-r--r--  1 zla0368  10002    84K May 13 19:26 Test_UDR_baseline_LSTM_V2_Transfer_Learning_run_summary_t2.csv\n",
      "-rw-r--r--  1 zla0368  10002    84K May 13 19:26 Test_UDR_baseline_LSTM_V2_Transfer_Learning_run_summary_t1.csv\n",
      "-rw-r--r--  1 zla0368  10002    50K May 13 19:12 Test_UDR_base_line_A2C_V1_run_summary.csv\n",
      "-rw-r--r--  1 zla0368  10002    83K May 13 19:08 Test_UDR_baseline_LSTM_V2_run_summary.csv\n",
      "-rw-r--r--  1 zla0368  10002    83K May 13 19:04 Test_baseline_LSTM_V2_run_summary.csv\n"
     ]
    }
   ],
   "source": [
    "!ls -lht ../run_summary"
   ]
  },
  {
   "cell_type": "code",
   "execution_count": 148,
   "metadata": {},
   "outputs": [
    {
     "data": {
      "image/png": "[encoded data removed]",
      "text/plain": [
       "<matplotlib.figure.Figure at 0x7fad502cc1d0>"
      ]
     },
     "metadata": {
      "needs_background": "light"
     },
     "output_type": "display_data"
    }
   ],
   "source": [
    "file_name = '../run_summary/Test_UDR_baseline_LSTM_V2_Transfer_Learning_MSFT_COVID_run_summary_t3.csv'\n",
    "\n",
    "t0_df = pd.read_csv(file_name)\n",
    "\n",
    "t0_net_worth = t0_df[['net_worth']]\n",
    "t0_shares_held = t0_df[['shares_held']]\n",
    "t0_profit = t0_df[['profit']]\n",
    "t0_balance = t0_df[['balance']]\n",
    "\n",
    "\n",
    "\n",
    "plt.figure(figsize=(10,6))  \n",
    "plt.plot(t0_net_worth, color='blue', label='Net Worth Over Time')  \n",
    "plt.plot(t0_shares_held , color='yellow', label='Shares Held Over Time') \n",
    "plt.plot(t0_profit, color='green', label='Profit Over Time')  \n",
    "plt.plot(t0_balance , color='pink', label='Account Balance Over Time') \n",
    "plt.title('Transfer Learning LSTM V2 with UDR Agent Performed during 2020 COVID Pandemic (Time Jan 2020 - May 2020)')  \n",
    "plt.xlabel('Timesteps in Days')  \n",
    "plt.ylabel('Values from by trading Microsoft Stocks')  \n",
    "plt.legend()  \n",
    "plt.show()  "
   ]
  },
  {
   "cell_type": "code",
   "execution_count": null,
   "metadata": {},
   "outputs": [],
   "source": []
  },
  {
   "cell_type": "code",
   "execution_count": 137,
   "metadata": {},
   "outputs": [
    {
     "data": {
      "image/png": "[encoded data removed]",
      "text/plain": [
       "<matplotlib.figure.Figure at 0x7fad40becdd0>"
      ]
     },
     "metadata": {
      "needs_background": "light"
     },
     "output_type": "display_data"
    }
   ],
   "source": [
    "file_name = '../run_summary/Test_UDR_base_line_A2C_V1_run_summary.csv'\n",
    "\n",
    "t0_df = pd.read_csv(file_name)\n",
    "\n",
    "t0_net_worth = t0_df[['net_worth']]\n",
    "t0_shares_held = t0_df[['shares_held']]\n",
    "t0_profit = t0_df[['profit']]\n",
    "t0_balance = t0_df[['balance']]\n",
    "\n",
    "\n",
    "\n",
    "plt.figure(figsize=(10,6))  \n",
    "plt.plot(t0_net_worth, color='blue', label='Net Worth Over Time')  \n",
    "plt.plot(t0_shares_held , color='yellow', label='Shares Held Over Time') \n",
    "plt.plot(t0_profit, color='green', label='Profit Over Time')  \n",
    "plt.plot(t0_balance , color='pink', label='Account Balance Over Time') \n",
    "plt.title('A2C V1 with UDR Agent Performed during 08 Financial Crisis (Time Aug 2008 - Sep 2009)')  \n",
    "plt.xlabel('Timesteps in Days')  \n",
    "plt.ylabel('Values from by trading Microsoft Stocks')  \n",
    "plt.legend()  \n",
    "plt.show()  "
   ]
  },
  {
   "cell_type": "code",
   "execution_count": 135,
   "metadata": {},
   "outputs": [
    {
     "data": {
      "image/png": "[encoded data removed]",
      "text/plain": [
       "<matplotlib.figure.Figure at 0x7facf0197410>"
      ]
     },
     "metadata": {
      "needs_background": "light"
     },
     "output_type": "display_data"
    }
   ],
   "source": [
    "file_name = '../run_summary/Test_UDR_baseline_LSTM_V2_run_summary_t0.csv'\n",
    "\n",
    "file_name = '../run_summary/Test_UDR_baseline_LSTM_V2_run_summary_t1.csv'\n",
    "\n",
    "file_name = '../run_summary/Test_UDR_baseline_LSTM_V2_run_summary_t2.csv'\n",
    "\n",
    "file_name = '../run_summary/Test_UDR_baseline_LSTM_V2_run_summary_t3.csv'\n",
    "\n",
    "t0_df = pd.read_csv(file_name)\n",
    "\n",
    "t0_net_worth = t0_df[['net_worth']]\n",
    "t0_shares_held = t0_df[['shares_held']]\n",
    "t0_profit = t0_df[['profit']]\n",
    "t0_balance = t0_df[['balance']]\n",
    "\n",
    "\n",
    "\n",
    "\n",
    "\n",
    "\n",
    "plt.figure(figsize=(10,6))  \n",
    "plt.plot(t0_net_worth, color='blue', label='Net Worth Over Time')  \n",
    "plt.plot(t0_shares_held , color='yellow', label='Shares Held Over Time') \n",
    "plt.plot(t0_profit, color='green', label='Profit Over Time')  \n",
    "plt.plot(t0_balance , color='pink', label='Account Balance Over Time') \n",
    "plt.title('LSTM V2 with UDR Agent Performed during 08 Financial Crisis (Time Aug 2008 - Sep 2009)')  \n",
    "plt.xlabel('Timesteps in Days')  \n",
    "plt.ylabel('Values from by trading Microsoft Stocks')  \n",
    "plt.legend()  \n",
    "plt.show()  "
   ]
  },
  {
   "cell_type": "code",
   "execution_count": null,
   "metadata": {},
   "outputs": [],
   "source": []
  },
  {
   "cell_type": "code",
   "execution_count": 153,
   "metadata": {},
   "outputs": [
    {
     "data": {
      "image/png": "[encoded data removed]",
      "text/plain": [
       "<matplotlib.figure.Figure at 0x7fad30792290>"
      ]
     },
     "metadata": {
      "needs_background": "light"
     },
     "output_type": "display_data"
    }
   ],
   "source": [
    "file_name_t0  = '../run_summary/Test_UDR_baseline_LSTM_V2_Transfer_Learning_COVID_run_summary_t0.csv'\n",
    "file_name_t1 = '../run_summary/Test_UDR_baseline_LSTM_V2_Transfer_Learning_COVID_run_summary_t1.csv'\n",
    "file_name_t2 = '../run_summary/Test_UDR_baseline_LSTM_V2_Transfer_Learning_COVID_run_summary_t2.csv'\n",
    "file_name_t3 = '../run_summary/Test_UDR_baseline_LSTM_V2_Transfer_Learning_COVID_run_summary_t3.csv'\n",
    "\n",
    "t0_df = pd.read_csv(file_name_t0)\n",
    "t1_df = pd.read_csv(file_name_t1)\n",
    "t2_df = pd.read_csv(file_name_t2)\n",
    "t3_df = pd.read_csv(file_name_t3)\n",
    "\n",
    "\n",
    "t0_net_worth = t0_df[['net_worth']]\n",
    "t1_net_worth = t1_df[['net_worth']]\n",
    "t2_net_worth = t2_df[['net_worth']]\n",
    "t3_net_worth = t3_df[['net_worth']]\n",
    "\n",
    "\n",
    "# t0_shares_held = t0_df[['shares_held']]\n",
    "# t0_profit = t0_df[['profit']]\n",
    "# t0_balance = t0_df[['balance']]\n",
    "\n",
    "\n",
    "\n",
    "plt.figure(figsize=(10,6))  \n",
    "plt.plot(t0_net_worth, color='blue', label='T0 Net Worth Over Time')  \n",
    "plt.plot(t1_net_worth , color='yellow', label='T1 Net Worth Over Time') \n",
    "plt.plot(t2_net_worth, color='green', label='T2 Net Worth Over Time')  \n",
    "plt.plot(t3_net_worth , color='pink', label='T3 Net Worth Over Time') \n",
    "plt.title('Transfer Learning LSTM V2 with UDR Agent Performed during 2020 COVID Pandemic (Time Jan 2020 - May 2020)')  \n",
    "plt.xlabel('Timesteps in Days')  \n",
    "plt.ylabel('Values from by trading Apple Stocks')  \n",
    "plt.legend()  \n",
    "plt.show()  "
   ]
  },
  {
   "cell_type": "code",
   "execution_count": null,
   "metadata": {},
   "outputs": [],
   "source": []
  },
  {
   "cell_type": "code",
   "execution_count": 126,
   "metadata": {},
   "outputs": [
    {
     "data": {
      "image/png": "[encoded data removed]",
      "text/plain": [
       "<matplotlib.figure.Figure at 0x7fad10a577d0>"
      ]
     },
     "metadata": {
      "needs_background": "light"
     },
     "output_type": "display_data"
    }
   ],
   "source": [
    "file_name = '../run_summary/Test_UDR_baseline_LSTM_V2_Transfer_Learning_run_summary_t3.csv'\n",
    "\n",
    "t0_df = pd.read_csv(file_name)\n",
    "\n",
    "t0_net_worth = t0_df[['net_worth']]\n",
    "t0_shares_held = t0_df[['shares_held']]\n",
    "t0_profit = t0_df[['profit']]\n",
    "t0_balance = t0_df[['balance']]\n",
    "\n",
    "\n",
    "\n",
    "plt.figure(figsize=(10,6))  \n",
    "plt.plot(t0_net_worth, color='blue', label='Net Worth Over Time')  \n",
    "plt.plot(t0_shares_held , color='yellow', label='Shares Held Over Time') \n",
    "plt.plot(t0_profit, color='green', label='Profit Over Time')  \n",
    "plt.plot(t0_balance , color='pink', label='Account Balance Over Time') \n",
    "plt.title('Transfer Learning with LSTM V2 with UDR Agent Performed during 08 Financial Crisis (Time Aug 2008 - Sep 2009)')  \n",
    "plt.xlabel('Timesteps in Days')  \n",
    "plt.ylabel('Values from by trading Apple Stocks')  \n",
    "plt.legend()  \n",
    "plt.show()  "
   ]
  },
  {
   "cell_type": "code",
   "execution_count": null,
   "metadata": {},
   "outputs": [],
   "source": []
  },
  {
   "cell_type": "code",
   "execution_count": null,
   "metadata": {},
   "outputs": [],
   "source": []
  }
 ],
 "metadata": {
  "kernelspec": {
   "display_name": "Python 3",
   "language": "python",
   "name": "python3"
  },
  "language_info": {
   "codemirror_mode": {
    "name": "ipython",
    "version": 3
   },
   "file_extension": ".py",
   "mimetype": "text/x-python",
   "name": "python",
   "nbconvert_exporter": "python",
   "pygments_lexer": "ipython3",
   "version": "3.7.6"
  }
 },
 "nbformat": 4,
 "nbformat_minor": 4
}
